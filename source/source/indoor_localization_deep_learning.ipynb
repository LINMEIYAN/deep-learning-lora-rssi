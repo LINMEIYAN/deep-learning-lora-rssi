{
  "nbformat": 4,
  "nbformat_minor": 0,
  "metadata": {
    "kernelspec": {
      "name": "python3",
      "display_name": "Python 3"
    },
    "language_info": {
      "codemirror_mode": {
        "name": "ipython",
        "version": 3
      },
      "file_extension": ".py",
      "mimetype": "text/x-python",
      "name": "python",
      "nbconvert_exporter": "python",
      "pygments_lexer": "ipython3",
      "version": "3.7.1"
    },
    "colab": {
      "name": "indoor_localization_deep_learning.ipynb",
      "provenance": [],
      "collapsed_sections": [
        "Ah4HQsHAoICg",
        "cRkj1fNxpJiv",
        "uhnGNBKlqn7J",
        "Q7tZmuNEyVoe",
        "3yxSlCQ0yW51",
        "9imlY6vxvPPh"
      ],
      "machine_shape": "hm"
    },
    "accelerator": "TPU"
  },
  "cells": [
    {
      "cell_type": "markdown",
      "metadata": {
        "colab_type": "text",
        "id": "IcrMGB62xSp6"
      },
      "source": [
        "# Indoor Fingerprinting Localization based on Deep Learning"
      ]
    },
    {
      "cell_type": "code",
      "metadata": {
        "colab_type": "code",
        "id": "i22dcATCxSp8",
        "outputId": "dbc3c5fc-4b95-488e-8f9b-8e91c99fc3a6",
        "colab": {
          "base_uri": "https://localhost:8080/",
          "height": 34
        }
      },
      "source": [
        "#Jait Purohit\n",
        "\n",
        "import sklearn.feature_extraction.text as sk_text\n",
        "from sklearn import preprocessing\n",
        "from sklearn.model_selection import train_test_split\n",
        "from sklearn.linear_model import LinearRegression\n",
        "from sklearn.linear_model import LogisticRegression\n",
        "from sklearn.neighbors import KNeighborsClassifier\n",
        "from sklearn.naive_bayes import MultinomialNB\n",
        "from pandas import Series\n",
        "%matplotlib inline\n",
        "import json\n",
        "import csv\n",
        "import pandas as pd\n",
        "import keras\n",
        "from keras.layers import Dense, Dropout, Flatten\n",
        "from keras.layers import Conv2D, MaxPooling2D\n",
        "from keras.layers import Conv1D, MaxPooling1D\n",
        "import time\n",
        "import seaborn as sns\n",
        "sns.set_style('whitegrid')\n",
        "import numpy as np\n",
        "from sklearn.svm import SVC\n",
        "from sklearn.calibration import CalibratedClassifierCV\n",
        "import time\n",
        "import numpy as np\n",
        "import pandas as pd\n",
        "from scipy import stats\n",
        "import statsmodels\n",
        "import matplotlib.pyplot as plt\n",
        "import matplotlib\n",
        "import pickle\n",
        "import math\n",
        "import pandas as pd\n",
        "import numpy as np\n",
        "from sklearn.preprocessing import Imputer\n",
        "from sklearn.decomposition import PCA\n",
        "from sklearn.model_selection import train_test_split, GridSearchCV\n",
        "from sklearn.metrics import precision_score, accuracy_score\n",
        "from sklearn.linear_model import LogisticRegression\n",
        "from sklearn.tree import DecisionTreeClassifier\n",
        "import matplotlib.pyplot as plt\n",
        "\n",
        "%matplotlib inline\n",
        "\n",
        "from sklearn.model_selection import train_test_split\n",
        "\n",
        "%matplotlib inline\n",
        "\n",
        "import warnings\n",
        "warnings.filterwarnings('ignore')\n",
        "\n",
        "import seaborn as sns"
      ],
      "execution_count": 1,
      "outputs": [
        {
          "output_type": "stream",
          "text": [
            "Using TensorFlow backend.\n"
          ],
          "name": "stderr"
        }
      ]
    },
    {
      "cell_type": "code",
      "metadata": {
        "colab_type": "code",
        "id": "vkqQsA6HxSp_",
        "colab": {}
      },
      "source": [
        "import collections\n",
        "from sklearn import preprocessing\n",
        "import matplotlib.pyplot as plt\n",
        "import numpy as np\n",
        "import pandas as pd\n",
        "import shutil\n",
        "import os\n",
        "from sklearn.metrics import roc_curve, auc\n",
        "\n",
        "# Encode text values to dummy variables(i.e. [1,0,0],[0,1,0],[0,0,1] for red,green,blue)\n",
        "def encode_text_dummy(df, name):\n",
        "    dummies = pd.get_dummies(df[name])\n",
        "    for x in dummies.columns:\n",
        "        dummy_name = \"{}-{}\".format(name, x)\n",
        "        df[dummy_name] = dummies[x]\n",
        "    df.drop(name, axis=1, inplace=True)\n",
        "\n",
        "\n",
        "# Encode text values to indexes(i.e. [1],[2],[3] for red,green,blue).\n",
        "def encode_text_index(df, name):\n",
        "    le = preprocessing.LabelEncoder()\n",
        "    df[name] = le.fit_transform(df[name])\n",
        "    return le.classes_\n",
        "\n",
        "\n",
        "# Encode a numeric column as zscores\n",
        "def encode_numeric_zscore(df, name, mean=None, sd=None):\n",
        "    if mean is None:\n",
        "        mean = df[name].mean()\n",
        "\n",
        "    if sd is None:\n",
        "        sd = df[name].std()\n",
        "\n",
        "    df[name] = (df[name] - mean) / sd\n",
        "\n",
        "\n",
        "# Convert all missing values in the specified column to the median\n",
        "def missing_median(df, name):\n",
        "    med = df[name].median()\n",
        "    df[name] = df[name].fillna(med)\n",
        "\n",
        "\n",
        "# Convert all missing values in the specified column to the default\n",
        "def missing_default(df, name, default_value):\n",
        "    df[name] = df[name].fillna(default_value)\n",
        "\n",
        "\n",
        "# Convert a Pandas dataframe to the x,y inputs that TensorFlow needs\n",
        "def to_xy(df, target):\n",
        "    result = []\n",
        "    for x in df.columns:\n",
        "        if x != target:\n",
        "            result.append(x)\n",
        "    # find out the type of the target column. \n",
        "    target_type = df[target].dtypes\n",
        "    target_type = target_type[0] if isinstance(target_type, collections.Sequence) else target_type\n",
        "    # Encode to int for classification, float otherwise. TensorFlow likes 32 bits.\n",
        "    if target_type in (np.int64, np.int32):\n",
        "        # Classification\n",
        "        dummies = pd.get_dummies(df[target])\n",
        "        return df[result].values.astype(np.float32), dummies.values.astype(np.float32)\n",
        "    else:\n",
        "        # Regression\n",
        "        return df[result].values.astype(np.float32), df[target].values.astype(np.float32)\n",
        "\n",
        "# Nicely formatted time string\n",
        "def hms_string(sec_elapsed):\n",
        "    h = int(sec_elapsed / (60 * 60))\n",
        "    m = int((sec_elapsed % (60 * 60)) / 60)\n",
        "    s = sec_elapsed % 60\n",
        "    return \"{}:{:>02}:{:>05.2f}\".format(h, m, s)\n",
        "\n",
        "\n",
        "# Regression chart.\n",
        "def chart_regression(pred,y,sort=True):\n",
        "    t = pd.DataFrame({'pred' : pred, 'y' : y.flatten()})\n",
        "    if sort:\n",
        "        t.sort_values(by=['y'],inplace=True)\n",
        "    a = plt.plot(t['y'].tolist(),label='expected')\n",
        "    b = plt.plot(t['pred'].tolist(),label='prediction')\n",
        "    plt.ylabel('output')\n",
        "    plt.legend()\n",
        "    plt.show()\n",
        "\n",
        "# Remove all rows where the specified column is +/- sd standard deviations\n",
        "def remove_outliers(df, name, sd):\n",
        "    drop_rows = df.index[(np.abs(df[name] - df[name].mean()) >= (sd * df[name].std()))]\n",
        "    df.drop(drop_rows, axis=0, inplace=True)\n",
        "\n",
        "\n",
        "# Encode a column to a range between normalized_low and normalized_high.\n",
        "def encode_numeric_range(df, name, normalized_low=-1, normalized_high=1,\n",
        "                         data_low=None, data_high=None):\n",
        "    if data_low is None:\n",
        "        data_low = min(df[name])\n",
        "        data_high = max(df[name])\n",
        "\n",
        "    df[name] = ((df[name] - data_low) / (data_high - data_low)) \\\n",
        "               * (normalized_high - normalized_low) + normalized_low\n"
      ],
      "execution_count": 0,
      "outputs": []
    },
    {
      "cell_type": "code",
      "metadata": {
        "colab_type": "code",
        "id": "9d8MBNqyxSqA",
        "colab": {
          "base_uri": "https://localhost:8080/",
          "height": 122
        },
        "outputId": "20ec0dc8-0542-41e5-9b45-c9a8442acc8d"
      },
      "source": [
        "# Load the Drive helper and mount\n",
        "from google.colab import drive\n",
        "\n",
        "# This will prompt for authorization.\n",
        "drive.mount('/content/drive')\n",
        "# 4/nQGR-xdp25F2tuLBwf1kKyjtJk-HJX5C0wYX_DV2soGrEWSo-HwfH6k"
      ],
      "execution_count": 3,
      "outputs": [
        {
          "output_type": "stream",
          "text": [
            "Go to this URL in a browser: https://accounts.google.com/o/oauth2/auth?client_id=947318989803-6bn6qk8qdgf4n4g3pfee6491hc0brc4i.apps.googleusercontent.com&redirect_uri=urn%3aietf%3awg%3aoauth%3a2.0%3aoob&response_type=code&scope=email%20https%3a%2f%2fwww.googleapis.com%2fauth%2fdocs.test%20https%3a%2f%2fwww.googleapis.com%2fauth%2fdrive%20https%3a%2f%2fwww.googleapis.com%2fauth%2fdrive.photos.readonly%20https%3a%2f%2fwww.googleapis.com%2fauth%2fpeopleapi.readonly\n",
            "\n",
            "Enter your authorization code:\n",
            "··········\n",
            "Mounted at /content/drive\n"
          ],
          "name": "stdout"
        }
      ]
    },
    {
      "cell_type": "code",
      "metadata": {
        "colab_type": "code",
        "outputId": "979eb25d-622d-4cb2-b6bc-fe16a8064ef1",
        "id": "fkeu3eRzxSqB",
        "colab": {
          "base_uri": "https://localhost:8080/",
          "height": 527
        }
      },
      "source": [
        "pip install geopandas"
      ],
      "execution_count": 0,
      "outputs": [
        {
          "output_type": "stream",
          "text": [
            "Collecting geopandas\n",
            "\u001b[?25l  Downloading https://files.pythonhosted.org/packages/59/39/de0263d511d4fc35a640cf00d02e497eb60698315a22936bedbdd904d7f7/geopandas-0.6.1-py2.py3-none-any.whl (918kB)\n",
            "\u001b[K     |████████████████████████████████| 921kB 3.4MB/s \n",
            "\u001b[?25hRequirement already satisfied: pandas>=0.23.0 in /usr/local/lib/python3.6/dist-packages (from geopandas) (0.24.2)\n",
            "Collecting pyproj (from geopandas)\n",
            "\u001b[?25l  Downloading https://files.pythonhosted.org/packages/7a/b1/ab67ad924770e1c1432fa0953a665b8ea193b60c7494457b69da052d6e83/pyproj-2.4.0-cp36-cp36m-manylinux1_x86_64.whl (10.1MB)\n",
            "\u001b[K     |████████████████████████████████| 10.1MB 43.8MB/s \n",
            "\u001b[?25hCollecting fiona (from geopandas)\n",
            "\u001b[?25l  Downloading https://files.pythonhosted.org/packages/1e/cf/a1f22d87223cb4f48beecf4de6eb59e5261a7d0d073489bbe7cfe6514ae3/Fiona-1.8.8-1-cp36-cp36m-manylinux1_x86_64.whl (11.9MB)\n",
            "\u001b[K     |████████████████████████████████| 11.9MB 39.3MB/s \n",
            "\u001b[?25hRequirement already satisfied: shapely in /usr/local/lib/python3.6/dist-packages (from geopandas) (1.6.4.post2)\n",
            "Requirement already satisfied: python-dateutil>=2.5.0 in /usr/local/lib/python3.6/dist-packages (from pandas>=0.23.0->geopandas) (2.5.3)\n",
            "Requirement already satisfied: pytz>=2011k in /usr/local/lib/python3.6/dist-packages (from pandas>=0.23.0->geopandas) (2018.9)\n",
            "Requirement already satisfied: numpy>=1.12.0 in /usr/local/lib/python3.6/dist-packages (from pandas>=0.23.0->geopandas) (1.16.5)\n",
            "Collecting click-plugins>=1.0 (from fiona->geopandas)\n",
            "  Downloading https://files.pythonhosted.org/packages/e9/da/824b92d9942f4e472702488857914bdd50f73021efea15b4cad9aca8ecef/click_plugins-1.1.1-py2.py3-none-any.whl\n",
            "Collecting cligj>=0.5 (from fiona->geopandas)\n",
            "  Downloading https://files.pythonhosted.org/packages/e4/be/30a58b4b0733850280d01f8bd132591b4668ed5c7046761098d665ac2174/cligj-0.5.0-py3-none-any.whl\n",
            "Requirement already satisfied: attrs>=17 in /usr/local/lib/python3.6/dist-packages (from fiona->geopandas) (19.2.0)\n",
            "Requirement already satisfied: click<8,>=4.0 in /usr/local/lib/python3.6/dist-packages (from fiona->geopandas) (7.0)\n",
            "Requirement already satisfied: six>=1.7 in /usr/local/lib/python3.6/dist-packages (from fiona->geopandas) (1.12.0)\n",
            "Collecting munch (from fiona->geopandas)\n",
            "  Downloading https://files.pythonhosted.org/packages/68/f4/260ec98ea840757a0da09e0ed8135333d59b8dfebe9752a365b04857660a/munch-2.3.2.tar.gz\n",
            "Building wheels for collected packages: munch\n",
            "  Building wheel for munch (setup.py) ... \u001b[?25l\u001b[?25hdone\n",
            "  Created wheel for munch: filename=munch-2.3.2-py2.py3-none-any.whl size=6614 sha256=c4f97dcb15c7fb1f9b21f1b0d2b7e5bf6f3da503ec96db830334c296211f4a4e\n",
            "  Stored in directory: /root/.cache/pip/wheels/db/bf/bc/06a3e1bfe0ab27d2e720ceb3cff3159398d92644c0cec2c125\n",
            "Successfully built munch\n",
            "Installing collected packages: pyproj, click-plugins, cligj, munch, fiona, geopandas\n",
            "Successfully installed click-plugins-1.1.1 cligj-0.5.0 fiona-1.8.8 geopandas-0.6.1 munch-2.3.2 pyproj-2.4.0\n"
          ],
          "name": "stdout"
        }
      ]
    },
    {
      "cell_type": "code",
      "metadata": {
        "colab_type": "code",
        "id": "nJnV56hTxSqD",
        "colab": {}
      },
      "source": [
        "# Load all importance packages\n",
        "import geopandas\n",
        "import numpy as np\n",
        "import pandas as pd\n",
        "from shapely.geometry import Point\n",
        "\n",
        "import missingno as msn\n",
        "\n",
        "import seaborn as sns\n",
        "import matplotlib.pyplot as plt"
      ],
      "execution_count": 0,
      "outputs": []
    },
    {
      "cell_type": "code",
      "metadata": {
        "colab_type": "code",
        "id": "ZOLW9vzoxSqE",
        "colab": {}
      },
      "source": [
        ""
      ],
      "execution_count": 0,
      "outputs": []
    },
    {
      "cell_type": "markdown",
      "metadata": {
        "colab_type": "text",
        "id": "87paePv-xSqF"
      },
      "source": [
        "## Deep Learning Algorithms to Estimate/Predict Location"
      ]
    },
    {
      "cell_type": "code",
      "metadata": {
        "colab_type": "code",
        "id": "fkGKp4IqxSqG",
        "colab": {}
      },
      "source": [
        ""
      ],
      "execution_count": 0,
      "outputs": []
    },
    {
      "cell_type": "code",
      "metadata": {
        "colab_type": "code",
        "id": "-JuNYi2vxSqH",
        "colab": {}
      },
      "source": [
        "prob_ori_df = pd.read_csv('/content/drive/My Drive/Colab Notebooks/masters_project/indoor_rvr_3rd_floor_data copy 2 (1).csv')"
      ],
      "execution_count": 0,
      "outputs": []
    },
    {
      "cell_type": "code",
      "metadata": {
        "colab_type": "code",
        "outputId": "02b3a66a-9517-432c-a30b-57f6ca38ecd7",
        "id": "EanFLndLxSqJ",
        "colab": {
          "base_uri": "https://localhost:8080/",
          "height": 359
        }
      },
      "source": [
        "prob_ori_df.sample(10)"
      ],
      "execution_count": 5,
      "outputs": [
        {
          "output_type": "execute_result",
          "data": {
            "text/html": [
              "<div>\n",
              "<style scoped>\n",
              "    .dataframe tbody tr th:only-of-type {\n",
              "        vertical-align: middle;\n",
              "    }\n",
              "\n",
              "    .dataframe tbody tr th {\n",
              "        vertical-align: top;\n",
              "    }\n",
              "\n",
              "    .dataframe thead th {\n",
              "        text-align: right;\n",
              "    }\n",
              "</style>\n",
              "<table border=\"1\" class=\"dataframe\">\n",
              "  <thead>\n",
              "    <tr style=\"text-align: right;\">\n",
              "      <th></th>\n",
              "      <th>'BS 1'</th>\n",
              "      <th>'BS 2'</th>\n",
              "      <th>'SF'</th>\n",
              "      <th>'HDOP'</th>\n",
              "      <th>latitude</th>\n",
              "      <th>longitude</th>\n",
              "    </tr>\n",
              "  </thead>\n",
              "  <tbody>\n",
              "    <tr>\n",
              "      <th>50</th>\n",
              "      <td>-75</td>\n",
              "      <td>-70</td>\n",
              "      <td>10</td>\n",
              "      <td>2.789000</td>\n",
              "      <td>-9.0</td>\n",
              "      <td>-2.5</td>\n",
              "    </tr>\n",
              "    <tr>\n",
              "      <th>43</th>\n",
              "      <td>-65</td>\n",
              "      <td>-63</td>\n",
              "      <td>10</td>\n",
              "      <td>3.714600</td>\n",
              "      <td>-6.5</td>\n",
              "      <td>-2.5</td>\n",
              "    </tr>\n",
              "    <tr>\n",
              "      <th>22</th>\n",
              "      <td>-58</td>\n",
              "      <td>-57</td>\n",
              "      <td>7</td>\n",
              "      <td>1.100000</td>\n",
              "      <td>-2.0</td>\n",
              "      <td>-2.5</td>\n",
              "    </tr>\n",
              "    <tr>\n",
              "      <th>57</th>\n",
              "      <td>-79</td>\n",
              "      <td>-77</td>\n",
              "      <td>12</td>\n",
              "      <td>6.246500</td>\n",
              "      <td>-10.0</td>\n",
              "      <td>-2.5</td>\n",
              "    </tr>\n",
              "    <tr>\n",
              "      <th>48</th>\n",
              "      <td>-71</td>\n",
              "      <td>-70</td>\n",
              "      <td>9</td>\n",
              "      <td>0.640000</td>\n",
              "      <td>-7.5</td>\n",
              "      <td>-2.5</td>\n",
              "    </tr>\n",
              "    <tr>\n",
              "      <th>60</th>\n",
              "      <td>-81</td>\n",
              "      <td>-79</td>\n",
              "      <td>7</td>\n",
              "      <td>4.563200</td>\n",
              "      <td>-11.0</td>\n",
              "      <td>-2.5</td>\n",
              "    </tr>\n",
              "    <tr>\n",
              "      <th>61</th>\n",
              "      <td>-83</td>\n",
              "      <td>-79</td>\n",
              "      <td>7</td>\n",
              "      <td>4.563200</td>\n",
              "      <td>-11.0</td>\n",
              "      <td>-2.5</td>\n",
              "    </tr>\n",
              "    <tr>\n",
              "      <th>74</th>\n",
              "      <td>-83</td>\n",
              "      <td>-81</td>\n",
              "      <td>10</td>\n",
              "      <td>4.752340</td>\n",
              "      <td>-12.0</td>\n",
              "      <td>-1.5</td>\n",
              "    </tr>\n",
              "    <tr>\n",
              "      <th>8</th>\n",
              "      <td>-52</td>\n",
              "      <td>-52</td>\n",
              "      <td>7</td>\n",
              "      <td>1.050000</td>\n",
              "      <td>0.0</td>\n",
              "      <td>-1.0</td>\n",
              "    </tr>\n",
              "    <tr>\n",
              "      <th>65</th>\n",
              "      <td>-79</td>\n",
              "      <td>-81</td>\n",
              "      <td>8</td>\n",
              "      <td>5.725311</td>\n",
              "      <td>-12.0</td>\n",
              "      <td>-2.5</td>\n",
              "    </tr>\n",
              "  </tbody>\n",
              "</table>\n",
              "</div>"
            ],
            "text/plain": [
              "    'BS 1'  'BS 2'  'SF'    'HDOP'  latitude  longitude\n",
              "50     -75     -70    10  2.789000      -9.0       -2.5\n",
              "43     -65     -63    10  3.714600      -6.5       -2.5\n",
              "22     -58     -57     7  1.100000      -2.0       -2.5\n",
              "57     -79     -77    12  6.246500     -10.0       -2.5\n",
              "48     -71     -70     9  0.640000      -7.5       -2.5\n",
              "60     -81     -79     7  4.563200     -11.0       -2.5\n",
              "61     -83     -79     7  4.563200     -11.0       -2.5\n",
              "74     -83     -81    10  4.752340     -12.0       -1.5\n",
              "8      -52     -52     7  1.050000       0.0       -1.0\n",
              "65     -79     -81     8  5.725311     -12.0       -2.5"
            ]
          },
          "metadata": {
            "tags": []
          },
          "execution_count": 5
        }
      ]
    },
    {
      "cell_type": "code",
      "metadata": {
        "colab_type": "code",
        "id": "KG8ZxjbIxSqK",
        "colab": {}
      },
      "source": [
        "prob_df1 = prob_ori_df[[\"'BS 1'\",\"'BS 2'\",\"'SF'\",\"'HDOP'\",'latitude','longitude']]"
      ],
      "execution_count": 0,
      "outputs": []
    },
    {
      "cell_type": "code",
      "metadata": {
        "colab_type": "code",
        "outputId": "5380bee9-67ff-4d1c-b6f4-0e327008e965",
        "id": "PWnkTafPxSqP",
        "colab": {
          "base_uri": "https://localhost:8080/",
          "height": 204
        }
      },
      "source": [
        "prob_df1.head()"
      ],
      "execution_count": 7,
      "outputs": [
        {
          "output_type": "execute_result",
          "data": {
            "text/html": [
              "<div>\n",
              "<style scoped>\n",
              "    .dataframe tbody tr th:only-of-type {\n",
              "        vertical-align: middle;\n",
              "    }\n",
              "\n",
              "    .dataframe tbody tr th {\n",
              "        vertical-align: top;\n",
              "    }\n",
              "\n",
              "    .dataframe thead th {\n",
              "        text-align: right;\n",
              "    }\n",
              "</style>\n",
              "<table border=\"1\" class=\"dataframe\">\n",
              "  <thead>\n",
              "    <tr style=\"text-align: right;\">\n",
              "      <th></th>\n",
              "      <th>'BS 1'</th>\n",
              "      <th>'BS 2'</th>\n",
              "      <th>'SF'</th>\n",
              "      <th>'HDOP'</th>\n",
              "      <th>latitude</th>\n",
              "      <th>longitude</th>\n",
              "    </tr>\n",
              "  </thead>\n",
              "  <tbody>\n",
              "    <tr>\n",
              "      <th>0</th>\n",
              "      <td>-49</td>\n",
              "      <td>-51</td>\n",
              "      <td>7</td>\n",
              "      <td>0.6</td>\n",
              "      <td>0.0</td>\n",
              "      <td>0.0</td>\n",
              "    </tr>\n",
              "    <tr>\n",
              "      <th>1</th>\n",
              "      <td>-49</td>\n",
              "      <td>-51</td>\n",
              "      <td>7</td>\n",
              "      <td>0.6</td>\n",
              "      <td>0.0</td>\n",
              "      <td>0.0</td>\n",
              "    </tr>\n",
              "    <tr>\n",
              "      <th>2</th>\n",
              "      <td>-49</td>\n",
              "      <td>-51</td>\n",
              "      <td>7</td>\n",
              "      <td>0.6</td>\n",
              "      <td>0.0</td>\n",
              "      <td>0.0</td>\n",
              "    </tr>\n",
              "    <tr>\n",
              "      <th>3</th>\n",
              "      <td>-49</td>\n",
              "      <td>-50</td>\n",
              "      <td>8</td>\n",
              "      <td>0.6</td>\n",
              "      <td>0.0</td>\n",
              "      <td>0.0</td>\n",
              "    </tr>\n",
              "    <tr>\n",
              "      <th>4</th>\n",
              "      <td>-50</td>\n",
              "      <td>-50</td>\n",
              "      <td>8</td>\n",
              "      <td>0.6</td>\n",
              "      <td>0.0</td>\n",
              "      <td>0.0</td>\n",
              "    </tr>\n",
              "  </tbody>\n",
              "</table>\n",
              "</div>"
            ],
            "text/plain": [
              "   'BS 1'  'BS 2'  'SF'  'HDOP'  latitude  longitude\n",
              "0     -49     -51     7     0.6       0.0        0.0\n",
              "1     -49     -51     7     0.6       0.0        0.0\n",
              "2     -49     -51     7     0.6       0.0        0.0\n",
              "3     -49     -50     8     0.6       0.0        0.0\n",
              "4     -50     -50     8     0.6       0.0        0.0"
            ]
          },
          "metadata": {
            "tags": []
          },
          "execution_count": 7
        }
      ]
    },
    {
      "cell_type": "code",
      "metadata": {
        "colab_type": "code",
        "id": "YNEEUSWwxSqR",
        "colab": {}
      },
      "source": [
        "max = prob_df1[\"'BS 1'\"].max()\n",
        "min = prob_df1[\"'BS 1'\"].min()\n",
        "prob_df1['normalized_bs1'] = (prob_df1[\"'BS 1'\"] - min)/(max - min)"
      ],
      "execution_count": 0,
      "outputs": []
    },
    {
      "cell_type": "code",
      "metadata": {
        "colab_type": "code",
        "id": "hvqEFJCbxSqT",
        "colab": {}
      },
      "source": [
        "max = prob_df1[\"'BS 2'\"].max()\n",
        "min = prob_df1[\"'BS 2'\"].min()\n",
        "prob_df1['normalized_bs2'] = (prob_df1[\"'BS 2'\"] - min)/(max - min)"
      ],
      "execution_count": 0,
      "outputs": []
    },
    {
      "cell_type": "code",
      "metadata": {
        "colab_type": "code",
        "id": "ynqR_KyxxSqU",
        "colab": {}
      },
      "source": [
        "max = prob_df1[\"'SF'\"].max()\n",
        "min = prob_df1[\"'SF'\"].min()\n",
        "prob_df1['normalized_sf'] = (prob_df1[\"'SF'\"] - min)/(max - min)"
      ],
      "execution_count": 0,
      "outputs": []
    },
    {
      "cell_type": "code",
      "metadata": {
        "colab_type": "code",
        "id": "Z5hcwWyBxSqV",
        "colab": {}
      },
      "source": [
        "max = prob_df1[\"'HDOP'\"].max()\n",
        "min = prob_df1[\"'HDOP'\"].min()\n",
        "prob_df1['normalized_hdop'] = (prob_df1[\"'HDOP'\"] - min)/(max - min)"
      ],
      "execution_count": 0,
      "outputs": []
    },
    {
      "cell_type": "code",
      "metadata": {
        "colab_type": "code",
        "outputId": "fab9be18-a184-41fa-daba-c4553b7e306f",
        "id": "ZJQOFWmKxSqa",
        "colab": {
          "base_uri": "https://localhost:8080/",
          "height": 399
        }
      },
      "source": [
        "import pandas as pd\n",
        "import seaborn as sns\n",
        "import matplotlib.pyplot as plt\n",
        "\n",
        "plt.figure(figsize=(7,5))\n",
        "sns.heatmap(prob_df1.corr());"
      ],
      "execution_count": 12,
      "outputs": [
        {
          "output_type": "display_data",
          "data": {
            "image/png": "[encoded data removed]",
            "text/plain": [
              "<Figure size 504x360 with 2 Axes>"
            ]
          },
          "metadata": {
            "tags": []
          }
        }
      ]
    },
    {
      "cell_type": "code",
      "metadata": {
        "colab_type": "code",
        "outputId": "1a1d43cc-b075-4bbb-ef1d-920a4c9d3ac0",
        "id": "MIXqOsdVxSqc",
        "colab": {
          "base_uri": "https://localhost:8080/",
          "height": 204
        }
      },
      "source": [
        "prob_df1.head()"
      ],
      "execution_count": 13,
      "outputs": [
        {
          "output_type": "execute_result",
          "data": {
            "text/html": [
              "<div>\n",
              "<style scoped>\n",
              "    .dataframe tbody tr th:only-of-type {\n",
              "        vertical-align: middle;\n",
              "    }\n",
              "\n",
              "    .dataframe tbody tr th {\n",
              "        vertical-align: top;\n",
              "    }\n",
              "\n",
              "    .dataframe thead th {\n",
              "        text-align: right;\n",
              "    }\n",
              "</style>\n",
              "<table border=\"1\" class=\"dataframe\">\n",
              "  <thead>\n",
              "    <tr style=\"text-align: right;\">\n",
              "      <th></th>\n",
              "      <th>'BS 1'</th>\n",
              "      <th>'BS 2'</th>\n",
              "      <th>'SF'</th>\n",
              "      <th>'HDOP'</th>\n",
              "      <th>latitude</th>\n",
              "      <th>longitude</th>\n",
              "      <th>normalized_bs1</th>\n",
              "      <th>normalized_bs2</th>\n",
              "      <th>normalized_sf</th>\n",
              "      <th>normalized_hdop</th>\n",
              "    </tr>\n",
              "  </thead>\n",
              "  <tbody>\n",
              "    <tr>\n",
              "      <th>0</th>\n",
              "      <td>-49</td>\n",
              "      <td>-51</td>\n",
              "      <td>7</td>\n",
              "      <td>0.6</td>\n",
              "      <td>0.0</td>\n",
              "      <td>0.0</td>\n",
              "      <td>1.000000</td>\n",
              "      <td>0.977778</td>\n",
              "      <td>0.166667</td>\n",
              "      <td>0.0</td>\n",
              "    </tr>\n",
              "    <tr>\n",
              "      <th>1</th>\n",
              "      <td>-49</td>\n",
              "      <td>-51</td>\n",
              "      <td>7</td>\n",
              "      <td>0.6</td>\n",
              "      <td>0.0</td>\n",
              "      <td>0.0</td>\n",
              "      <td>1.000000</td>\n",
              "      <td>0.977778</td>\n",
              "      <td>0.166667</td>\n",
              "      <td>0.0</td>\n",
              "    </tr>\n",
              "    <tr>\n",
              "      <th>2</th>\n",
              "      <td>-49</td>\n",
              "      <td>-51</td>\n",
              "      <td>7</td>\n",
              "      <td>0.6</td>\n",
              "      <td>0.0</td>\n",
              "      <td>0.0</td>\n",
              "      <td>1.000000</td>\n",
              "      <td>0.977778</td>\n",
              "      <td>0.166667</td>\n",
              "      <td>0.0</td>\n",
              "    </tr>\n",
              "    <tr>\n",
              "      <th>3</th>\n",
              "      <td>-49</td>\n",
              "      <td>-50</td>\n",
              "      <td>8</td>\n",
              "      <td>0.6</td>\n",
              "      <td>0.0</td>\n",
              "      <td>0.0</td>\n",
              "      <td>1.000000</td>\n",
              "      <td>1.000000</td>\n",
              "      <td>0.333333</td>\n",
              "      <td>0.0</td>\n",
              "    </tr>\n",
              "    <tr>\n",
              "      <th>4</th>\n",
              "      <td>-50</td>\n",
              "      <td>-50</td>\n",
              "      <td>8</td>\n",
              "      <td>0.6</td>\n",
              "      <td>0.0</td>\n",
              "      <td>0.0</td>\n",
              "      <td>0.978261</td>\n",
              "      <td>1.000000</td>\n",
              "      <td>0.333333</td>\n",
              "      <td>0.0</td>\n",
              "    </tr>\n",
              "  </tbody>\n",
              "</table>\n",
              "</div>"
            ],
            "text/plain": [
              "   'BS 1'  'BS 2'  'SF'  ...  normalized_bs2  normalized_sf  normalized_hdop\n",
              "0     -49     -51     7  ...        0.977778       0.166667              0.0\n",
              "1     -49     -51     7  ...        0.977778       0.166667              0.0\n",
              "2     -49     -51     7  ...        0.977778       0.166667              0.0\n",
              "3     -49     -50     8  ...        1.000000       0.333333              0.0\n",
              "4     -50     -50     8  ...        1.000000       0.333333              0.0\n",
              "\n",
              "[5 rows x 10 columns]"
            ]
          },
          "metadata": {
            "tags": []
          },
          "execution_count": 13
        }
      ]
    },
    {
      "cell_type": "code",
      "metadata": {
        "id": "vfTjKVYSXLos",
        "colab_type": "code",
        "colab": {}
      },
      "source": [
        "encode_numeric_zscore(prob_df1, 'latitude', mean=None, sd=None)"
      ],
      "execution_count": 0,
      "outputs": []
    },
    {
      "cell_type": "code",
      "metadata": {
        "id": "6K8VjSQ_XTAm",
        "colab_type": "code",
        "colab": {}
      },
      "source": [
        "encode_numeric_zscore(prob_df1, 'longitude', mean=None, sd=None)"
      ],
      "execution_count": 0,
      "outputs": []
    },
    {
      "cell_type": "code",
      "metadata": {
        "colab_type": "code",
        "outputId": "7fc5d69c-c60f-46f7-d1b3-fc15060b1e0c",
        "id": "8iUvM5evxSqf",
        "colab": {
          "base_uri": "https://localhost:8080/",
          "height": 34
        }
      },
      "source": [
        "traincols = prob_df1.columns.tolist() \n",
        "traincols.remove('latitude')\n",
        "traincols.remove('longitude')\n",
        "#traincols.remove('normalized_latitude')\n",
        "#traincols.remove('normalized_longitude')\n",
        "traincols.remove(\"'BS 1'\")\n",
        "traincols.remove(\"'BS 2'\")\n",
        "traincols.remove(\"'SF'\")\n",
        "traincols.remove(\"'HDOP'\")\n",
        "#traincols.remove('distance')\n",
        "len(traincols)"
      ],
      "execution_count": 16,
      "outputs": [
        {
          "output_type": "execute_result",
          "data": {
            "text/plain": [
              "4"
            ]
          },
          "metadata": {
            "tags": []
          },
          "execution_count": 16
        }
      ]
    },
    {
      "cell_type": "code",
      "metadata": {
        "id": "KgtawoigrwQ5",
        "colab_type": "code",
        "outputId": "1ac6d8be-4741-4aa1-8ca0-8379f97edeeb",
        "colab": {
          "base_uri": "https://localhost:8080/",
          "height": 34
        }
      },
      "source": [
        "traincols"
      ],
      "execution_count": 17,
      "outputs": [
        {
          "output_type": "execute_result",
          "data": {
            "text/plain": [
              "['normalized_bs1', 'normalized_bs2', 'normalized_sf', 'normalized_hdop']"
            ]
          },
          "metadata": {
            "tags": []
          },
          "execution_count": 17
        }
      ]
    },
    {
      "cell_type": "code",
      "metadata": {
        "colab_type": "code",
        "id": "dTBHijISxSqg",
        "colab": {}
      },
      "source": [
        "columns_X = traincols\n",
        "x = prob_df1[columns_X]\n",
        "columns_y = ['latitude','longitude']\n",
        "y = prob_df1[columns_y]"
      ],
      "execution_count": 0,
      "outputs": []
    },
    {
      "cell_type": "code",
      "metadata": {
        "colab_type": "code",
        "outputId": "7e43b3a6-6c85-4cd1-dfd0-07cda307a528",
        "id": "6_yOGJ69xSqh",
        "colab": {
          "base_uri": "https://localhost:8080/",
          "height": 204
        }
      },
      "source": [
        "x.head()"
      ],
      "execution_count": 19,
      "outputs": [
        {
          "output_type": "execute_result",
          "data": {
            "text/html": [
              "<div>\n",
              "<style scoped>\n",
              "    .dataframe tbody tr th:only-of-type {\n",
              "        vertical-align: middle;\n",
              "    }\n",
              "\n",
              "    .dataframe tbody tr th {\n",
              "        vertical-align: top;\n",
              "    }\n",
              "\n",
              "    .dataframe thead th {\n",
              "        text-align: right;\n",
              "    }\n",
              "</style>\n",
              "<table border=\"1\" class=\"dataframe\">\n",
              "  <thead>\n",
              "    <tr style=\"text-align: right;\">\n",
              "      <th></th>\n",
              "      <th>normalized_bs1</th>\n",
              "      <th>normalized_bs2</th>\n",
              "      <th>normalized_sf</th>\n",
              "      <th>normalized_hdop</th>\n",
              "    </tr>\n",
              "  </thead>\n",
              "  <tbody>\n",
              "    <tr>\n",
              "      <th>0</th>\n",
              "      <td>1.000000</td>\n",
              "      <td>0.977778</td>\n",
              "      <td>0.166667</td>\n",
              "      <td>0.0</td>\n",
              "    </tr>\n",
              "    <tr>\n",
              "      <th>1</th>\n",
              "      <td>1.000000</td>\n",
              "      <td>0.977778</td>\n",
              "      <td>0.166667</td>\n",
              "      <td>0.0</td>\n",
              "    </tr>\n",
              "    <tr>\n",
              "      <th>2</th>\n",
              "      <td>1.000000</td>\n",
              "      <td>0.977778</td>\n",
              "      <td>0.166667</td>\n",
              "      <td>0.0</td>\n",
              "    </tr>\n",
              "    <tr>\n",
              "      <th>3</th>\n",
              "      <td>1.000000</td>\n",
              "      <td>1.000000</td>\n",
              "      <td>0.333333</td>\n",
              "      <td>0.0</td>\n",
              "    </tr>\n",
              "    <tr>\n",
              "      <th>4</th>\n",
              "      <td>0.978261</td>\n",
              "      <td>1.000000</td>\n",
              "      <td>0.333333</td>\n",
              "      <td>0.0</td>\n",
              "    </tr>\n",
              "  </tbody>\n",
              "</table>\n",
              "</div>"
            ],
            "text/plain": [
              "   normalized_bs1  normalized_bs2  normalized_sf  normalized_hdop\n",
              "0        1.000000        0.977778       0.166667              0.0\n",
              "1        1.000000        0.977778       0.166667              0.0\n",
              "2        1.000000        0.977778       0.166667              0.0\n",
              "3        1.000000        1.000000       0.333333              0.0\n",
              "4        0.978261        1.000000       0.333333              0.0"
            ]
          },
          "metadata": {
            "tags": []
          },
          "execution_count": 19
        }
      ]
    },
    {
      "cell_type": "code",
      "metadata": {
        "colab_type": "code",
        "outputId": "44fc1059-000d-4898-e58c-0fcd818158ac",
        "id": "MAeVfFesxSqi",
        "colab": {
          "base_uri": "https://localhost:8080/",
          "height": 359
        }
      },
      "source": [
        "y.head(10)"
      ],
      "execution_count": 20,
      "outputs": [
        {
          "output_type": "execute_result",
          "data": {
            "text/html": [
              "<div>\n",
              "<style scoped>\n",
              "    .dataframe tbody tr th:only-of-type {\n",
              "        vertical-align: middle;\n",
              "    }\n",
              "\n",
              "    .dataframe tbody tr th {\n",
              "        vertical-align: top;\n",
              "    }\n",
              "\n",
              "    .dataframe thead th {\n",
              "        text-align: right;\n",
              "    }\n",
              "</style>\n",
              "<table border=\"1\" class=\"dataframe\">\n",
              "  <thead>\n",
              "    <tr style=\"text-align: right;\">\n",
              "      <th></th>\n",
              "      <th>latitude</th>\n",
              "      <th>longitude</th>\n",
              "    </tr>\n",
              "  </thead>\n",
              "  <tbody>\n",
              "    <tr>\n",
              "      <th>0</th>\n",
              "      <td>1.563657</td>\n",
              "      <td>0.244479</td>\n",
              "    </tr>\n",
              "    <tr>\n",
              "      <th>1</th>\n",
              "      <td>1.563657</td>\n",
              "      <td>0.244479</td>\n",
              "    </tr>\n",
              "    <tr>\n",
              "      <th>2</th>\n",
              "      <td>1.563657</td>\n",
              "      <td>0.244479</td>\n",
              "    </tr>\n",
              "    <tr>\n",
              "      <th>3</th>\n",
              "      <td>1.563657</td>\n",
              "      <td>0.244479</td>\n",
              "    </tr>\n",
              "    <tr>\n",
              "      <th>4</th>\n",
              "      <td>1.563657</td>\n",
              "      <td>0.244479</td>\n",
              "    </tr>\n",
              "    <tr>\n",
              "      <th>5</th>\n",
              "      <td>1.563657</td>\n",
              "      <td>-0.122240</td>\n",
              "    </tr>\n",
              "    <tr>\n",
              "      <th>6</th>\n",
              "      <td>1.563657</td>\n",
              "      <td>-0.122240</td>\n",
              "    </tr>\n",
              "    <tr>\n",
              "      <th>7</th>\n",
              "      <td>1.563657</td>\n",
              "      <td>-0.122240</td>\n",
              "    </tr>\n",
              "    <tr>\n",
              "      <th>8</th>\n",
              "      <td>1.563657</td>\n",
              "      <td>-0.122240</td>\n",
              "    </tr>\n",
              "    <tr>\n",
              "      <th>9</th>\n",
              "      <td>1.563657</td>\n",
              "      <td>-0.122240</td>\n",
              "    </tr>\n",
              "  </tbody>\n",
              "</table>\n",
              "</div>"
            ],
            "text/plain": [
              "   latitude  longitude\n",
              "0  1.563657   0.244479\n",
              "1  1.563657   0.244479\n",
              "2  1.563657   0.244479\n",
              "3  1.563657   0.244479\n",
              "4  1.563657   0.244479\n",
              "5  1.563657  -0.122240\n",
              "6  1.563657  -0.122240\n",
              "7  1.563657  -0.122240\n",
              "8  1.563657  -0.122240\n",
              "9  1.563657  -0.122240"
            ]
          },
          "metadata": {
            "tags": []
          },
          "execution_count": 20
        }
      ]
    },
    {
      "cell_type": "code",
      "metadata": {
        "colab_type": "code",
        "id": "W6LtmJWCxSqj",
        "colab": {}
      },
      "source": [
        "def plot_confusion_matrix(cm, names, title='Confusion matrix', cmap=plt.cm.Blues):\n",
        "    plt.imshow(cm, interpolation='nearest', cmap=cmap)\n",
        "    plt.title(title)\n",
        "    plt.colorbar()\n",
        "    tick_marks = np.arange(len(names))\n",
        "    plt.xticks(tick_marks, names, rotation=45)\n",
        "    plt.yticks(tick_marks, names)\n",
        "    plt.tight_layout()\n",
        "    plt.ylabel('True label')\n",
        "    plt.xlabel('Predicted label')"
      ],
      "execution_count": 0,
      "outputs": []
    },
    {
      "cell_type": "code",
      "metadata": {
        "colab_type": "code",
        "id": "LOW4-gJCxSql",
        "colab": {}
      },
      "source": [
        "from sklearn.metrics import confusion_matrix, classification_report\n",
        "from sklearn.metrics import confusion_matrix\n",
        "def print_report(y_pred,y_true):\n",
        "    print(\"Accuracy: \", metrics.accuracy_score(y_true,y_pred))\n",
        "    print(\"Precision: \", metrics.precision_score(y_true,y_pred, pos_label=1, average='weighted'))\n",
        "    print(\"Recall: \", metrics.recall_score(y_true,y_pred, pos_label=1, average='weighted'))\n",
        "    print(\"F1_Score: \", metrics.f1_score(y_true,y_pred, pos_label=1, average='weighted'))\n",
        "    cm = confusion_matrix(y_true, y_pred)\n",
        "    print(cm)\n",
        "    outcome = encode_text_index(prob_df1,'longitude','latitude')\n",
        "    print('Plotting confusion matrix')\n",
        "    plt.figure()\n",
        "    plot_confusion_matrix(cm, outcome)\n",
        "    plt.show()\n",
        "    print(classification_report(y_true, y_pred))"
      ],
      "execution_count": 0,
      "outputs": []
    },
    {
      "cell_type": "code",
      "metadata": {
        "colab_type": "code",
        "outputId": "f0a6006b-6b15-4e66-8f62-2c0ff1454062",
        "id": "wNbMqIuGxSql",
        "colab": {
          "base_uri": "https://localhost:8080/",
          "height": 34
        }
      },
      "source": [
        "prob_df1.shape"
      ],
      "execution_count": 23,
      "outputs": [
        {
          "output_type": "execute_result",
          "data": {
            "text/plain": [
              "(105, 10)"
            ]
          },
          "metadata": {
            "tags": []
          },
          "execution_count": 23
        }
      ]
    },
    {
      "cell_type": "code",
      "metadata": {
        "colab_type": "code",
        "outputId": "c42ee209-66a6-4357-8d46-861279e2e1d4",
        "id": "TA674KO7xSqn",
        "colab": {
          "base_uri": "https://localhost:8080/",
          "height": 204
        }
      },
      "source": [
        "prob_df1.head()"
      ],
      "execution_count": 24,
      "outputs": [
        {
          "output_type": "execute_result",
          "data": {
            "text/html": [
              "<div>\n",
              "<style scoped>\n",
              "    .dataframe tbody tr th:only-of-type {\n",
              "        vertical-align: middle;\n",
              "    }\n",
              "\n",
              "    .dataframe tbody tr th {\n",
              "        vertical-align: top;\n",
              "    }\n",
              "\n",
              "    .dataframe thead th {\n",
              "        text-align: right;\n",
              "    }\n",
              "</style>\n",
              "<table border=\"1\" class=\"dataframe\">\n",
              "  <thead>\n",
              "    <tr style=\"text-align: right;\">\n",
              "      <th></th>\n",
              "      <th>'BS 1'</th>\n",
              "      <th>'BS 2'</th>\n",
              "      <th>'SF'</th>\n",
              "      <th>'HDOP'</th>\n",
              "      <th>latitude</th>\n",
              "      <th>longitude</th>\n",
              "      <th>normalized_bs1</th>\n",
              "      <th>normalized_bs2</th>\n",
              "      <th>normalized_sf</th>\n",
              "      <th>normalized_hdop</th>\n",
              "    </tr>\n",
              "  </thead>\n",
              "  <tbody>\n",
              "    <tr>\n",
              "      <th>0</th>\n",
              "      <td>-49</td>\n",
              "      <td>-51</td>\n",
              "      <td>7</td>\n",
              "      <td>0.6</td>\n",
              "      <td>1.563657</td>\n",
              "      <td>0.244479</td>\n",
              "      <td>1.000000</td>\n",
              "      <td>0.977778</td>\n",
              "      <td>0.166667</td>\n",
              "      <td>0.0</td>\n",
              "    </tr>\n",
              "    <tr>\n",
              "      <th>1</th>\n",
              "      <td>-49</td>\n",
              "      <td>-51</td>\n",
              "      <td>7</td>\n",
              "      <td>0.6</td>\n",
              "      <td>1.563657</td>\n",
              "      <td>0.244479</td>\n",
              "      <td>1.000000</td>\n",
              "      <td>0.977778</td>\n",
              "      <td>0.166667</td>\n",
              "      <td>0.0</td>\n",
              "    </tr>\n",
              "    <tr>\n",
              "      <th>2</th>\n",
              "      <td>-49</td>\n",
              "      <td>-51</td>\n",
              "      <td>7</td>\n",
              "      <td>0.6</td>\n",
              "      <td>1.563657</td>\n",
              "      <td>0.244479</td>\n",
              "      <td>1.000000</td>\n",
              "      <td>0.977778</td>\n",
              "      <td>0.166667</td>\n",
              "      <td>0.0</td>\n",
              "    </tr>\n",
              "    <tr>\n",
              "      <th>3</th>\n",
              "      <td>-49</td>\n",
              "      <td>-50</td>\n",
              "      <td>8</td>\n",
              "      <td>0.6</td>\n",
              "      <td>1.563657</td>\n",
              "      <td>0.244479</td>\n",
              "      <td>1.000000</td>\n",
              "      <td>1.000000</td>\n",
              "      <td>0.333333</td>\n",
              "      <td>0.0</td>\n",
              "    </tr>\n",
              "    <tr>\n",
              "      <th>4</th>\n",
              "      <td>-50</td>\n",
              "      <td>-50</td>\n",
              "      <td>8</td>\n",
              "      <td>0.6</td>\n",
              "      <td>1.563657</td>\n",
              "      <td>0.244479</td>\n",
              "      <td>0.978261</td>\n",
              "      <td>1.000000</td>\n",
              "      <td>0.333333</td>\n",
              "      <td>0.0</td>\n",
              "    </tr>\n",
              "  </tbody>\n",
              "</table>\n",
              "</div>"
            ],
            "text/plain": [
              "   'BS 1'  'BS 2'  'SF'  ...  normalized_bs2  normalized_sf  normalized_hdop\n",
              "0     -49     -51     7  ...        0.977778       0.166667              0.0\n",
              "1     -49     -51     7  ...        0.977778       0.166667              0.0\n",
              "2     -49     -51     7  ...        0.977778       0.166667              0.0\n",
              "3     -49     -50     8  ...        1.000000       0.333333              0.0\n",
              "4     -50     -50     8  ...        1.000000       0.333333              0.0\n",
              "\n",
              "[5 rows x 10 columns]"
            ]
          },
          "metadata": {
            "tags": []
          },
          "execution_count": 24
        }
      ]
    },
    {
      "cell_type": "code",
      "metadata": {
        "id": "ImwybQBKPRYc",
        "colab_type": "code",
        "colab": {}
      },
      "source": [
        "import seaborn as sns\n",
        "%matplotlib inline"
      ],
      "execution_count": 0,
      "outputs": []
    },
    {
      "cell_type": "code",
      "metadata": {
        "id": "FMGLba6BcV29",
        "colab_type": "code",
        "outputId": "eee257f4-06cc-4d42-8641-9583e4a9e142",
        "colab": {
          "base_uri": "https://localhost:8080/",
          "height": 296
        }
      },
      "source": [
        "sns.distplot(prob_df1[\"'BS 1'\"])"
      ],
      "execution_count": 26,
      "outputs": [
        {
          "output_type": "execute_result",
          "data": {
            "text/plain": [
              "<matplotlib.axes._subplots.AxesSubplot at 0x7f9a2c191780>"
            ]
          },
          "metadata": {
            "tags": []
          },
          "execution_count": 26
        },
        {
          "output_type": "display_data",
          "data": {
            "image/png": "[encoded data removed]",
            "text/plain": [
              "<Figure size 432x288 with 1 Axes>"
            ]
          },
          "metadata": {
            "tags": []
          }
        }
      ]
    },
    {
      "cell_type": "code",
      "metadata": {
        "id": "Fb9DdSmOc12h",
        "colab_type": "code",
        "outputId": "1b287d8c-1451-4403-b082-8ec09e9838b8",
        "colab": {
          "base_uri": "https://localhost:8080/",
          "height": 296
        }
      },
      "source": [
        "sns.distplot(prob_df1[\"'BS 2'\"])"
      ],
      "execution_count": 27,
      "outputs": [
        {
          "output_type": "execute_result",
          "data": {
            "text/plain": [
              "<matplotlib.axes._subplots.AxesSubplot at 0x7f9a2c158d30>"
            ]
          },
          "metadata": {
            "tags": []
          },
          "execution_count": 27
        },
        {
          "output_type": "display_data",
          "data": {
            "image/png": "[encoded data removed]",
            "text/plain": [
              "<Figure size 432x288 with 1 Axes>"
            ]
          },
          "metadata": {
            "tags": []
          }
        }
      ]
    },
    {
      "cell_type": "code",
      "metadata": {
        "id": "G81dxBZXdQ7v",
        "colab_type": "code",
        "outputId": "b19a6b8a-9ff8-4284-cb76-3974c7edd8ae",
        "colab": {
          "base_uri": "https://localhost:8080/",
          "height": 458
        }
      },
      "source": [
        "sns.jointplot(x=\"'BS 1'\", y=\"'BS 2'\", data = prob_df1, kind = 'hex')"
      ],
      "execution_count": 28,
      "outputs": [
        {
          "output_type": "execute_result",
          "data": {
            "text/plain": [
              "<seaborn.axisgrid.JointGrid at 0x7f9a2c06f4e0>"
            ]
          },
          "metadata": {
            "tags": []
          },
          "execution_count": 28
        },
        {
          "output_type": "display_data",
          "data": {
            "image/png": "[encoded data removed]",
            "text/plain": [
              "<Figure size 432x432 with 3 Axes>"
            ]
          },
          "metadata": {
            "tags": []
          }
        }
      ]
    },
    {
      "cell_type": "code",
      "metadata": {
        "id": "bOZ9odXaeKJ9",
        "colab_type": "code",
        "outputId": "f38c4d02-3a29-49d8-8f5d-d19e3b26b60c",
        "colab": {
          "base_uri": "https://localhost:8080/",
          "height": 458
        }
      },
      "source": [
        "sns.jointplot(x=\"'BS 1'\", y=\"'BS 2'\", data = prob_df1, kind = 'reg')"
      ],
      "execution_count": 29,
      "outputs": [
        {
          "output_type": "execute_result",
          "data": {
            "text/plain": [
              "<seaborn.axisgrid.JointGrid at 0x7f996c1948d0>"
            ]
          },
          "metadata": {
            "tags": []
          },
          "execution_count": 29
        },
        {
          "output_type": "display_data",
          "data": {
            "image/png": "[encoded data removed]",
            "text/plain": [
              "<Figure size 432x432 with 3 Axes>"
            ]
          },
          "metadata": {
            "tags": []
          }
        }
      ]
    },
    {
      "cell_type": "code",
      "metadata": {
        "id": "PXe7yP7meRXJ",
        "colab_type": "code",
        "outputId": "5745431c-67f7-4304-dca0-272d7a9963b4",
        "colab": {
          "base_uri": "https://localhost:8080/",
          "height": 458
        }
      },
      "source": [
        "sns.jointplot(x=\"'BS 1'\", y=\"'BS 2'\", data = prob_df1, kind = 'kde')"
      ],
      "execution_count": 30,
      "outputs": [
        {
          "output_type": "execute_result",
          "data": {
            "text/plain": [
              "<seaborn.axisgrid.JointGrid at 0x7f996c0ab400>"
            ]
          },
          "metadata": {
            "tags": []
          },
          "execution_count": 30
        },
        {
          "output_type": "display_data",
          "data": {
            "image/png": "[encoded data removed]",
            "text/plain": [
              "<Figure size 432x432 with 3 Axes>"
            ]
          },
          "metadata": {
            "tags": []
          }
        }
      ]
    },
    {
      "cell_type": "code",
      "metadata": {
        "id": "0cHGBx3xd08q",
        "colab_type": "code",
        "outputId": "20e01768-54cd-4af2-c30f-d2369aab4316",
        "colab": {
          "base_uri": "https://localhost:8080/",
          "height": 458
        }
      },
      "source": [
        "sns.jointplot(x='latitude', y='longitude', data = prob_df1, kind = 'reg')"
      ],
      "execution_count": 31,
      "outputs": [
        {
          "output_type": "execute_result",
          "data": {
            "text/plain": [
              "<seaborn.axisgrid.JointGrid at 0x7f996bfae908>"
            ]
          },
          "metadata": {
            "tags": []
          },
          "execution_count": 31
        },
        {
          "output_type": "display_data",
          "data": {
            "image/png": "[encoded data removed]",
            "text/plain": [
              "<Figure size 432x432 with 3 Axes>"
            ]
          },
          "metadata": {
            "tags": []
          }
        }
      ]
    },
    {
      "cell_type": "code",
      "metadata": {
        "id": "DuD5tK-9eUa2",
        "colab_type": "code",
        "outputId": "264ac334-8600-4cbf-d674-af628f574177",
        "colab": {
          "base_uri": "https://localhost:8080/",
          "height": 458
        }
      },
      "source": [
        "sns.jointplot(x='latitude', y='longitude', data = prob_df1, kind = 'kde')"
      ],
      "execution_count": 32,
      "outputs": [
        {
          "output_type": "execute_result",
          "data": {
            "text/plain": [
              "<seaborn.axisgrid.JointGrid at 0x7f996bfae128>"
            ]
          },
          "metadata": {
            "tags": []
          },
          "execution_count": 32
        },
        {
          "output_type": "display_data",
          "data": {
            "image/png": "[encoded data removed]",
            "text/plain": [
              "<Figure size 432x432 with 3 Axes>"
            ]
          },
          "metadata": {
            "tags": []
          }
        }
      ]
    },
    {
      "cell_type": "code",
      "metadata": {
        "id": "nvl6YfzHea5u",
        "colab_type": "code",
        "outputId": "aa304b55-dea1-48d0-d273-b95e185eaaad",
        "colab": {
          "base_uri": "https://localhost:8080/",
          "height": 1000
        }
      },
      "source": [
        "# Pairplot of all numerical value\n",
        "sns.pairplot(prob_df1)"
      ],
      "execution_count": 33,
      "outputs": [
        {
          "output_type": "execute_result",
          "data": {
            "text/plain": [
              "<seaborn.axisgrid.PairGrid at 0x7f996bc1df98>"
            ]
          },
          "metadata": {
            "tags": []
          },
          "execution_count": 33
        },
        {
          "output_type": "display_data",
          "data": {
            "image/png": "[encoded data removed]",
            "text/plain": [
              "<Figure size 1800x1800 with 110 Axes>"
            ]
          },
          "metadata": {
            "tags": []
          }
        }
      ]
    },
    {
      "cell_type": "code",
      "metadata": {
        "colab_type": "code",
        "id": "9BXxzk1CxSqo",
        "colab": {}
      },
      "source": [
        "x_train, x_test, y_train, y_test = train_test_split(prob_df1[traincols],prob_df1[columns_y], test_size=0.3, random_state=42)"
      ],
      "execution_count": 0,
      "outputs": []
    },
    {
      "cell_type": "markdown",
      "metadata": {
        "colab_type": "text",
        "id": "yzsfEYMfxSqp"
      },
      "source": [
        "## Artificial Neural Network"
      ]
    },
    {
      "cell_type": "code",
      "metadata": {
        "colab_type": "code",
        "outputId": "5b942a13-79fc-4542-fd18-892e46918c7d",
        "id": "3VoidkUCxSqp",
        "colab": {
          "base_uri": "https://localhost:8080/",
          "height": 462
        }
      },
      "source": [
        "import tensorflow as tf\n",
        "from keras.models import Sequential\n",
        "from keras.layers.core import Dense, Activation\n",
        "from keras.callbacks import EarlyStopping\n",
        "from keras.callbacks import ModelCheckpoint\n",
        "import os\n",
        "import io\n",
        "import requests\n",
        "from sklearn import metrics\n",
        "\n",
        "\n",
        "x_train_ann_class, x_test_ann_class, y_train_ann_class, y_test_ann_class = train_test_split(x,y, test_size=0.25, random_state=42)\n",
        "checkpointer = ModelCheckpoint(filepath=\"/content/drive/My Drive/Colab Notebooks/masters_project/best_weights_fairclass.hdf5\", verbose=0, save_best_only=True) # save best model\n",
        "\n",
        "for i in range(5):\n",
        "    model = Sequential()\n",
        "    model.add(Dense(60, input_dim=x.shape[1], activation='softmax')) # Hidden 1\n",
        "    model.add(Dense(30, activation='softmax')) # Hidden 2\n",
        "    model.add(Dense(15, activation='softmax')) # Hidden 3\n",
        "    model.add(Dense(2)) # Output\n",
        "    model.compile(loss='mean_squared_error', optimizer='adam', metrics=['accuracy'])\n",
        "    monitor = EarlyStopping(monitor='val_loss', min_delta=1e-3, patience=5, verbose=1, mode='auto')\n",
        "    history = model.fit(x_train_ann_class, y_train_ann_class, validation_data=(x_test_ann_class,y_test_ann_class), callbacks=[monitor,checkpointer], verbose=0, epochs=10, batch_size=256)  \n",
        "\n",
        "    \n",
        "\n",
        "model.load_weights('/content/drive/My Drive/Colab Notebooks/masters_project/best_weights_fairclass.hdf5')\n",
        "pred = model.predict(x_test_ann_class)\n"
      ],
      "execution_count": 35,
      "outputs": [
        {
          "output_type": "stream",
          "text": [
            "WARNING:tensorflow:From /usr/local/lib/python3.6/dist-packages/keras/backend/tensorflow_backend.py:66: The name tf.get_default_graph is deprecated. Please use tf.compat.v1.get_default_graph instead.\n",
            "\n",
            "WARNING:tensorflow:From /usr/local/lib/python3.6/dist-packages/keras/backend/tensorflow_backend.py:541: The name tf.placeholder is deprecated. Please use tf.compat.v1.placeholder instead.\n",
            "\n",
            "WARNING:tensorflow:From /usr/local/lib/python3.6/dist-packages/keras/backend/tensorflow_backend.py:4432: The name tf.random_uniform is deprecated. Please use tf.random.uniform instead.\n",
            "\n",
            "WARNING:tensorflow:From /usr/local/lib/python3.6/dist-packages/keras/optimizers.py:793: The name tf.train.Optimizer is deprecated. Please use tf.compat.v1.train.Optimizer instead.\n",
            "\n",
            "WARNING:tensorflow:From /usr/local/lib/python3.6/dist-packages/keras/backend/tensorflow_backend.py:1033: The name tf.assign_add is deprecated. Please use tf.compat.v1.assign_add instead.\n",
            "\n",
            "WARNING:tensorflow:From /usr/local/lib/python3.6/dist-packages/keras/backend/tensorflow_backend.py:1020: The name tf.assign is deprecated. Please use tf.compat.v1.assign instead.\n",
            "\n",
            "WARNING:tensorflow:From /usr/local/lib/python3.6/dist-packages/keras/backend/tensorflow_backend.py:3005: The name tf.Session is deprecated. Please use tf.compat.v1.Session instead.\n",
            "\n",
            "WARNING:tensorflow:From /usr/local/lib/python3.6/dist-packages/keras/backend/tensorflow_backend.py:190: The name tf.get_default_session is deprecated. Please use tf.compat.v1.get_default_session instead.\n",
            "\n",
            "WARNING:tensorflow:From /usr/local/lib/python3.6/dist-packages/keras/backend/tensorflow_backend.py:197: The name tf.ConfigProto is deprecated. Please use tf.compat.v1.ConfigProto instead.\n",
            "\n",
            "WARNING:tensorflow:From /usr/local/lib/python3.6/dist-packages/keras/backend/tensorflow_backend.py:207: The name tf.global_variables is deprecated. Please use tf.compat.v1.global_variables instead.\n",
            "\n",
            "WARNING:tensorflow:From /usr/local/lib/python3.6/dist-packages/keras/backend/tensorflow_backend.py:216: The name tf.is_variable_initialized is deprecated. Please use tf.compat.v1.is_variable_initialized instead.\n",
            "\n",
            "WARNING:tensorflow:From /usr/local/lib/python3.6/dist-packages/keras/backend/tensorflow_backend.py:223: The name tf.variables_initializer is deprecated. Please use tf.compat.v1.variables_initializer instead.\n",
            "\n",
            "Epoch 00006: early stopping\n"
          ],
          "name": "stdout"
        }
      ]
    },
    {
      "cell_type": "code",
      "metadata": {
        "colab_type": "code",
        "outputId": "04dfc2dc-599d-4ef7-87fb-2a3ec267c709",
        "id": "cAKfRQ_kxSqs",
        "colab": {
          "base_uri": "https://localhost:8080/",
          "height": 476
        }
      },
      "source": [
        "print(pred)"
      ],
      "execution_count": 36,
      "outputs": [
        {
          "output_type": "stream",
          "text": [
            "[[ 0.07661489 -0.06261185]\n",
            " [ 0.07662616 -0.06261363]\n",
            " [ 0.07662237 -0.0626118 ]\n",
            " [ 0.07662587 -0.06262001]\n",
            " [ 0.07662015 -0.06261827]\n",
            " [ 0.07663273 -0.06261794]\n",
            " [ 0.07663289 -0.06261794]\n",
            " [ 0.07662053 -0.06261856]\n",
            " [ 0.07660539 -0.06260537]\n",
            " [ 0.0766043  -0.06260499]\n",
            " [ 0.07661217 -0.06261277]\n",
            " [ 0.07661507 -0.06261194]\n",
            " [ 0.07663185 -0.06261736]\n",
            " [ 0.07663289 -0.06261799]\n",
            " [ 0.07663105 -0.06261481]\n",
            " [ 0.07660667 -0.06260766]\n",
            " [ 0.07663056 -0.06260885]\n",
            " [ 0.07661507 -0.06261194]\n",
            " [ 0.07660519 -0.06260529]\n",
            " [ 0.07660551 -0.06260363]\n",
            " [ 0.07663315 -0.06261814]\n",
            " [ 0.07663489 -0.06262299]\n",
            " [ 0.07660843 -0.06260721]\n",
            " [ 0.07663105 -0.06261481]\n",
            " [ 0.07662101 -0.06261527]\n",
            " [ 0.07663137 -0.06262067]\n",
            " [ 0.07661235 -0.06261298]]\n"
          ],
          "name": "stdout"
        }
      ]
    },
    {
      "cell_type": "code",
      "metadata": {
        "colab_type": "code",
        "id": "g9jgxyp-xSqt",
        "colab": {}
      },
      "source": [
        ""
      ],
      "execution_count": 0,
      "outputs": []
    },
    {
      "cell_type": "code",
      "metadata": {
        "colab_type": "code",
        "outputId": "b3ac421c-3e45-4c14-cc03-be4b3a615150",
        "id": "usaWIZARxSqu",
        "colab": {
          "base_uri": "https://localhost:8080/",
          "height": 886
        }
      },
      "source": [
        "y_test_ann_class"
      ],
      "execution_count": 37,
      "outputs": [
        {
          "output_type": "execute_result",
          "data": {
            "text/html": [
              "<div>\n",
              "<style scoped>\n",
              "    .dataframe tbody tr th:only-of-type {\n",
              "        vertical-align: middle;\n",
              "    }\n",
              "\n",
              "    .dataframe tbody tr th {\n",
              "        vertical-align: top;\n",
              "    }\n",
              "\n",
              "    .dataframe thead th {\n",
              "        text-align: right;\n",
              "    }\n",
              "</style>\n",
              "<table border=\"1\" class=\"dataframe\">\n",
              "  <thead>\n",
              "    <tr style=\"text-align: right;\">\n",
              "      <th></th>\n",
              "      <th>latitude</th>\n",
              "      <th>longitude</th>\n",
              "    </tr>\n",
              "  </thead>\n",
              "  <tbody>\n",
              "    <tr>\n",
              "      <th>30</th>\n",
              "      <td>0.716256</td>\n",
              "      <td>-0.672318</td>\n",
              "    </tr>\n",
              "    <tr>\n",
              "      <th>65</th>\n",
              "      <td>-0.978547</td>\n",
              "      <td>-0.672318</td>\n",
              "    </tr>\n",
              "    <tr>\n",
              "      <th>64</th>\n",
              "      <td>-0.766696</td>\n",
              "      <td>-0.672318</td>\n",
              "    </tr>\n",
              "    <tr>\n",
              "      <th>53</th>\n",
              "      <td>-0.342996</td>\n",
              "      <td>-0.672318</td>\n",
              "    </tr>\n",
              "    <tr>\n",
              "      <th>45</th>\n",
              "      <td>-0.025220</td>\n",
              "      <td>-0.672318</td>\n",
              "    </tr>\n",
              "    <tr>\n",
              "      <th>94</th>\n",
              "      <td>-0.978547</td>\n",
              "      <td>1.711355</td>\n",
              "    </tr>\n",
              "    <tr>\n",
              "      <th>104</th>\n",
              "      <td>-0.978547</td>\n",
              "      <td>2.444793</td>\n",
              "    </tr>\n",
              "    <tr>\n",
              "      <th>47</th>\n",
              "      <td>-0.025220</td>\n",
              "      <td>-0.672318</td>\n",
              "    </tr>\n",
              "    <tr>\n",
              "      <th>10</th>\n",
              "      <td>1.563657</td>\n",
              "      <td>-0.672318</td>\n",
              "    </tr>\n",
              "    <tr>\n",
              "      <th>0</th>\n",
              "      <td>1.563657</td>\n",
              "      <td>0.244479</td>\n",
              "    </tr>\n",
              "    <tr>\n",
              "      <th>18</th>\n",
              "      <td>1.351807</td>\n",
              "      <td>-0.672318</td>\n",
              "    </tr>\n",
              "    <tr>\n",
              "      <th>31</th>\n",
              "      <td>0.716256</td>\n",
              "      <td>-0.672318</td>\n",
              "    </tr>\n",
              "    <tr>\n",
              "      <th>89</th>\n",
              "      <td>-0.978547</td>\n",
              "      <td>1.161277</td>\n",
              "    </tr>\n",
              "    <tr>\n",
              "      <th>96</th>\n",
              "      <td>-0.978547</td>\n",
              "      <td>2.078074</td>\n",
              "    </tr>\n",
              "    <tr>\n",
              "      <th>77</th>\n",
              "      <td>-0.978547</td>\n",
              "      <td>0.061120</td>\n",
              "    </tr>\n",
              "    <tr>\n",
              "      <th>4</th>\n",
              "      <td>1.563657</td>\n",
              "      <td>0.244479</td>\n",
              "    </tr>\n",
              "    <tr>\n",
              "      <th>80</th>\n",
              "      <td>-0.978547</td>\n",
              "      <td>0.794558</td>\n",
              "    </tr>\n",
              "    <tr>\n",
              "      <th>33</th>\n",
              "      <td>0.716256</td>\n",
              "      <td>-0.672318</td>\n",
              "    </tr>\n",
              "    <tr>\n",
              "      <th>12</th>\n",
              "      <td>1.563657</td>\n",
              "      <td>-0.672318</td>\n",
              "    </tr>\n",
              "    <tr>\n",
              "      <th>26</th>\n",
              "      <td>0.928106</td>\n",
              "      <td>-0.672318</td>\n",
              "    </tr>\n",
              "    <tr>\n",
              "      <th>99</th>\n",
              "      <td>-0.978547</td>\n",
              "      <td>2.078074</td>\n",
              "    </tr>\n",
              "    <tr>\n",
              "      <th>55</th>\n",
              "      <td>-0.554846</td>\n",
              "      <td>-0.672318</td>\n",
              "    </tr>\n",
              "    <tr>\n",
              "      <th>22</th>\n",
              "      <td>1.139956</td>\n",
              "      <td>-0.672318</td>\n",
              "    </tr>\n",
              "    <tr>\n",
              "      <th>76</th>\n",
              "      <td>-0.978547</td>\n",
              "      <td>0.061120</td>\n",
              "    </tr>\n",
              "    <tr>\n",
              "      <th>44</th>\n",
              "      <td>0.186630</td>\n",
              "      <td>-0.672318</td>\n",
              "    </tr>\n",
              "    <tr>\n",
              "      <th>72</th>\n",
              "      <td>-0.978547</td>\n",
              "      <td>-0.305599</td>\n",
              "    </tr>\n",
              "    <tr>\n",
              "      <th>15</th>\n",
              "      <td>1.351807</td>\n",
              "      <td>-0.672318</td>\n",
              "    </tr>\n",
              "  </tbody>\n",
              "</table>\n",
              "</div>"
            ],
            "text/plain": [
              "     latitude  longitude\n",
              "30   0.716256  -0.672318\n",
              "65  -0.978547  -0.672318\n",
              "64  -0.766696  -0.672318\n",
              "53  -0.342996  -0.672318\n",
              "45  -0.025220  -0.672318\n",
              "94  -0.978547   1.711355\n",
              "104 -0.978547   2.444793\n",
              "47  -0.025220  -0.672318\n",
              "10   1.563657  -0.672318\n",
              "0    1.563657   0.244479\n",
              "18   1.351807  -0.672318\n",
              "31   0.716256  -0.672318\n",
              "89  -0.978547   1.161277\n",
              "96  -0.978547   2.078074\n",
              "77  -0.978547   0.061120\n",
              "4    1.563657   0.244479\n",
              "80  -0.978547   0.794558\n",
              "33   0.716256  -0.672318\n",
              "12   1.563657  -0.672318\n",
              "26   0.928106  -0.672318\n",
              "99  -0.978547   2.078074\n",
              "55  -0.554846  -0.672318\n",
              "22   1.139956  -0.672318\n",
              "76  -0.978547   0.061120\n",
              "44   0.186630  -0.672318\n",
              "72  -0.978547  -0.305599\n",
              "15   1.351807  -0.672318"
            ]
          },
          "metadata": {
            "tags": []
          },
          "execution_count": 37
        }
      ]
    },
    {
      "cell_type": "code",
      "metadata": {
        "colab_type": "code",
        "id": "msZ_prW8xSqv",
        "colab": {}
      },
      "source": [
        "list_1 = []\n",
        "for p in range(len(pred)):\n",
        "  sum = pred[p][0]\n",
        "  list_1.append(sum)"
      ],
      "execution_count": 0,
      "outputs": []
    },
    {
      "cell_type": "code",
      "metadata": {
        "colab_type": "code",
        "id": "Cfe1VX-RxSqw",
        "colab": {}
      },
      "source": [
        "list_2 = []\n",
        "for l in range(len(pred)):\n",
        "  sum1 = pred[l][1]\n",
        "  list_2.append(sum1)"
      ],
      "execution_count": 0,
      "outputs": []
    },
    {
      "cell_type": "code",
      "metadata": {
        "colab_type": "code",
        "outputId": "334365b1-0cdc-4035-ad2e-d865aaa90d55",
        "id": "IeLLrv6wxSq0",
        "colab": {
          "base_uri": "https://localhost:8080/",
          "height": 886
        }
      },
      "source": [
        "y_test_ann_class['pred_latitude'] = list_1\n",
        "y_test_ann_class['pred_longitude'] = list_2\n",
        "y_test_ann_class"
      ],
      "execution_count": 40,
      "outputs": [
        {
          "output_type": "execute_result",
          "data": {
            "text/html": [
              "<div>\n",
              "<style scoped>\n",
              "    .dataframe tbody tr th:only-of-type {\n",
              "        vertical-align: middle;\n",
              "    }\n",
              "\n",
              "    .dataframe tbody tr th {\n",
              "        vertical-align: top;\n",
              "    }\n",
              "\n",
              "    .dataframe thead th {\n",
              "        text-align: right;\n",
              "    }\n",
              "</style>\n",
              "<table border=\"1\" class=\"dataframe\">\n",
              "  <thead>\n",
              "    <tr style=\"text-align: right;\">\n",
              "      <th></th>\n",
              "      <th>latitude</th>\n",
              "      <th>longitude</th>\n",
              "      <th>pred_latitude</th>\n",
              "      <th>pred_longitude</th>\n",
              "    </tr>\n",
              "  </thead>\n",
              "  <tbody>\n",
              "    <tr>\n",
              "      <th>30</th>\n",
              "      <td>0.716256</td>\n",
              "      <td>-0.672318</td>\n",
              "      <td>0.076615</td>\n",
              "      <td>-0.062612</td>\n",
              "    </tr>\n",
              "    <tr>\n",
              "      <th>65</th>\n",
              "      <td>-0.978547</td>\n",
              "      <td>-0.672318</td>\n",
              "      <td>0.076626</td>\n",
              "      <td>-0.062614</td>\n",
              "    </tr>\n",
              "    <tr>\n",
              "      <th>64</th>\n",
              "      <td>-0.766696</td>\n",
              "      <td>-0.672318</td>\n",
              "      <td>0.076622</td>\n",
              "      <td>-0.062612</td>\n",
              "    </tr>\n",
              "    <tr>\n",
              "      <th>53</th>\n",
              "      <td>-0.342996</td>\n",
              "      <td>-0.672318</td>\n",
              "      <td>0.076626</td>\n",
              "      <td>-0.062620</td>\n",
              "    </tr>\n",
              "    <tr>\n",
              "      <th>45</th>\n",
              "      <td>-0.025220</td>\n",
              "      <td>-0.672318</td>\n",
              "      <td>0.076620</td>\n",
              "      <td>-0.062618</td>\n",
              "    </tr>\n",
              "    <tr>\n",
              "      <th>94</th>\n",
              "      <td>-0.978547</td>\n",
              "      <td>1.711355</td>\n",
              "      <td>0.076633</td>\n",
              "      <td>-0.062618</td>\n",
              "    </tr>\n",
              "    <tr>\n",
              "      <th>104</th>\n",
              "      <td>-0.978547</td>\n",
              "      <td>2.444793</td>\n",
              "      <td>0.076633</td>\n",
              "      <td>-0.062618</td>\n",
              "    </tr>\n",
              "    <tr>\n",
              "      <th>47</th>\n",
              "      <td>-0.025220</td>\n",
              "      <td>-0.672318</td>\n",
              "      <td>0.076621</td>\n",
              "      <td>-0.062619</td>\n",
              "    </tr>\n",
              "    <tr>\n",
              "      <th>10</th>\n",
              "      <td>1.563657</td>\n",
              "      <td>-0.672318</td>\n",
              "      <td>0.076605</td>\n",
              "      <td>-0.062605</td>\n",
              "    </tr>\n",
              "    <tr>\n",
              "      <th>0</th>\n",
              "      <td>1.563657</td>\n",
              "      <td>0.244479</td>\n",
              "      <td>0.076604</td>\n",
              "      <td>-0.062605</td>\n",
              "    </tr>\n",
              "    <tr>\n",
              "      <th>18</th>\n",
              "      <td>1.351807</td>\n",
              "      <td>-0.672318</td>\n",
              "      <td>0.076612</td>\n",
              "      <td>-0.062613</td>\n",
              "    </tr>\n",
              "    <tr>\n",
              "      <th>31</th>\n",
              "      <td>0.716256</td>\n",
              "      <td>-0.672318</td>\n",
              "      <td>0.076615</td>\n",
              "      <td>-0.062612</td>\n",
              "    </tr>\n",
              "    <tr>\n",
              "      <th>89</th>\n",
              "      <td>-0.978547</td>\n",
              "      <td>1.161277</td>\n",
              "      <td>0.076632</td>\n",
              "      <td>-0.062617</td>\n",
              "    </tr>\n",
              "    <tr>\n",
              "      <th>96</th>\n",
              "      <td>-0.978547</td>\n",
              "      <td>2.078074</td>\n",
              "      <td>0.076633</td>\n",
              "      <td>-0.062618</td>\n",
              "    </tr>\n",
              "    <tr>\n",
              "      <th>77</th>\n",
              "      <td>-0.978547</td>\n",
              "      <td>0.061120</td>\n",
              "      <td>0.076631</td>\n",
              "      <td>-0.062615</td>\n",
              "    </tr>\n",
              "    <tr>\n",
              "      <th>4</th>\n",
              "      <td>1.563657</td>\n",
              "      <td>0.244479</td>\n",
              "      <td>0.076607</td>\n",
              "      <td>-0.062608</td>\n",
              "    </tr>\n",
              "    <tr>\n",
              "      <th>80</th>\n",
              "      <td>-0.978547</td>\n",
              "      <td>0.794558</td>\n",
              "      <td>0.076631</td>\n",
              "      <td>-0.062609</td>\n",
              "    </tr>\n",
              "    <tr>\n",
              "      <th>33</th>\n",
              "      <td>0.716256</td>\n",
              "      <td>-0.672318</td>\n",
              "      <td>0.076615</td>\n",
              "      <td>-0.062612</td>\n",
              "    </tr>\n",
              "    <tr>\n",
              "      <th>12</th>\n",
              "      <td>1.563657</td>\n",
              "      <td>-0.672318</td>\n",
              "      <td>0.076605</td>\n",
              "      <td>-0.062605</td>\n",
              "    </tr>\n",
              "    <tr>\n",
              "      <th>26</th>\n",
              "      <td>0.928106</td>\n",
              "      <td>-0.672318</td>\n",
              "      <td>0.076606</td>\n",
              "      <td>-0.062604</td>\n",
              "    </tr>\n",
              "    <tr>\n",
              "      <th>99</th>\n",
              "      <td>-0.978547</td>\n",
              "      <td>2.078074</td>\n",
              "      <td>0.076633</td>\n",
              "      <td>-0.062618</td>\n",
              "    </tr>\n",
              "    <tr>\n",
              "      <th>55</th>\n",
              "      <td>-0.554846</td>\n",
              "      <td>-0.672318</td>\n",
              "      <td>0.076635</td>\n",
              "      <td>-0.062623</td>\n",
              "    </tr>\n",
              "    <tr>\n",
              "      <th>22</th>\n",
              "      <td>1.139956</td>\n",
              "      <td>-0.672318</td>\n",
              "      <td>0.076608</td>\n",
              "      <td>-0.062607</td>\n",
              "    </tr>\n",
              "    <tr>\n",
              "      <th>76</th>\n",
              "      <td>-0.978547</td>\n",
              "      <td>0.061120</td>\n",
              "      <td>0.076631</td>\n",
              "      <td>-0.062615</td>\n",
              "    </tr>\n",
              "    <tr>\n",
              "      <th>44</th>\n",
              "      <td>0.186630</td>\n",
              "      <td>-0.672318</td>\n",
              "      <td>0.076621</td>\n",
              "      <td>-0.062615</td>\n",
              "    </tr>\n",
              "    <tr>\n",
              "      <th>72</th>\n",
              "      <td>-0.978547</td>\n",
              "      <td>-0.305599</td>\n",
              "      <td>0.076631</td>\n",
              "      <td>-0.062621</td>\n",
              "    </tr>\n",
              "    <tr>\n",
              "      <th>15</th>\n",
              "      <td>1.351807</td>\n",
              "      <td>-0.672318</td>\n",
              "      <td>0.076612</td>\n",
              "      <td>-0.062613</td>\n",
              "    </tr>\n",
              "  </tbody>\n",
              "</table>\n",
              "</div>"
            ],
            "text/plain": [
              "     latitude  longitude  pred_latitude  pred_longitude\n",
              "30   0.716256  -0.672318       0.076615       -0.062612\n",
              "65  -0.978547  -0.672318       0.076626       -0.062614\n",
              "64  -0.766696  -0.672318       0.076622       -0.062612\n",
              "53  -0.342996  -0.672318       0.076626       -0.062620\n",
              "45  -0.025220  -0.672318       0.076620       -0.062618\n",
              "94  -0.978547   1.711355       0.076633       -0.062618\n",
              "104 -0.978547   2.444793       0.076633       -0.062618\n",
              "47  -0.025220  -0.672318       0.076621       -0.062619\n",
              "10   1.563657  -0.672318       0.076605       -0.062605\n",
              "0    1.563657   0.244479       0.076604       -0.062605\n",
              "18   1.351807  -0.672318       0.076612       -0.062613\n",
              "31   0.716256  -0.672318       0.076615       -0.062612\n",
              "89  -0.978547   1.161277       0.076632       -0.062617\n",
              "96  -0.978547   2.078074       0.076633       -0.062618\n",
              "77  -0.978547   0.061120       0.076631       -0.062615\n",
              "4    1.563657   0.244479       0.076607       -0.062608\n",
              "80  -0.978547   0.794558       0.076631       -0.062609\n",
              "33   0.716256  -0.672318       0.076615       -0.062612\n",
              "12   1.563657  -0.672318       0.076605       -0.062605\n",
              "26   0.928106  -0.672318       0.076606       -0.062604\n",
              "99  -0.978547   2.078074       0.076633       -0.062618\n",
              "55  -0.554846  -0.672318       0.076635       -0.062623\n",
              "22   1.139956  -0.672318       0.076608       -0.062607\n",
              "76  -0.978547   0.061120       0.076631       -0.062615\n",
              "44   0.186630  -0.672318       0.076621       -0.062615\n",
              "72  -0.978547  -0.305599       0.076631       -0.062621\n",
              "15   1.351807  -0.672318       0.076612       -0.062613"
            ]
          },
          "metadata": {
            "tags": []
          },
          "execution_count": 40
        }
      ]
    },
    {
      "cell_type": "code",
      "metadata": {
        "colab_type": "code",
        "id": "ujZpjk2XxSq1",
        "colab": {}
      },
      "source": [
        ""
      ],
      "execution_count": 0,
      "outputs": []
    },
    {
      "cell_type": "code",
      "metadata": {
        "colab_type": "code",
        "id": "jK-fD3eUxSq3",
        "colab": {}
      },
      "source": [
        "y_test_ann_class['error'] = (((y_test_ann_class.latitude.sub(y_test_ann_class['pred_latitude']).pow(2).\n",
        "                              add(y_test_ann_class.longitude.sub(y_test_ann_class['pred_longitude']).pow(2))).pow(.5)))        "
      ],
      "execution_count": 0,
      "outputs": []
    },
    {
      "cell_type": "code",
      "metadata": {
        "colab_type": "code",
        "outputId": "2211dfd8-136e-4613-af54-02f88f8ee393",
        "id": "d0-33zsUxSq4",
        "colab": {
          "base_uri": "https://localhost:8080/",
          "height": 886
        }
      },
      "source": [
        "y_test_ann_class"
      ],
      "execution_count": 44,
      "outputs": [
        {
          "output_type": "execute_result",
          "data": {
            "text/html": [
              "<div>\n",
              "<style scoped>\n",
              "    .dataframe tbody tr th:only-of-type {\n",
              "        vertical-align: middle;\n",
              "    }\n",
              "\n",
              "    .dataframe tbody tr th {\n",
              "        vertical-align: top;\n",
              "    }\n",
              "\n",
              "    .dataframe thead th {\n",
              "        text-align: right;\n",
              "    }\n",
              "</style>\n",
              "<table border=\"1\" class=\"dataframe\">\n",
              "  <thead>\n",
              "    <tr style=\"text-align: right;\">\n",
              "      <th></th>\n",
              "      <th>latitude</th>\n",
              "      <th>longitude</th>\n",
              "      <th>pred_latitude</th>\n",
              "      <th>pred_longitude</th>\n",
              "      <th>error</th>\n",
              "    </tr>\n",
              "  </thead>\n",
              "  <tbody>\n",
              "    <tr>\n",
              "      <th>30</th>\n",
              "      <td>0.716256</td>\n",
              "      <td>-0.672318</td>\n",
              "      <td>0.076615</td>\n",
              "      <td>-0.062612</td>\n",
              "      <td>0.883675</td>\n",
              "    </tr>\n",
              "    <tr>\n",
              "      <th>65</th>\n",
              "      <td>-0.978547</td>\n",
              "      <td>-0.672318</td>\n",
              "      <td>0.076626</td>\n",
              "      <td>-0.062614</td>\n",
              "      <td>1.218659</td>\n",
              "    </tr>\n",
              "    <tr>\n",
              "      <th>64</th>\n",
              "      <td>-0.766696</td>\n",
              "      <td>-0.672318</td>\n",
              "      <td>0.076622</td>\n",
              "      <td>-0.062612</td>\n",
              "      <td>1.040638</td>\n",
              "    </tr>\n",
              "    <tr>\n",
              "      <th>53</th>\n",
              "      <td>-0.342996</td>\n",
              "      <td>-0.672318</td>\n",
              "      <td>0.076626</td>\n",
              "      <td>-0.062620</td>\n",
              "      <td>0.740145</td>\n",
              "    </tr>\n",
              "    <tr>\n",
              "      <th>45</th>\n",
              "      <td>-0.025220</td>\n",
              "      <td>-0.672318</td>\n",
              "      <td>0.076620</td>\n",
              "      <td>-0.062618</td>\n",
              "      <td>0.618147</td>\n",
              "    </tr>\n",
              "    <tr>\n",
              "      <th>94</th>\n",
              "      <td>-0.978547</td>\n",
              "      <td>1.711355</td>\n",
              "      <td>0.076633</td>\n",
              "      <td>-0.062618</td>\n",
              "      <td>2.064070</td>\n",
              "    </tr>\n",
              "    <tr>\n",
              "      <th>104</th>\n",
              "      <td>-0.978547</td>\n",
              "      <td>2.444793</td>\n",
              "      <td>0.076633</td>\n",
              "      <td>-0.062618</td>\n",
              "      <td>2.720388</td>\n",
              "    </tr>\n",
              "    <tr>\n",
              "      <th>47</th>\n",
              "      <td>-0.025220</td>\n",
              "      <td>-0.672318</td>\n",
              "      <td>0.076621</td>\n",
              "      <td>-0.062619</td>\n",
              "      <td>0.618146</td>\n",
              "    </tr>\n",
              "    <tr>\n",
              "      <th>10</th>\n",
              "      <td>1.563657</td>\n",
              "      <td>-0.672318</td>\n",
              "      <td>0.076605</td>\n",
              "      <td>-0.062605</td>\n",
              "      <td>1.607194</td>\n",
              "    </tr>\n",
              "    <tr>\n",
              "      <th>0</th>\n",
              "      <td>1.563657</td>\n",
              "      <td>0.244479</td>\n",
              "      <td>0.076604</td>\n",
              "      <td>-0.062605</td>\n",
              "      <td>1.518429</td>\n",
              "    </tr>\n",
              "    <tr>\n",
              "      <th>18</th>\n",
              "      <td>1.351807</td>\n",
              "      <td>-0.672318</td>\n",
              "      <td>0.076612</td>\n",
              "      <td>-0.062613</td>\n",
              "      <td>1.413457</td>\n",
              "    </tr>\n",
              "    <tr>\n",
              "      <th>31</th>\n",
              "      <td>0.716256</td>\n",
              "      <td>-0.672318</td>\n",
              "      <td>0.076615</td>\n",
              "      <td>-0.062612</td>\n",
              "      <td>0.883675</td>\n",
              "    </tr>\n",
              "    <tr>\n",
              "      <th>89</th>\n",
              "      <td>-0.978547</td>\n",
              "      <td>1.161277</td>\n",
              "      <td>0.076632</td>\n",
              "      <td>-0.062617</td>\n",
              "      <td>1.615957</td>\n",
              "    </tr>\n",
              "    <tr>\n",
              "      <th>96</th>\n",
              "      <td>-0.978547</td>\n",
              "      <td>2.078074</td>\n",
              "      <td>0.076633</td>\n",
              "      <td>-0.062618</td>\n",
              "      <td>2.386622</td>\n",
              "    </tr>\n",
              "    <tr>\n",
              "      <th>77</th>\n",
              "      <td>-0.978547</td>\n",
              "      <td>0.061120</td>\n",
              "      <td>0.076631</td>\n",
              "      <td>-0.062615</td>\n",
              "      <td>1.062408</td>\n",
              "    </tr>\n",
              "    <tr>\n",
              "      <th>4</th>\n",
              "      <td>1.563657</td>\n",
              "      <td>0.244479</td>\n",
              "      <td>0.076607</td>\n",
              "      <td>-0.062608</td>\n",
              "      <td>1.518427</td>\n",
              "    </tr>\n",
              "    <tr>\n",
              "      <th>80</th>\n",
              "      <td>-0.978547</td>\n",
              "      <td>0.794558</td>\n",
              "      <td>0.076631</td>\n",
              "      <td>-0.062609</td>\n",
              "      <td>1.359461</td>\n",
              "    </tr>\n",
              "    <tr>\n",
              "      <th>33</th>\n",
              "      <td>0.716256</td>\n",
              "      <td>-0.672318</td>\n",
              "      <td>0.076615</td>\n",
              "      <td>-0.062612</td>\n",
              "      <td>0.883675</td>\n",
              "    </tr>\n",
              "    <tr>\n",
              "      <th>12</th>\n",
              "      <td>1.563657</td>\n",
              "      <td>-0.672318</td>\n",
              "      <td>0.076605</td>\n",
              "      <td>-0.062605</td>\n",
              "      <td>1.607194</td>\n",
              "    </tr>\n",
              "    <tr>\n",
              "      <th>26</th>\n",
              "      <td>0.928106</td>\n",
              "      <td>-0.672318</td>\n",
              "      <td>0.076606</td>\n",
              "      <td>-0.062604</td>\n",
              "      <td>1.047285</td>\n",
              "    </tr>\n",
              "    <tr>\n",
              "      <th>99</th>\n",
              "      <td>-0.978547</td>\n",
              "      <td>2.078074</td>\n",
              "      <td>0.076633</td>\n",
              "      <td>-0.062618</td>\n",
              "      <td>2.386622</td>\n",
              "    </tr>\n",
              "    <tr>\n",
              "      <th>55</th>\n",
              "      <td>-0.554846</td>\n",
              "      <td>-0.672318</td>\n",
              "      <td>0.076635</td>\n",
              "      <td>-0.062623</td>\n",
              "      <td>0.877779</td>\n",
              "    </tr>\n",
              "    <tr>\n",
              "      <th>22</th>\n",
              "      <td>1.139956</td>\n",
              "      <td>-0.672318</td>\n",
              "      <td>0.076608</td>\n",
              "      <td>-0.062607</td>\n",
              "      <td>1.225747</td>\n",
              "    </tr>\n",
              "    <tr>\n",
              "      <th>76</th>\n",
              "      <td>-0.978547</td>\n",
              "      <td>0.061120</td>\n",
              "      <td>0.076631</td>\n",
              "      <td>-0.062615</td>\n",
              "      <td>1.062408</td>\n",
              "    </tr>\n",
              "    <tr>\n",
              "      <th>44</th>\n",
              "      <td>0.186630</td>\n",
              "      <td>-0.672318</td>\n",
              "      <td>0.076621</td>\n",
              "      <td>-0.062615</td>\n",
              "      <td>0.619548</td>\n",
              "    </tr>\n",
              "    <tr>\n",
              "      <th>72</th>\n",
              "      <td>-0.978547</td>\n",
              "      <td>-0.305599</td>\n",
              "      <td>0.076631</td>\n",
              "      <td>-0.062621</td>\n",
              "      <td>1.082792</td>\n",
              "    </tr>\n",
              "    <tr>\n",
              "      <th>15</th>\n",
              "      <td>1.351807</td>\n",
              "      <td>-0.672318</td>\n",
              "      <td>0.076612</td>\n",
              "      <td>-0.062613</td>\n",
              "      <td>1.413457</td>\n",
              "    </tr>\n",
              "  </tbody>\n",
              "</table>\n",
              "</div>"
            ],
            "text/plain": [
              "     latitude  longitude  pred_latitude  pred_longitude     error\n",
              "30   0.716256  -0.672318       0.076615       -0.062612  0.883675\n",
              "65  -0.978547  -0.672318       0.076626       -0.062614  1.218659\n",
              "64  -0.766696  -0.672318       0.076622       -0.062612  1.040638\n",
              "53  -0.342996  -0.672318       0.076626       -0.062620  0.740145\n",
              "45  -0.025220  -0.672318       0.076620       -0.062618  0.618147\n",
              "94  -0.978547   1.711355       0.076633       -0.062618  2.064070\n",
              "104 -0.978547   2.444793       0.076633       -0.062618  2.720388\n",
              "47  -0.025220  -0.672318       0.076621       -0.062619  0.618146\n",
              "10   1.563657  -0.672318       0.076605       -0.062605  1.607194\n",
              "0    1.563657   0.244479       0.076604       -0.062605  1.518429\n",
              "18   1.351807  -0.672318       0.076612       -0.062613  1.413457\n",
              "31   0.716256  -0.672318       0.076615       -0.062612  0.883675\n",
              "89  -0.978547   1.161277       0.076632       -0.062617  1.615957\n",
              "96  -0.978547   2.078074       0.076633       -0.062618  2.386622\n",
              "77  -0.978547   0.061120       0.076631       -0.062615  1.062408\n",
              "4    1.563657   0.244479       0.076607       -0.062608  1.518427\n",
              "80  -0.978547   0.794558       0.076631       -0.062609  1.359461\n",
              "33   0.716256  -0.672318       0.076615       -0.062612  0.883675\n",
              "12   1.563657  -0.672318       0.076605       -0.062605  1.607194\n",
              "26   0.928106  -0.672318       0.076606       -0.062604  1.047285\n",
              "99  -0.978547   2.078074       0.076633       -0.062618  2.386622\n",
              "55  -0.554846  -0.672318       0.076635       -0.062623  0.877779\n",
              "22   1.139956  -0.672318       0.076608       -0.062607  1.225747\n",
              "76  -0.978547   0.061120       0.076631       -0.062615  1.062408\n",
              "44   0.186630  -0.672318       0.076621       -0.062615  0.619548\n",
              "72  -0.978547  -0.305599       0.076631       -0.062621  1.082792\n",
              "15   1.351807  -0.672318       0.076612       -0.062613  1.413457"
            ]
          },
          "metadata": {
            "tags": []
          },
          "execution_count": 44
        }
      ]
    },
    {
      "cell_type": "code",
      "metadata": {
        "colab_type": "code",
        "outputId": "e1dee91b-a4ca-418e-f6da-5a57b284b558",
        "id": "ht_Ni2J8xSq6",
        "colab": {
          "base_uri": "https://localhost:8080/",
          "height": 34
        }
      },
      "source": [
        "ann_mean_error = y_test_ann_class['error'].mean()\n",
        "ann_mean_error"
      ],
      "execution_count": 45,
      "outputs": [
        {
          "output_type": "execute_result",
          "data": {
            "text/plain": [
              "1.3139261450673037"
            ]
          },
          "metadata": {
            "tags": []
          },
          "execution_count": 45
        }
      ]
    },
    {
      "cell_type": "markdown",
      "metadata": {
        "colab_type": "text",
        "id": "8x4zamd2xSq7"
      },
      "source": [
        "## LSTM"
      ]
    },
    {
      "cell_type": "code",
      "metadata": {
        "colab_type": "code",
        "outputId": "1321e6f0-5e80-4297-dd42-b546f2695c4e",
        "id": "5QSnIXT7xSq8",
        "colab": {
          "base_uri": "https://localhost:8080/",
          "height": 204
        }
      },
      "source": [
        "prob_df1.head()"
      ],
      "execution_count": 46,
      "outputs": [
        {
          "output_type": "execute_result",
          "data": {
            "text/html": [
              "<div>\n",
              "<style scoped>\n",
              "    .dataframe tbody tr th:only-of-type {\n",
              "        vertical-align: middle;\n",
              "    }\n",
              "\n",
              "    .dataframe tbody tr th {\n",
              "        vertical-align: top;\n",
              "    }\n",
              "\n",
              "    .dataframe thead th {\n",
              "        text-align: right;\n",
              "    }\n",
              "</style>\n",
              "<table border=\"1\" class=\"dataframe\">\n",
              "  <thead>\n",
              "    <tr style=\"text-align: right;\">\n",
              "      <th></th>\n",
              "      <th>'BS 1'</th>\n",
              "      <th>'BS 2'</th>\n",
              "      <th>'SF'</th>\n",
              "      <th>'HDOP'</th>\n",
              "      <th>latitude</th>\n",
              "      <th>longitude</th>\n",
              "      <th>normalized_bs1</th>\n",
              "      <th>normalized_bs2</th>\n",
              "      <th>normalized_sf</th>\n",
              "      <th>normalized_hdop</th>\n",
              "    </tr>\n",
              "  </thead>\n",
              "  <tbody>\n",
              "    <tr>\n",
              "      <th>0</th>\n",
              "      <td>-49</td>\n",
              "      <td>-51</td>\n",
              "      <td>7</td>\n",
              "      <td>0.6</td>\n",
              "      <td>1.563657</td>\n",
              "      <td>0.244479</td>\n",
              "      <td>1.000000</td>\n",
              "      <td>0.977778</td>\n",
              "      <td>0.166667</td>\n",
              "      <td>0.0</td>\n",
              "    </tr>\n",
              "    <tr>\n",
              "      <th>1</th>\n",
              "      <td>-49</td>\n",
              "      <td>-51</td>\n",
              "      <td>7</td>\n",
              "      <td>0.6</td>\n",
              "      <td>1.563657</td>\n",
              "      <td>0.244479</td>\n",
              "      <td>1.000000</td>\n",
              "      <td>0.977778</td>\n",
              "      <td>0.166667</td>\n",
              "      <td>0.0</td>\n",
              "    </tr>\n",
              "    <tr>\n",
              "      <th>2</th>\n",
              "      <td>-49</td>\n",
              "      <td>-51</td>\n",
              "      <td>7</td>\n",
              "      <td>0.6</td>\n",
              "      <td>1.563657</td>\n",
              "      <td>0.244479</td>\n",
              "      <td>1.000000</td>\n",
              "      <td>0.977778</td>\n",
              "      <td>0.166667</td>\n",
              "      <td>0.0</td>\n",
              "    </tr>\n",
              "    <tr>\n",
              "      <th>3</th>\n",
              "      <td>-49</td>\n",
              "      <td>-50</td>\n",
              "      <td>8</td>\n",
              "      <td>0.6</td>\n",
              "      <td>1.563657</td>\n",
              "      <td>0.244479</td>\n",
              "      <td>1.000000</td>\n",
              "      <td>1.000000</td>\n",
              "      <td>0.333333</td>\n",
              "      <td>0.0</td>\n",
              "    </tr>\n",
              "    <tr>\n",
              "      <th>4</th>\n",
              "      <td>-50</td>\n",
              "      <td>-50</td>\n",
              "      <td>8</td>\n",
              "      <td>0.6</td>\n",
              "      <td>1.563657</td>\n",
              "      <td>0.244479</td>\n",
              "      <td>0.978261</td>\n",
              "      <td>1.000000</td>\n",
              "      <td>0.333333</td>\n",
              "      <td>0.0</td>\n",
              "    </tr>\n",
              "  </tbody>\n",
              "</table>\n",
              "</div>"
            ],
            "text/plain": [
              "   'BS 1'  'BS 2'  'SF'  ...  normalized_bs2  normalized_sf  normalized_hdop\n",
              "0     -49     -51     7  ...        0.977778       0.166667              0.0\n",
              "1     -49     -51     7  ...        0.977778       0.166667              0.0\n",
              "2     -49     -51     7  ...        0.977778       0.166667              0.0\n",
              "3     -49     -50     8  ...        1.000000       0.333333              0.0\n",
              "4     -50     -50     8  ...        1.000000       0.333333              0.0\n",
              "\n",
              "[5 rows x 10 columns]"
            ]
          },
          "metadata": {
            "tags": []
          },
          "execution_count": 46
        }
      ]
    },
    {
      "cell_type": "code",
      "metadata": {
        "colab_type": "code",
        "id": "8v1XcdD8xSq9",
        "colab": {}
      },
      "source": [
        "prob_df_lstm = prob_df1[['normalized_bs1','normalized_bs2','normalized_sf','normalized_hdop','latitude','longitude']]"
      ],
      "execution_count": 0,
      "outputs": []
    },
    {
      "cell_type": "code",
      "metadata": {
        "colab_type": "code",
        "id": "Mavdq0goxSq-",
        "colab": {}
      },
      "source": [
        "xarray=[]\n",
        "xarray=prob_df_lstm.as_matrix()"
      ],
      "execution_count": 0,
      "outputs": []
    },
    {
      "cell_type": "code",
      "metadata": {
        "colab_type": "code",
        "outputId": "46eaae96-1033-4ff1-87ef-25021048778e",
        "id": "dJd7FdFCxSq_",
        "colab": {
          "base_uri": "https://localhost:8080/",
          "height": 1000
        }
      },
      "source": [
        "xarray"
      ],
      "execution_count": 49,
      "outputs": [
        {
          "output_type": "execute_result",
          "data": {
            "text/plain": [
              "array([[ 1.00000000e+00,  9.77777778e-01,  1.66666667e-01,\n",
              "         0.00000000e+00,  1.56365707e+00,  2.44479273e-01],\n",
              "       [ 1.00000000e+00,  9.77777778e-01,  1.66666667e-01,\n",
              "         0.00000000e+00,  1.56365707e+00,  2.44479273e-01],\n",
              "       [ 1.00000000e+00,  9.77777778e-01,  1.66666667e-01,\n",
              "         0.00000000e+00,  1.56365707e+00,  2.44479273e-01],\n",
              "       [ 1.00000000e+00,  1.00000000e+00,  3.33333333e-01,\n",
              "         0.00000000e+00,  1.56365707e+00,  2.44479273e-01],\n",
              "       [ 9.78260870e-01,  1.00000000e+00,  3.33333333e-01,\n",
              "         0.00000000e+00,  1.56365707e+00,  2.44479273e-01],\n",
              "       [ 9.34782609e-01,  9.77777778e-01,  3.33333333e-01,\n",
              "         4.95742101e-02,  1.56365707e+00, -1.22239637e-01],\n",
              "       [ 9.34782609e-01,  9.77777778e-01,  3.33333333e-01,\n",
              "         4.95742101e-02,  1.56365707e+00, -1.22239637e-01],\n",
              "       [ 9.34782609e-01,  9.55555556e-01,  3.33333333e-01,\n",
              "         4.95742101e-02,  1.56365707e+00, -1.22239637e-01],\n",
              "       [ 9.34782609e-01,  9.55555556e-01,  1.66666667e-01,\n",
              "         4.95742101e-02,  1.56365707e+00, -1.22239637e-01],\n",
              "       [ 9.56521739e-01,  9.55555556e-01,  1.66666667e-01,\n",
              "         4.95742101e-02,  1.56365707e+00, -1.22239637e-01],\n",
              "       [ 9.34782609e-01,  9.55555556e-01,  1.66666667e-01,\n",
              "         2.20329821e-02,  1.56365707e+00, -6.72318001e-01],\n",
              "       [ 9.34782609e-01,  9.55555556e-01,  1.66666667e-01,\n",
              "         2.20329821e-02,  1.56365707e+00, -6.72318001e-01],\n",
              "       [ 9.56521739e-01,  9.55555556e-01,  1.66666667e-01,\n",
              "         2.20329821e-02,  1.56365707e+00, -6.72318001e-01],\n",
              "       [ 9.78260870e-01,  9.55555556e-01,  1.66666667e-01,\n",
              "         2.20329821e-02,  1.56365707e+00, -6.72318001e-01],\n",
              "       [ 9.56521739e-01,  9.55555556e-01,  1.66666667e-01,\n",
              "         2.20329821e-02,  1.56365707e+00, -6.72318001e-01],\n",
              "       [ 8.69565217e-01,  8.66666667e-01,  5.00000000e-01,\n",
              "         1.10164807e-03,  1.35180675e+00, -6.72318001e-01],\n",
              "       [ 8.69565217e-01,  8.88888889e-01,  5.00000000e-01,\n",
              "         1.10164807e-03,  1.35180675e+00, -6.72318001e-01],\n",
              "       [ 8.69565217e-01,  8.88888889e-01,  5.00000000e-01,\n",
              "         1.10164807e-03,  1.35180675e+00, -6.72318001e-01],\n",
              "       [ 8.47826087e-01,  8.88888889e-01,  5.00000000e-01,\n",
              "         1.10164807e-03,  1.35180675e+00, -6.72318001e-01],\n",
              "       [ 8.47826087e-01,  8.88888889e-01,  5.00000000e-01,\n",
              "         1.10164807e-03,  1.35180675e+00, -6.72318001e-01],\n",
              "       [ 8.47826087e-01,  8.44444444e-01,  6.66666667e-01,\n",
              "         1.98296793e-02,  1.13995644e+00, -6.72318001e-01],\n",
              "       [ 8.04347826e-01,  8.44444444e-01,  1.66666667e-01,\n",
              "         5.50824559e-02,  1.13995644e+00, -6.72318001e-01],\n",
              "       [ 8.04347826e-01,  8.44444444e-01,  1.66666667e-01,\n",
              "         5.50824559e-02,  1.13995644e+00, -6.72318001e-01],\n",
              "       [ 8.04347826e-01,  8.44444444e-01,  1.66666667e-01,\n",
              "         5.50824559e-02,  1.13995644e+00, -6.72318001e-01],\n",
              "       [ 7.82608696e-01,  8.44444444e-01,  1.66666667e-01,\n",
              "         5.50824559e-02,  1.13995644e+00, -6.72318001e-01],\n",
              "       [ 8.04347826e-01,  8.66666667e-01,  0.00000000e+00,\n",
              "         7.93187377e-02,  9.28106130e-01, -6.72318001e-01],\n",
              "       [ 8.26086957e-01,  8.66666667e-01,  0.00000000e+00,\n",
              "         7.93187377e-02,  9.28106130e-01, -6.72318001e-01],\n",
              "       [ 8.04347826e-01,  8.66666667e-01,  0.00000000e+00,\n",
              "         7.93187377e-02,  9.28106130e-01, -6.72318001e-01],\n",
              "       [ 7.82608696e-01,  8.66666667e-01,  0.00000000e+00,\n",
              "         7.93187377e-02,  9.28106130e-01, -6.72318001e-01],\n",
              "       [ 7.82608696e-01,  8.66666667e-01,  0.00000000e+00,\n",
              "         7.93187377e-02,  9.28106130e-01, -6.72318001e-01],\n",
              "       [ 7.82608696e-01,  8.22222222e-01,  5.00000000e-01,\n",
              "         2.02339901e-01,  7.16255818e-01, -6.72318001e-01],\n",
              "       [ 7.60869565e-01,  8.22222222e-01,  5.00000000e-01,\n",
              "         2.02339901e-01,  7.16255818e-01, -6.72318001e-01],\n",
              "       [ 7.60869565e-01,  8.22222222e-01,  5.00000000e-01,\n",
              "         2.02339901e-01,  7.16255818e-01, -6.72318001e-01],\n",
              "       [ 7.60869565e-01,  8.22222222e-01,  5.00000000e-01,\n",
              "         2.02339901e-01,  7.16255818e-01, -6.72318001e-01],\n",
              "       [ 7.60869565e-01,  8.22222222e-01,  5.00000000e-01,\n",
              "         2.02339901e-01,  7.16255818e-01, -6.72318001e-01],\n",
              "       [ 7.39130435e-01,  7.77777778e-01,  8.33333333e-01,\n",
              "         1.38048843e-02,  5.04405506e-01, -6.72318001e-01],\n",
              "       [ 7.39130435e-01,  7.55555556e-01,  8.33333333e-01,\n",
              "         1.38048843e-02,  5.04405506e-01, -6.72318001e-01],\n",
              "       [ 7.39130435e-01,  7.55555556e-01,  8.33333333e-01,\n",
              "         1.38048843e-02,  5.04405506e-01, -6.72318001e-01],\n",
              "       [ 7.39130435e-01,  7.55555556e-01,  8.33333333e-01,\n",
              "         1.38048843e-02,  5.04405506e-01, -6.72318001e-01],\n",
              "       [ 7.39130435e-01,  7.55555556e-01,  8.33333333e-01,\n",
              "         1.38048843e-02,  5.04405506e-01, -6.72318001e-01],\n",
              "       [ 6.52173913e-01,  7.77777778e-01,  6.66666667e-01,\n",
              "         3.43119648e-01,  1.86630037e-01, -6.72318001e-01],\n",
              "       [ 6.52173913e-01,  7.11111111e-01,  6.66666667e-01,\n",
              "         3.43119648e-01,  1.86630037e-01, -6.72318001e-01],\n",
              "       [ 6.52173913e-01,  7.11111111e-01,  6.66666667e-01,\n",
              "         3.43119648e-01,  1.86630037e-01, -6.72318001e-01],\n",
              "       [ 6.52173913e-01,  7.11111111e-01,  6.66666667e-01,\n",
              "         3.43119648e-01,  1.86630037e-01, -6.72318001e-01],\n",
              "       [ 6.52173913e-01,  7.11111111e-01,  6.66666667e-01,\n",
              "         3.43119648e-01,  1.86630037e-01, -6.72318001e-01],\n",
              "       [ 5.21739130e-01,  5.77777778e-01,  5.00000000e-01,\n",
              "         4.40659900e-03, -2.52202753e-02, -6.72318001e-01],\n",
              "       [ 5.21739130e-01,  5.77777778e-01,  5.00000000e-01,\n",
              "         4.40659900e-03, -2.52202753e-02, -6.72318001e-01],\n",
              "       [ 5.21739130e-01,  5.55555556e-01,  5.00000000e-01,\n",
              "         4.40659900e-03, -2.52202753e-02, -6.72318001e-01],\n",
              "       [ 5.21739130e-01,  5.55555556e-01,  5.00000000e-01,\n",
              "         4.40659900e-03, -2.52202753e-02, -6.72318001e-01],\n",
              "       [ 5.21739130e-01,  5.55555556e-01,  5.00000000e-01,\n",
              "         4.40659900e-03, -2.52202753e-02, -6.72318001e-01],\n",
              "       [ 4.34782609e-01,  5.55555556e-01,  6.66666667e-01,\n",
              "         2.41151001e-01, -3.42995744e-01, -6.72318001e-01],\n",
              "       [ 4.13043478e-01,  5.11111111e-01,  6.66666667e-01,\n",
              "         2.41151001e-01, -3.42995744e-01, -6.72318001e-01],\n",
              "       [ 4.13043478e-01,  5.11111111e-01,  6.66666667e-01,\n",
              "         2.41151001e-01, -3.42995744e-01, -6.72318001e-01],\n",
              "       [ 4.13043478e-01,  5.11111111e-01,  6.66666667e-01,\n",
              "         2.41151001e-01, -3.42995744e-01, -6.72318001e-01],\n",
              "       [ 4.13043478e-01,  5.11111111e-01,  6.66666667e-01,\n",
              "         2.41151001e-01, -3.42995744e-01, -6.72318001e-01],\n",
              "       [ 3.47826087e-01,  4.00000000e-01,  1.00000000e+00,\n",
              "         6.22046202e-01, -5.54846056e-01, -6.72318001e-01],\n",
              "       [ 3.47826087e-01,  4.00000000e-01,  1.00000000e+00,\n",
              "         6.22046202e-01, -5.54846056e-01, -6.72318001e-01],\n",
              "       [ 3.47826087e-01,  4.00000000e-01,  1.00000000e+00,\n",
              "         6.22046202e-01, -5.54846056e-01, -6.72318001e-01],\n",
              "       [ 3.47826087e-01,  4.00000000e-01,  1.00000000e+00,\n",
              "         6.22046202e-01, -5.54846056e-01, -6.72318001e-01],\n",
              "       [ 3.47826087e-01,  4.00000000e-01,  1.00000000e+00,\n",
              "         6.22046202e-01, -5.54846056e-01, -6.72318001e-01],\n",
              "       [ 3.04347826e-01,  3.55555556e-01,  1.66666667e-01,\n",
              "         4.36605597e-01, -7.66696368e-01, -6.72318001e-01],\n",
              "       [ 2.60869565e-01,  3.55555556e-01,  1.66666667e-01,\n",
              "         4.36605597e-01, -7.66696368e-01, -6.72318001e-01],\n",
              "       [ 2.60869565e-01,  3.55555556e-01,  1.66666667e-01,\n",
              "         4.36605597e-01, -7.66696368e-01, -6.72318001e-01],\n",
              "       [ 3.04347826e-01,  3.55555556e-01,  1.66666667e-01,\n",
              "         4.36605597e-01, -7.66696368e-01, -6.72318001e-01],\n",
              "       [ 3.04347826e-01,  3.55555556e-01,  1.66666667e-01,\n",
              "         4.36605597e-01, -7.66696368e-01, -6.72318001e-01],\n",
              "       [ 3.47826087e-01,  3.11111111e-01,  3.33333333e-01,\n",
              "         5.64629470e-01, -9.78546681e-01, -6.72318001e-01],\n",
              "       [ 3.47826087e-01,  2.88888889e-01,  3.33333333e-01,\n",
              "         5.64629470e-01, -9.78546681e-01, -6.72318001e-01],\n",
              "       [ 3.04347826e-01,  2.88888889e-01,  3.33333333e-01,\n",
              "         5.64629470e-01, -9.78546681e-01, -6.72318001e-01],\n",
              "       [ 3.04347826e-01,  2.88888889e-01,  3.33333333e-01,\n",
              "         5.64629470e-01, -9.78546681e-01, -6.72318001e-01],\n",
              "       [ 2.82608696e-01,  2.88888889e-01,  3.33333333e-01,\n",
              "         5.64629470e-01, -9.78546681e-01, -6.72318001e-01],\n",
              "       [ 2.82608696e-01,  3.55555556e-01,  6.66666667e-01,\n",
              "         4.57442190e-01, -9.78546681e-01, -3.05599091e-01],\n",
              "       [ 2.60869565e-01,  3.55555556e-01,  6.66666667e-01,\n",
              "         4.57442190e-01, -9.78546681e-01, -3.05599091e-01],\n",
              "       [ 2.60869565e-01,  3.11111111e-01,  6.66666667e-01,\n",
              "         4.57442190e-01, -9.78546681e-01, -3.05599091e-01],\n",
              "       [ 2.60869565e-01,  3.11111111e-01,  6.66666667e-01,\n",
              "         4.57442190e-01, -9.78546681e-01, -3.05599091e-01],\n",
              "       [ 2.60869565e-01,  3.11111111e-01,  6.66666667e-01,\n",
              "         4.57442190e-01, -9.78546681e-01, -3.05599091e-01],\n",
              "       [ 2.17391304e-01,  2.88888889e-01,  5.00000000e-01,\n",
              "         7.76063741e-01, -9.78546681e-01,  6.11198183e-02],\n",
              "       [ 2.17391304e-01,  2.88888889e-01,  5.00000000e-01,\n",
              "         7.76063741e-01, -9.78546681e-01,  6.11198183e-02],\n",
              "       [ 2.17391304e-01,  2.88888889e-01,  5.00000000e-01,\n",
              "         7.76063741e-01, -9.78546681e-01,  6.11198183e-02],\n",
              "       [ 2.17391304e-01,  2.88888889e-01,  5.00000000e-01,\n",
              "         7.76063741e-01, -9.78546681e-01,  6.11198183e-02],\n",
              "       [ 2.17391304e-01,  2.88888889e-01,  5.00000000e-01,\n",
              "         7.76063741e-01, -9.78546681e-01,  6.11198183e-02],\n",
              "       [ 1.08695652e-01,  1.55555556e-01,  1.66666667e-01,\n",
              "         1.00000000e+00, -9.78546681e-01,  7.94557637e-01],\n",
              "       [ 8.69565217e-02,  1.77777778e-01,  1.66666667e-01,\n",
              "         1.00000000e+00, -9.78546681e-01,  7.94557637e-01],\n",
              "       [ 1.08695652e-01,  1.33333333e-01,  1.66666667e-01,\n",
              "         1.00000000e+00, -9.78546681e-01,  7.94557637e-01],\n",
              "       [ 1.08695652e-01,  1.33333333e-01,  1.66666667e-01,\n",
              "         1.00000000e+00, -9.78546681e-01,  7.94557637e-01],\n",
              "       [ 1.08695652e-01,  1.33333333e-01,  1.66666667e-01,\n",
              "         1.00000000e+00, -9.78546681e-01,  7.94557637e-01],\n",
              "       [ 1.08695652e-01,  6.66666667e-02,  3.33333333e-01,\n",
              "         5.65412996e-01, -9.78546681e-01,  1.16127655e+00],\n",
              "       [ 1.08695652e-01,  6.66666667e-02,  3.33333333e-01,\n",
              "         5.65412996e-01, -9.78546681e-01,  1.16127655e+00],\n",
              "       [ 1.08695652e-01,  6.66666667e-02,  3.33333333e-01,\n",
              "         5.65412996e-01, -9.78546681e-01,  1.16127655e+00],\n",
              "       [ 1.08695652e-01,  6.66666667e-02,  3.33333333e-01,\n",
              "         5.65412996e-01, -9.78546681e-01,  1.16127655e+00],\n",
              "       [ 1.08695652e-01,  6.66666667e-02,  3.33333333e-01,\n",
              "         5.65412996e-01, -9.78546681e-01,  1.16127655e+00],\n",
              "       [ 8.69565217e-02,  4.44444444e-02,  3.33333333e-01,\n",
              "         5.65412996e-01, -9.78546681e-01,  1.71135491e+00],\n",
              "       [ 8.69565217e-02,  2.22222222e-02,  3.33333333e-01,\n",
              "         5.65412996e-01, -9.78546681e-01,  1.71135491e+00],\n",
              "       [ 8.69565217e-02,  2.22222222e-02,  3.33333333e-01,\n",
              "         5.65412996e-01, -9.78546681e-01,  1.71135491e+00],\n",
              "       [ 8.69565217e-02,  2.22222222e-02,  3.33333333e-01,\n",
              "         5.65412996e-01, -9.78546681e-01,  1.71135491e+00],\n",
              "       [ 8.69565217e-02,  2.22222222e-02,  3.33333333e-01,\n",
              "         5.65412996e-01, -9.78546681e-01,  1.71135491e+00],\n",
              "       [ 8.69565217e-02,  0.00000000e+00,  3.33333333e-01,\n",
              "         5.65412996e-01, -9.78546681e-01,  2.07807382e+00],\n",
              "       [ 6.52173913e-02,  2.22222222e-02,  3.33333333e-01,\n",
              "         5.65412996e-01, -9.78546681e-01,  2.07807382e+00],\n",
              "       [ 0.00000000e+00,  2.22222222e-02,  3.33333333e-01,\n",
              "         5.65412996e-01, -9.78546681e-01,  2.07807382e+00],\n",
              "       [ 0.00000000e+00,  2.22222222e-02,  3.33333333e-01,\n",
              "         5.65412996e-01, -9.78546681e-01,  2.07807382e+00],\n",
              "       [ 2.17391304e-02,  2.22222222e-02,  3.33333333e-01,\n",
              "         5.65412996e-01, -9.78546681e-01,  2.07807382e+00],\n",
              "       [ 0.00000000e+00,  6.66666667e-02,  3.33333333e-01,\n",
              "         5.65412996e-01, -9.78546681e-01,  2.44479273e+00],\n",
              "       [ 2.17391304e-02,  4.44444444e-02,  3.33333333e-01,\n",
              "         5.65412996e-01, -9.78546681e-01,  2.44479273e+00],\n",
              "       [ 0.00000000e+00,  4.44444444e-02,  3.33333333e-01,\n",
              "         5.65412996e-01, -9.78546681e-01,  2.44479273e+00],\n",
              "       [ 0.00000000e+00,  4.44444444e-02,  3.33333333e-01,\n",
              "         5.65412996e-01, -9.78546681e-01,  2.44479273e+00],\n",
              "       [ 0.00000000e+00,  4.44444444e-02,  3.33333333e-01,\n",
              "         5.65412996e-01, -9.78546681e-01,  2.44479273e+00]])"
            ]
          },
          "metadata": {
            "tags": []
          },
          "execution_count": 49
        }
      ]
    },
    {
      "cell_type": "code",
      "metadata": {
        "colab_type": "code",
        "id": "VaXYvic1xSrB",
        "colab": {}
      },
      "source": [
        "yarray=prob_df1[['latitude','longitude']].as_matrix()"
      ],
      "execution_count": 0,
      "outputs": []
    },
    {
      "cell_type": "code",
      "metadata": {
        "colab_type": "code",
        "id": "u1LjECPuxSrC",
        "colab": {}
      },
      "source": [
        "SEQUENCE_SIZE = 1\n",
        "import numpy as np\n",
        "\n",
        "def to_sequences(seq_size, data,data2):\n",
        "    x = []\n",
        "    y = []\n",
        "\n",
        "    for i in range(len(data)-SEQUENCE_SIZE-1):\n",
        "        #print(i)\n",
        "        window = data[i:(i+SEQUENCE_SIZE)]\n",
        "        after_window = data2[i+SEQUENCE_SIZE]\n",
        "        window = [[x] for x in window]\n",
        "        #print(\"{} - {}\".format(window,after_window))\n",
        "        x.append(window)\n",
        "        y.append(after_window)\n",
        "        \n",
        "    return np.array(x),np.array(y)"
      ],
      "execution_count": 0,
      "outputs": []
    },
    {
      "cell_type": "code",
      "metadata": {
        "colab_type": "code",
        "id": "RJz_Dq_pxSrC",
        "colab": {}
      },
      "source": [
        "x,y = to_sequences(SEQUENCE_SIZE,xarray,yarray)"
      ],
      "execution_count": 0,
      "outputs": []
    },
    {
      "cell_type": "code",
      "metadata": {
        "colab_type": "code",
        "outputId": "26fba04e-1020-4068-c85c-4b9e173b898d",
        "id": "L-lkMzJAxSrE",
        "colab": {
          "base_uri": "https://localhost:8080/",
          "height": 34
        }
      },
      "source": [
        "x.shape"
      ],
      "execution_count": 53,
      "outputs": [
        {
          "output_type": "execute_result",
          "data": {
            "text/plain": [
              "(103, 1, 1, 6)"
            ]
          },
          "metadata": {
            "tags": []
          },
          "execution_count": 53
        }
      ]
    },
    {
      "cell_type": "code",
      "metadata": {
        "colab_type": "code",
        "outputId": "d80ac575-8c79-4386-8b7b-8a6e54765882",
        "id": "WM-s-LdtxSrF",
        "colab": {
          "base_uri": "https://localhost:8080/",
          "height": 34
        }
      },
      "source": [
        "y.shape"
      ],
      "execution_count": 54,
      "outputs": [
        {
          "output_type": "execute_result",
          "data": {
            "text/plain": [
              "(103, 2)"
            ]
          },
          "metadata": {
            "tags": []
          },
          "execution_count": 54
        }
      ]
    },
    {
      "cell_type": "code",
      "metadata": {
        "colab_type": "code",
        "id": "Afysds9rxSrG",
        "colab": {}
      },
      "source": [
        "x_rnn = x.reshape(x.shape[0],1,6)"
      ],
      "execution_count": 0,
      "outputs": []
    },
    {
      "cell_type": "code",
      "metadata": {
        "colab_type": "code",
        "id": "CPjHpauaxSrH",
        "colab": {}
      },
      "source": [
        "y_rnn = y.reshape(y.shape[0], 2)"
      ],
      "execution_count": 0,
      "outputs": []
    },
    {
      "cell_type": "code",
      "metadata": {
        "colab_type": "code",
        "outputId": "059eff0b-c90b-43fd-cf13-a895367791a3",
        "id": "brSvjrzrxSrI",
        "colab": {
          "base_uri": "https://localhost:8080/",
          "height": 34
        }
      },
      "source": [
        "x_rnn.shape"
      ],
      "execution_count": 57,
      "outputs": [
        {
          "output_type": "execute_result",
          "data": {
            "text/plain": [
              "(103, 1, 6)"
            ]
          },
          "metadata": {
            "tags": []
          },
          "execution_count": 57
        }
      ]
    },
    {
      "cell_type": "code",
      "metadata": {
        "colab_type": "code",
        "outputId": "cbbb57c9-bf70-4d22-a820-fbd98e1fb342",
        "id": "Kc0ex-eqxSrK",
        "colab": {
          "base_uri": "https://localhost:8080/",
          "height": 34
        }
      },
      "source": [
        "y_rnn.shape"
      ],
      "execution_count": 58,
      "outputs": [
        {
          "output_type": "execute_result",
          "data": {
            "text/plain": [
              "(103, 2)"
            ]
          },
          "metadata": {
            "tags": []
          },
          "execution_count": 58
        }
      ]
    },
    {
      "cell_type": "code",
      "metadata": {
        "colab_type": "code",
        "id": "x-XXFpPXxSrL",
        "colab": {}
      },
      "source": [
        ""
      ],
      "execution_count": 0,
      "outputs": []
    },
    {
      "cell_type": "code",
      "metadata": {
        "colab_type": "code",
        "id": "cKQMjjfFxSrL",
        "colab": {}
      },
      "source": [
        "x_train_lstm = x_rnn[0:75]\n",
        "y_train_lstm = y_rnn[0:75]\n",
        "x_test_lstm = x_rnn[75:103]\n",
        "y_test_lstm = y_rnn[75:103]"
      ],
      "execution_count": 0,
      "outputs": []
    },
    {
      "cell_type": "code",
      "metadata": {
        "scrolled": true,
        "colab_type": "code",
        "outputId": "3a15a6e7-26ed-4f4e-e133-25091b672cf6",
        "id": "tI3dKPgyxSrM",
        "colab": {
          "base_uri": "https://localhost:8080/",
          "height": 1000
        }
      },
      "source": [
        "from keras.preprocessing import sequence\n",
        "from keras.models import Sequential\n",
        "from keras.layers import Dense, Embedding\n",
        "from keras.layers import LSTM\n",
        "from keras.datasets import imdb\n",
        "from keras.callbacks import EarlyStopping\n",
        "from keras.callbacks import ModelCheckpoint\n",
        "import numpy as np\n",
        "\n",
        "# x_train_lstm, y_train_lstm, x_test_lstm, y_test_lstm = train_test_split(x_rnn,y_rnn, test_size=0.3, random_state=42)\n",
        "checkpointer = ModelCheckpoint(filepath=\"/content/drive/My Drive/Colab Notebooks/masters_project/best_weights_fairclass1.hdf5\", verbose=0, save_best_only=True) # save best model\n",
        "\n",
        "print('Build model...')\n",
        "for i in range(5):\n",
        "    model = Sequential()\n",
        "    model.add(LSTM(512, dropout=0.1, recurrent_dropout=0.1, input_shape=(1, 6)))\n",
        "    model.add(Dense(256))\n",
        "    model.add(Dense(128))\n",
        "    model.add(Dense(2))\n",
        "    model.summary()\n",
        "    model.compile(loss='mean_squared_error', optimizer='adam')\n",
        "    monitor = EarlyStopping(monitor='val_loss', min_delta=1e-3, patience=5, verbose=1, mode='auto')\n",
        "    print('Train...')\n",
        "    model.fit(x_train_lstm,y_train_lstm,validation_data=(x_test_lstm,y_test_lstm),callbacks=[monitor,checkpointer],verbose=2, epochs=10, batch_size = 512)\n",
        "     \n",
        "model.load_weights('/content/drive/My Drive/Colab Notebooks/masters_project/best_weights_fairclass1.hdf5')\n",
        "pred = model.predict(x_test_lstm)"
      ],
      "execution_count": 60,
      "outputs": [
        {
          "output_type": "stream",
          "text": [
            "Build model...\n",
            "WARNING:tensorflow:From /usr/local/lib/python3.6/dist-packages/keras/backend/tensorflow_backend.py:148: The name tf.placeholder_with_default is deprecated. Please use tf.compat.v1.placeholder_with_default instead.\n",
            "\n",
            "WARNING:tensorflow:From /usr/local/lib/python3.6/dist-packages/keras/backend/tensorflow_backend.py:3733: calling dropout (from tensorflow.python.ops.nn_ops) with keep_prob is deprecated and will be removed in a future version.\n",
            "Instructions for updating:\n",
            "Please use `rate` instead of `keep_prob`. Rate should be set to `rate = 1 - keep_prob`.\n",
            "Model: \"sequential_6\"\n",
            "_________________________________________________________________\n",
            "Layer (type)                 Output Shape              Param #   \n",
            "=================================================================\n",
            "lstm_1 (LSTM)                (None, 512)               1062912   \n",
            "_________________________________________________________________\n",
            "dense_21 (Dense)             (None, 256)               131328    \n",
            "_________________________________________________________________\n",
            "dense_22 (Dense)             (None, 128)               32896     \n",
            "_________________________________________________________________\n",
            "dense_23 (Dense)             (None, 2)                 258       \n",
            "=================================================================\n",
            "Total params: 1,227,394\n",
            "Trainable params: 1,227,394\n",
            "Non-trainable params: 0\n",
            "_________________________________________________________________\n",
            "Train...\n",
            "WARNING:tensorflow:From /usr/local/lib/python3.6/dist-packages/tensorflow_core/python/ops/math_grad.py:1424: where (from tensorflow.python.ops.array_ops) is deprecated and will be removed in a future version.\n",
            "Instructions for updating:\n",
            "Use tf.where in 2.0, which has the same broadcast rule as np.where\n",
            "Train on 75 samples, validate on 28 samples\n",
            "Epoch 1/10\n",
            " - 2s - loss: 0.6939 - val_loss: 1.7168\n",
            "Epoch 2/10\n",
            " - 0s - loss: 0.5607 - val_loss: 1.6332\n",
            "Epoch 3/10\n",
            " - 0s - loss: 0.4066 - val_loss: 1.5520\n",
            "Epoch 4/10\n",
            " - 0s - loss: 0.2800 - val_loss: 1.4645\n",
            "Epoch 5/10\n",
            " - 0s - loss: 0.2105 - val_loss: 1.3717\n",
            "Epoch 6/10\n",
            " - 0s - loss: 0.1544 - val_loss: 1.2865\n",
            "Epoch 7/10\n",
            " - 0s - loss: 0.1569 - val_loss: 1.2338\n",
            "Epoch 8/10\n",
            " - 0s - loss: 0.1057 - val_loss: 1.2235\n",
            "Epoch 9/10\n",
            " - 0s - loss: 0.1144 - val_loss: 1.2451\n",
            "Epoch 10/10\n",
            " - 0s - loss: 0.1101 - val_loss: 1.2646\n",
            "Model: \"sequential_7\"\n",
            "_________________________________________________________________\n",
            "Layer (type)                 Output Shape              Param #   \n",
            "=================================================================\n",
            "lstm_2 (LSTM)                (None, 512)               1062912   \n",
            "_________________________________________________________________\n",
            "dense_24 (Dense)             (None, 256)               131328    \n",
            "_________________________________________________________________\n",
            "dense_25 (Dense)             (None, 128)               32896     \n",
            "_________________________________________________________________\n",
            "dense_26 (Dense)             (None, 2)                 258       \n",
            "=================================================================\n",
            "Total params: 1,227,394\n",
            "Trainable params: 1,227,394\n",
            "Non-trainable params: 0\n",
            "_________________________________________________________________\n",
            "Train...\n",
            "Train on 75 samples, validate on 28 samples\n",
            "Epoch 1/10\n",
            " - 2s - loss: 0.7020 - val_loss: 1.6740\n",
            "Epoch 2/10\n",
            " - 0s - loss: 0.5093 - val_loss: 1.5820\n",
            "Epoch 3/10\n",
            " - 0s - loss: 0.3632 - val_loss: 1.4874\n",
            "Epoch 4/10\n",
            " - 0s - loss: 0.2531 - val_loss: 1.3895\n",
            "Epoch 5/10\n",
            " - 0s - loss: 0.1566 - val_loss: 1.2928\n",
            "Epoch 6/10\n",
            " - 0s - loss: 0.1428 - val_loss: 1.2233\n",
            "Epoch 7/10\n",
            " - 0s - loss: 0.1527 - val_loss: 1.1978\n",
            "Epoch 8/10\n",
            " - 0s - loss: 0.1218 - val_loss: 1.2109\n",
            "Epoch 9/10\n",
            " - 0s - loss: 0.0978 - val_loss: 1.2509\n",
            "Epoch 10/10\n",
            " - 0s - loss: 0.0708 - val_loss: 1.2947\n",
            "Model: \"sequential_8\"\n",
            "_________________________________________________________________\n",
            "Layer (type)                 Output Shape              Param #   \n",
            "=================================================================\n",
            "lstm_3 (LSTM)                (None, 512)               1062912   \n",
            "_________________________________________________________________\n",
            "dense_27 (Dense)             (None, 256)               131328    \n",
            "_________________________________________________________________\n",
            "dense_28 (Dense)             (None, 128)               32896     \n",
            "_________________________________________________________________\n",
            "dense_29 (Dense)             (None, 2)                 258       \n",
            "=================================================================\n",
            "Total params: 1,227,394\n",
            "Trainable params: 1,227,394\n",
            "Non-trainable params: 0\n",
            "_________________________________________________________________\n",
            "Train...\n",
            "Train on 75 samples, validate on 28 samples\n",
            "Epoch 1/10\n",
            " - 2s - loss: 0.6833 - val_loss: 1.7134\n",
            "Epoch 2/10\n",
            " - 0s - loss: 0.5095 - val_loss: 1.6705\n",
            "Epoch 3/10\n",
            " - 0s - loss: 0.3680 - val_loss: 1.6257\n",
            "Epoch 4/10\n",
            " - 0s - loss: 0.2568 - val_loss: 1.5814\n",
            "Epoch 5/10\n",
            " - 0s - loss: 0.1447 - val_loss: 1.5315\n",
            "Epoch 6/10\n",
            " - 0s - loss: 0.0848 - val_loss: 1.4805\n",
            "Epoch 7/10\n",
            " - 0s - loss: 0.0748 - val_loss: 1.4317\n",
            "Epoch 8/10\n",
            " - 0s - loss: 0.0963 - val_loss: 1.4059\n",
            "Epoch 9/10\n",
            " - 0s - loss: 0.1233 - val_loss: 1.3915\n",
            "Epoch 10/10\n",
            " - 0s - loss: 0.1304 - val_loss: 1.3650\n",
            "Model: \"sequential_9\"\n",
            "_________________________________________________________________\n",
            "Layer (type)                 Output Shape              Param #   \n",
            "=================================================================\n",
            "lstm_4 (LSTM)                (None, 512)               1062912   \n",
            "_________________________________________________________________\n",
            "dense_30 (Dense)             (None, 256)               131328    \n",
            "_________________________________________________________________\n",
            "dense_31 (Dense)             (None, 128)               32896     \n",
            "_________________________________________________________________\n",
            "dense_32 (Dense)             (None, 2)                 258       \n",
            "=================================================================\n",
            "Total params: 1,227,394\n",
            "Trainable params: 1,227,394\n",
            "Non-trainable params: 0\n",
            "_________________________________________________________________\n",
            "Train...\n",
            "Train on 75 samples, validate on 28 samples\n",
            "Epoch 1/10\n",
            " - 2s - loss: 0.6673 - val_loss: 1.7088\n",
            "Epoch 2/10\n",
            " - 0s - loss: 0.4827 - val_loss: 1.6188\n",
            "Epoch 3/10\n",
            " - 0s - loss: 0.3517 - val_loss: 1.5303\n",
            "Epoch 4/10\n",
            " - 0s - loss: 0.2334 - val_loss: 1.4394\n",
            "Epoch 5/10\n",
            " - 0s - loss: 0.1436 - val_loss: 1.3434\n",
            "Epoch 6/10\n",
            " - 0s - loss: 0.1122 - val_loss: 1.2702\n",
            "Epoch 7/10\n",
            " - 0s - loss: 0.1201 - val_loss: 1.2427\n",
            "Epoch 8/10\n",
            " - 0s - loss: 0.0899 - val_loss: 1.2578\n",
            "Epoch 9/10\n",
            " - 0s - loss: 0.0795 - val_loss: 1.2998\n",
            "Epoch 10/10\n",
            " - 0s - loss: 0.1050 - val_loss: 1.3387\n",
            "Model: \"sequential_10\"\n",
            "_________________________________________________________________\n",
            "Layer (type)                 Output Shape              Param #   \n",
            "=================================================================\n",
            "lstm_5 (LSTM)                (None, 512)               1062912   \n",
            "_________________________________________________________________\n",
            "dense_33 (Dense)             (None, 256)               131328    \n",
            "_________________________________________________________________\n",
            "dense_34 (Dense)             (None, 128)               32896     \n",
            "_________________________________________________________________\n",
            "dense_35 (Dense)             (None, 2)                 258       \n",
            "=================================================================\n",
            "Total params: 1,227,394\n",
            "Trainable params: 1,227,394\n",
            "Non-trainable params: 0\n",
            "_________________________________________________________________\n",
            "Train...\n",
            "Train on 75 samples, validate on 28 samples\n",
            "Epoch 1/10\n",
            " - 3s - loss: 0.6909 - val_loss: 1.6875\n",
            "Epoch 2/10\n",
            " - 0s - loss: 0.5185 - val_loss: 1.6266\n",
            "Epoch 3/10\n",
            " - 0s - loss: 0.3741 - val_loss: 1.5639\n",
            "Epoch 4/10\n",
            " - 0s - loss: 0.2743 - val_loss: 1.4975\n",
            "Epoch 5/10\n",
            " - 0s - loss: 0.1901 - val_loss: 1.4237\n",
            "Epoch 6/10\n",
            " - 0s - loss: 0.1332 - val_loss: 1.3564\n",
            "Epoch 7/10\n",
            " - 0s - loss: 0.1243 - val_loss: 1.3256\n",
            "Epoch 8/10\n",
            " - 0s - loss: 0.0971 - val_loss: 1.3247\n",
            "Epoch 9/10\n",
            " - 0s - loss: 0.1104 - val_loss: 1.3381\n",
            "Epoch 10/10\n",
            " - 0s - loss: 0.1262 - val_loss: 1.3285\n"
          ],
          "name": "stdout"
        }
      ]
    },
    {
      "cell_type": "code",
      "metadata": {
        "id": "t54EaXQnoFKg",
        "colab_type": "code",
        "colab": {}
      },
      "source": [
        "list_1 = []\n",
        "for p in range(len(pred)):\n",
        "  sum = pred[p][0]\n",
        "  list_1.append(sum)\n",
        "list_2 = []\n",
        "for l in range(len(pred)):\n",
        "  sum1 = pred[l][1]\n",
        "  list_2.append(sum1)\n"
      ],
      "execution_count": 0,
      "outputs": []
    },
    {
      "cell_type": "code",
      "metadata": {
        "id": "AkaHLUThrQ9N",
        "colab_type": "code",
        "colab": {}
      },
      "source": [
        "pred_lstm_lat = pd.DataFrame(list_1, columns =['pred_latitude'])\n",
        "pred_lstm_long = pd.DataFrame(list_2, columns =['pred_longitude'])"
      ],
      "execution_count": 0,
      "outputs": []
    },
    {
      "cell_type": "code",
      "metadata": {
        "id": "T4WCpyJ3vEjS",
        "colab_type": "code",
        "outputId": "e1f03963-13c3-487a-eee2-382ae3c2bd33",
        "colab": {
          "base_uri": "https://localhost:8080/",
          "height": 204
        }
      },
      "source": [
        "pred_lstm_lat.head()"
      ],
      "execution_count": 63,
      "outputs": [
        {
          "output_type": "execute_result",
          "data": {
            "text/html": [
              "<div>\n",
              "<style scoped>\n",
              "    .dataframe tbody tr th:only-of-type {\n",
              "        vertical-align: middle;\n",
              "    }\n",
              "\n",
              "    .dataframe tbody tr th {\n",
              "        vertical-align: top;\n",
              "    }\n",
              "\n",
              "    .dataframe thead th {\n",
              "        text-align: right;\n",
              "    }\n",
              "</style>\n",
              "<table border=\"1\" class=\"dataframe\">\n",
              "  <thead>\n",
              "    <tr style=\"text-align: right;\">\n",
              "      <th></th>\n",
              "      <th>pred_latitude</th>\n",
              "    </tr>\n",
              "  </thead>\n",
              "  <tbody>\n",
              "    <tr>\n",
              "      <th>0</th>\n",
              "      <td>-0.699046</td>\n",
              "    </tr>\n",
              "    <tr>\n",
              "      <th>1</th>\n",
              "      <td>-0.699046</td>\n",
              "    </tr>\n",
              "    <tr>\n",
              "      <th>2</th>\n",
              "      <td>-0.699046</td>\n",
              "    </tr>\n",
              "    <tr>\n",
              "      <th>3</th>\n",
              "      <td>-0.699046</td>\n",
              "    </tr>\n",
              "    <tr>\n",
              "      <th>4</th>\n",
              "      <td>-0.699046</td>\n",
              "    </tr>\n",
              "  </tbody>\n",
              "</table>\n",
              "</div>"
            ],
            "text/plain": [
              "   pred_latitude\n",
              "0      -0.699046\n",
              "1      -0.699046\n",
              "2      -0.699046\n",
              "3      -0.699046\n",
              "4      -0.699046"
            ]
          },
          "metadata": {
            "tags": []
          },
          "execution_count": 63
        }
      ]
    },
    {
      "cell_type": "code",
      "metadata": {
        "id": "-GZ0MnPpvIrW",
        "colab_type": "code",
        "outputId": "0b369efe-be24-49d0-afea-a615e649050a",
        "colab": {
          "base_uri": "https://localhost:8080/",
          "height": 204
        }
      },
      "source": [
        "pred_lstm_long.head()"
      ],
      "execution_count": 64,
      "outputs": [
        {
          "output_type": "execute_result",
          "data": {
            "text/html": [
              "<div>\n",
              "<style scoped>\n",
              "    .dataframe tbody tr th:only-of-type {\n",
              "        vertical-align: middle;\n",
              "    }\n",
              "\n",
              "    .dataframe tbody tr th {\n",
              "        vertical-align: top;\n",
              "    }\n",
              "\n",
              "    .dataframe thead th {\n",
              "        text-align: right;\n",
              "    }\n",
              "</style>\n",
              "<table border=\"1\" class=\"dataframe\">\n",
              "  <thead>\n",
              "    <tr style=\"text-align: right;\">\n",
              "      <th></th>\n",
              "      <th>pred_longitude</th>\n",
              "    </tr>\n",
              "  </thead>\n",
              "  <tbody>\n",
              "    <tr>\n",
              "      <th>0</th>\n",
              "      <td>-0.449927</td>\n",
              "    </tr>\n",
              "    <tr>\n",
              "      <th>1</th>\n",
              "      <td>-0.449927</td>\n",
              "    </tr>\n",
              "    <tr>\n",
              "      <th>2</th>\n",
              "      <td>-0.449927</td>\n",
              "    </tr>\n",
              "    <tr>\n",
              "      <th>3</th>\n",
              "      <td>-0.449927</td>\n",
              "    </tr>\n",
              "    <tr>\n",
              "      <th>4</th>\n",
              "      <td>-0.449927</td>\n",
              "    </tr>\n",
              "  </tbody>\n",
              "</table>\n",
              "</div>"
            ],
            "text/plain": [
              "   pred_longitude\n",
              "0       -0.449927\n",
              "1       -0.449927\n",
              "2       -0.449927\n",
              "3       -0.449927\n",
              "4       -0.449927"
            ]
          },
          "metadata": {
            "tags": []
          },
          "execution_count": 64
        }
      ]
    },
    {
      "cell_type": "code",
      "metadata": {
        "id": "2GVt9e0XugUy",
        "colab_type": "code",
        "colab": {}
      },
      "source": [
        "list_1 = []\n",
        "for p in range(len(y_test_lstm)):\n",
        "  sum = y_test_lstm[p][0]\n",
        "  list_1.append(sum)\n",
        "list_2 = []\n",
        "for l in range(len(y_test_lstm)):\n",
        "  sum1 = y_test_lstm[l][1]\n",
        "  list_2.append(sum1)"
      ],
      "execution_count": 0,
      "outputs": []
    },
    {
      "cell_type": "code",
      "metadata": {
        "id": "6goZhdRfunIP",
        "colab_type": "code",
        "colab": {}
      },
      "source": [
        "y_test_lstm_lat = pd.DataFrame(list_1, columns =['pred_latitude'])\n",
        "y_test_lstm_long = pd.DataFrame(list_2, columns =['pred_longitude'])"
      ],
      "execution_count": 0,
      "outputs": []
    },
    {
      "cell_type": "code",
      "metadata": {
        "id": "I-_Cs5U_vMV5",
        "colab_type": "code",
        "outputId": "a54f351d-88d4-4a60-eb63-6c161912d361",
        "colab": {
          "base_uri": "https://localhost:8080/",
          "height": 204
        }
      },
      "source": [
        "y_test_lstm_lat.head()"
      ],
      "execution_count": 67,
      "outputs": [
        {
          "output_type": "execute_result",
          "data": {
            "text/html": [
              "<div>\n",
              "<style scoped>\n",
              "    .dataframe tbody tr th:only-of-type {\n",
              "        vertical-align: middle;\n",
              "    }\n",
              "\n",
              "    .dataframe tbody tr th {\n",
              "        vertical-align: top;\n",
              "    }\n",
              "\n",
              "    .dataframe thead th {\n",
              "        text-align: right;\n",
              "    }\n",
              "</style>\n",
              "<table border=\"1\" class=\"dataframe\">\n",
              "  <thead>\n",
              "    <tr style=\"text-align: right;\">\n",
              "      <th></th>\n",
              "      <th>pred_latitude</th>\n",
              "    </tr>\n",
              "  </thead>\n",
              "  <tbody>\n",
              "    <tr>\n",
              "      <th>0</th>\n",
              "      <td>-0.978547</td>\n",
              "    </tr>\n",
              "    <tr>\n",
              "      <th>1</th>\n",
              "      <td>-0.978547</td>\n",
              "    </tr>\n",
              "    <tr>\n",
              "      <th>2</th>\n",
              "      <td>-0.978547</td>\n",
              "    </tr>\n",
              "    <tr>\n",
              "      <th>3</th>\n",
              "      <td>-0.978547</td>\n",
              "    </tr>\n",
              "    <tr>\n",
              "      <th>4</th>\n",
              "      <td>-0.978547</td>\n",
              "    </tr>\n",
              "  </tbody>\n",
              "</table>\n",
              "</div>"
            ],
            "text/plain": [
              "   pred_latitude\n",
              "0      -0.978547\n",
              "1      -0.978547\n",
              "2      -0.978547\n",
              "3      -0.978547\n",
              "4      -0.978547"
            ]
          },
          "metadata": {
            "tags": []
          },
          "execution_count": 67
        }
      ]
    },
    {
      "cell_type": "code",
      "metadata": {
        "id": "UjlR8_dRvP_2",
        "colab_type": "code",
        "outputId": "97589e70-0c45-41f5-e766-3fd96bd2ecd1",
        "colab": {
          "base_uri": "https://localhost:8080/",
          "height": 204
        }
      },
      "source": [
        "y_test_lstm_long.head()"
      ],
      "execution_count": 68,
      "outputs": [
        {
          "output_type": "execute_result",
          "data": {
            "text/html": [
              "<div>\n",
              "<style scoped>\n",
              "    .dataframe tbody tr th:only-of-type {\n",
              "        vertical-align: middle;\n",
              "    }\n",
              "\n",
              "    .dataframe tbody tr th {\n",
              "        vertical-align: top;\n",
              "    }\n",
              "\n",
              "    .dataframe thead th {\n",
              "        text-align: right;\n",
              "    }\n",
              "</style>\n",
              "<table border=\"1\" class=\"dataframe\">\n",
              "  <thead>\n",
              "    <tr style=\"text-align: right;\">\n",
              "      <th></th>\n",
              "      <th>pred_longitude</th>\n",
              "    </tr>\n",
              "  </thead>\n",
              "  <tbody>\n",
              "    <tr>\n",
              "      <th>0</th>\n",
              "      <td>0.061120</td>\n",
              "    </tr>\n",
              "    <tr>\n",
              "      <th>1</th>\n",
              "      <td>0.061120</td>\n",
              "    </tr>\n",
              "    <tr>\n",
              "      <th>2</th>\n",
              "      <td>0.061120</td>\n",
              "    </tr>\n",
              "    <tr>\n",
              "      <th>3</th>\n",
              "      <td>0.061120</td>\n",
              "    </tr>\n",
              "    <tr>\n",
              "      <th>4</th>\n",
              "      <td>0.794558</td>\n",
              "    </tr>\n",
              "  </tbody>\n",
              "</table>\n",
              "</div>"
            ],
            "text/plain": [
              "   pred_longitude\n",
              "0        0.061120\n",
              "1        0.061120\n",
              "2        0.061120\n",
              "3        0.061120\n",
              "4        0.794558"
            ]
          },
          "metadata": {
            "tags": []
          },
          "execution_count": 68
        }
      ]
    },
    {
      "cell_type": "code",
      "metadata": {
        "id": "oG6nboARpA2i",
        "colab_type": "code",
        "outputId": "bd9a0c48-b219-4520-fd07-e60ca3b73944",
        "colab": {
          "base_uri": "https://localhost:8080/",
          "height": 34
        }
      },
      "source": [
        "y_test_lstm = (((y_test_lstm_lat.pred_latitude.sub(pred_lstm_lat['pred_latitude']).pow(2).\n",
        "                              add(y_test_lstm_long.pred_longitude.sub(pred_lstm_long['pred_longitude']).pow(2))).pow(.5)))\n",
        "y_test_lstm_1 = y_test_lstm\n",
        "lstm_score = y_test_lstm.mean()\n",
        "lstm_score"
      ],
      "execution_count": 69,
      "outputs": [
        {
          "output_type": "execute_result",
          "data": {
            "text/plain": [
              "1.4568874550947268"
            ]
          },
          "metadata": {
            "tags": []
          },
          "execution_count": 69
        }
      ]
    },
    {
      "cell_type": "code",
      "metadata": {
        "id": "sMf_Y-biwltG",
        "colab_type": "code",
        "colab": {}
      },
      "source": [
        "y_test_lstm_1 = y_test_lstm_1.to_frame()"
      ],
      "execution_count": 0,
      "outputs": []
    },
    {
      "cell_type": "code",
      "metadata": {
        "id": "V-TSYQuPpEMj",
        "colab_type": "code",
        "outputId": "7708099e-1ac4-4694-abf9-45ed5f018b8c",
        "colab": {
          "base_uri": "https://localhost:8080/",
          "height": 917
        }
      },
      "source": [
        "y_test_lstm_1"
      ],
      "execution_count": 71,
      "outputs": [
        {
          "output_type": "execute_result",
          "data": {
            "text/html": [
              "<div>\n",
              "<style scoped>\n",
              "    .dataframe tbody tr th:only-of-type {\n",
              "        vertical-align: middle;\n",
              "    }\n",
              "\n",
              "    .dataframe tbody tr th {\n",
              "        vertical-align: top;\n",
              "    }\n",
              "\n",
              "    .dataframe thead th {\n",
              "        text-align: right;\n",
              "    }\n",
              "</style>\n",
              "<table border=\"1\" class=\"dataframe\">\n",
              "  <thead>\n",
              "    <tr style=\"text-align: right;\">\n",
              "      <th></th>\n",
              "      <th>0</th>\n",
              "    </tr>\n",
              "  </thead>\n",
              "  <tbody>\n",
              "    <tr>\n",
              "      <th>0</th>\n",
              "      <td>0.582486</td>\n",
              "    </tr>\n",
              "    <tr>\n",
              "      <th>1</th>\n",
              "      <td>0.582486</td>\n",
              "    </tr>\n",
              "    <tr>\n",
              "      <th>2</th>\n",
              "      <td>0.582486</td>\n",
              "    </tr>\n",
              "    <tr>\n",
              "      <th>3</th>\n",
              "      <td>0.582486</td>\n",
              "    </tr>\n",
              "    <tr>\n",
              "      <th>4</th>\n",
              "      <td>1.275485</td>\n",
              "    </tr>\n",
              "    <tr>\n",
              "      <th>5</th>\n",
              "      <td>1.007845</td>\n",
              "    </tr>\n",
              "    <tr>\n",
              "      <th>6</th>\n",
              "      <td>1.008131</td>\n",
              "    </tr>\n",
              "    <tr>\n",
              "      <th>7</th>\n",
              "      <td>1.002769</td>\n",
              "    </tr>\n",
              "    <tr>\n",
              "      <th>8</th>\n",
              "      <td>1.002769</td>\n",
              "    </tr>\n",
              "    <tr>\n",
              "      <th>9</th>\n",
              "      <td>1.360877</td>\n",
              "    </tr>\n",
              "    <tr>\n",
              "      <th>10</th>\n",
              "      <td>1.254090</td>\n",
              "    </tr>\n",
              "    <tr>\n",
              "      <th>11</th>\n",
              "      <td>1.254090</td>\n",
              "    </tr>\n",
              "    <tr>\n",
              "      <th>12</th>\n",
              "      <td>1.254090</td>\n",
              "    </tr>\n",
              "    <tr>\n",
              "      <th>13</th>\n",
              "      <td>1.254090</td>\n",
              "    </tr>\n",
              "    <tr>\n",
              "      <th>14</th>\n",
              "      <td>1.793524</td>\n",
              "    </tr>\n",
              "    <tr>\n",
              "      <th>15</th>\n",
              "      <td>1.648132</td>\n",
              "    </tr>\n",
              "    <tr>\n",
              "      <th>16</th>\n",
              "      <td>1.643382</td>\n",
              "    </tr>\n",
              "    <tr>\n",
              "      <th>17</th>\n",
              "      <td>1.643382</td>\n",
              "    </tr>\n",
              "    <tr>\n",
              "      <th>18</th>\n",
              "      <td>1.643382</td>\n",
              "    </tr>\n",
              "    <tr>\n",
              "      <th>19</th>\n",
              "      <td>2.005153</td>\n",
              "    </tr>\n",
              "    <tr>\n",
              "      <th>20</th>\n",
              "      <td>1.909848</td>\n",
              "    </tr>\n",
              "    <tr>\n",
              "      <th>21</th>\n",
              "      <td>1.910191</td>\n",
              "    </tr>\n",
              "    <tr>\n",
              "      <th>22</th>\n",
              "      <td>1.897384</td>\n",
              "    </tr>\n",
              "    <tr>\n",
              "      <th>23</th>\n",
              "      <td>1.897384</td>\n",
              "    </tr>\n",
              "    <tr>\n",
              "      <th>24</th>\n",
              "      <td>2.264679</td>\n",
              "    </tr>\n",
              "    <tr>\n",
              "      <th>25</th>\n",
              "      <td>2.179044</td>\n",
              "    </tr>\n",
              "    <tr>\n",
              "      <th>26</th>\n",
              "      <td>2.178681</td>\n",
              "    </tr>\n",
              "    <tr>\n",
              "      <th>27</th>\n",
              "      <td>2.174504</td>\n",
              "    </tr>\n",
              "  </tbody>\n",
              "</table>\n",
              "</div>"
            ],
            "text/plain": [
              "           0\n",
              "0   0.582486\n",
              "1   0.582486\n",
              "2   0.582486\n",
              "3   0.582486\n",
              "4   1.275485\n",
              "5   1.007845\n",
              "6   1.008131\n",
              "7   1.002769\n",
              "8   1.002769\n",
              "9   1.360877\n",
              "10  1.254090\n",
              "11  1.254090\n",
              "12  1.254090\n",
              "13  1.254090\n",
              "14  1.793524\n",
              "15  1.648132\n",
              "16  1.643382\n",
              "17  1.643382\n",
              "18  1.643382\n",
              "19  2.005153\n",
              "20  1.909848\n",
              "21  1.910191\n",
              "22  1.897384\n",
              "23  1.897384\n",
              "24  2.264679\n",
              "25  2.179044\n",
              "26  2.178681\n",
              "27  2.174504"
            ]
          },
          "metadata": {
            "tags": []
          },
          "execution_count": 71
        }
      ]
    },
    {
      "cell_type": "markdown",
      "metadata": {
        "id": "i2PfcNMR56cP",
        "colab_type": "text"
      },
      "source": [
        "## CNN"
      ]
    },
    {
      "cell_type": "code",
      "metadata": {
        "id": "httZ0YcIPNm-",
        "colab_type": "code",
        "colab": {}
      },
      "source": [
        "from keras.preprocessing import sequence\n",
        "from keras.models import Sequential\n",
        "from keras.layers import Dense, Embedding\n",
        "from keras.layers import LSTM\n",
        "from keras.datasets import imdb\n",
        "from keras.callbacks import EarlyStopping\n",
        "from keras.callbacks import ModelCheckpoint\n",
        "import numpy as np"
      ],
      "execution_count": 0,
      "outputs": []
    },
    {
      "cell_type": "code",
      "metadata": {
        "colab_type": "code",
        "outputId": "625274c8-e8f0-41e2-a7c3-2feb4a6eb5aa",
        "id": "eyrbLiVe1peh",
        "colab": {
          "base_uri": "https://localhost:8080/",
          "height": 204
        }
      },
      "source": [
        "prob_df1.head()"
      ],
      "execution_count": 73,
      "outputs": [
        {
          "output_type": "execute_result",
          "data": {
            "text/html": [
              "<div>\n",
              "<style scoped>\n",
              "    .dataframe tbody tr th:only-of-type {\n",
              "        vertical-align: middle;\n",
              "    }\n",
              "\n",
              "    .dataframe tbody tr th {\n",
              "        vertical-align: top;\n",
              "    }\n",
              "\n",
              "    .dataframe thead th {\n",
              "        text-align: right;\n",
              "    }\n",
              "</style>\n",
              "<table border=\"1\" class=\"dataframe\">\n",
              "  <thead>\n",
              "    <tr style=\"text-align: right;\">\n",
              "      <th></th>\n",
              "      <th>'BS 1'</th>\n",
              "      <th>'BS 2'</th>\n",
              "      <th>'SF'</th>\n",
              "      <th>'HDOP'</th>\n",
              "      <th>latitude</th>\n",
              "      <th>longitude</th>\n",
              "      <th>normalized_bs1</th>\n",
              "      <th>normalized_bs2</th>\n",
              "      <th>normalized_sf</th>\n",
              "      <th>normalized_hdop</th>\n",
              "    </tr>\n",
              "  </thead>\n",
              "  <tbody>\n",
              "    <tr>\n",
              "      <th>0</th>\n",
              "      <td>-49</td>\n",
              "      <td>-51</td>\n",
              "      <td>7</td>\n",
              "      <td>0.6</td>\n",
              "      <td>1.563657</td>\n",
              "      <td>0.244479</td>\n",
              "      <td>1.000000</td>\n",
              "      <td>0.977778</td>\n",
              "      <td>0.166667</td>\n",
              "      <td>0.0</td>\n",
              "    </tr>\n",
              "    <tr>\n",
              "      <th>1</th>\n",
              "      <td>-49</td>\n",
              "      <td>-51</td>\n",
              "      <td>7</td>\n",
              "      <td>0.6</td>\n",
              "      <td>1.563657</td>\n",
              "      <td>0.244479</td>\n",
              "      <td>1.000000</td>\n",
              "      <td>0.977778</td>\n",
              "      <td>0.166667</td>\n",
              "      <td>0.0</td>\n",
              "    </tr>\n",
              "    <tr>\n",
              "      <th>2</th>\n",
              "      <td>-49</td>\n",
              "      <td>-51</td>\n",
              "      <td>7</td>\n",
              "      <td>0.6</td>\n",
              "      <td>1.563657</td>\n",
              "      <td>0.244479</td>\n",
              "      <td>1.000000</td>\n",
              "      <td>0.977778</td>\n",
              "      <td>0.166667</td>\n",
              "      <td>0.0</td>\n",
              "    </tr>\n",
              "    <tr>\n",
              "      <th>3</th>\n",
              "      <td>-49</td>\n",
              "      <td>-50</td>\n",
              "      <td>8</td>\n",
              "      <td>0.6</td>\n",
              "      <td>1.563657</td>\n",
              "      <td>0.244479</td>\n",
              "      <td>1.000000</td>\n",
              "      <td>1.000000</td>\n",
              "      <td>0.333333</td>\n",
              "      <td>0.0</td>\n",
              "    </tr>\n",
              "    <tr>\n",
              "      <th>4</th>\n",
              "      <td>-50</td>\n",
              "      <td>-50</td>\n",
              "      <td>8</td>\n",
              "      <td>0.6</td>\n",
              "      <td>1.563657</td>\n",
              "      <td>0.244479</td>\n",
              "      <td>0.978261</td>\n",
              "      <td>1.000000</td>\n",
              "      <td>0.333333</td>\n",
              "      <td>0.0</td>\n",
              "    </tr>\n",
              "  </tbody>\n",
              "</table>\n",
              "</div>"
            ],
            "text/plain": [
              "   'BS 1'  'BS 2'  'SF'  ...  normalized_bs2  normalized_sf  normalized_hdop\n",
              "0     -49     -51     7  ...        0.977778       0.166667              0.0\n",
              "1     -49     -51     7  ...        0.977778       0.166667              0.0\n",
              "2     -49     -51     7  ...        0.977778       0.166667              0.0\n",
              "3     -49     -50     8  ...        1.000000       0.333333              0.0\n",
              "4     -50     -50     8  ...        1.000000       0.333333              0.0\n",
              "\n",
              "[5 rows x 10 columns]"
            ]
          },
          "metadata": {
            "tags": []
          },
          "execution_count": 73
        }
      ]
    },
    {
      "cell_type": "code",
      "metadata": {
        "colab_type": "code",
        "id": "U7u4BC-a1peu",
        "colab": {}
      },
      "source": [
        "prob_df_cnn = prob_df1[['normalized_bs1','normalized_bs2','normalized_sf','normalized_hdop','latitude','longitude']]"
      ],
      "execution_count": 0,
      "outputs": []
    },
    {
      "cell_type": "code",
      "metadata": {
        "colab_type": "code",
        "id": "F48v732-1pex",
        "colab": {}
      },
      "source": [
        "xarray=[]\n",
        "xarray=prob_df_cnn.as_matrix()"
      ],
      "execution_count": 0,
      "outputs": []
    },
    {
      "cell_type": "code",
      "metadata": {
        "colab_type": "code",
        "id": "1lGYPvnN1pe3",
        "colab": {}
      },
      "source": [
        "yarray=prob_df1[['latitude','longitude']].as_matrix()"
      ],
      "execution_count": 0,
      "outputs": []
    },
    {
      "cell_type": "code",
      "metadata": {
        "colab_type": "code",
        "id": "fmTYuktU1pe8",
        "colab": {}
      },
      "source": [
        "SEQUENCE_SIZE = 1\n",
        "import numpy as np\n",
        "\n",
        "def to_sequences(seq_size, data,data2):\n",
        "    x = []\n",
        "    y = []\n",
        "\n",
        "    for i in range(len(data)-SEQUENCE_SIZE-1):\n",
        "        #print(i)\n",
        "        window = data[i:(i+SEQUENCE_SIZE)]\n",
        "        after_window = data2[i+SEQUENCE_SIZE]\n",
        "        window = [[x] for x in window]\n",
        "        #print(\"{} - {}\".format(window,after_window))\n",
        "        x.append(window)\n",
        "        y.append(after_window)\n",
        "        \n",
        "    return np.array(x),np.array(y)"
      ],
      "execution_count": 0,
      "outputs": []
    },
    {
      "cell_type": "code",
      "metadata": {
        "colab_type": "code",
        "id": "wDTBrels1pe_",
        "colab": {}
      },
      "source": [
        "x,y = to_sequences(SEQUENCE_SIZE,xarray,yarray)"
      ],
      "execution_count": 0,
      "outputs": []
    },
    {
      "cell_type": "code",
      "metadata": {
        "colab_type": "code",
        "id": "h8dsJ0Ym1YWa",
        "colab": {}
      },
      "source": [
        "x_cnn = x.reshape(x.shape[0], 1, 1, 6)\n",
        "y_cnn = y.reshape(y.shape[0], 2)"
      ],
      "execution_count": 0,
      "outputs": []
    },
    {
      "cell_type": "code",
      "metadata": {
        "id": "eseBcUPrJoVb",
        "colab_type": "code",
        "colab": {}
      },
      "source": [
        "x_train_cnn = x_cnn[0:75]\n",
        "y_train_cnn = y_cnn[0:75]\n",
        "x_test_cnn = x_cnn[75:103]\n",
        "y_test_cnn = y_cnn[75:103]"
      ],
      "execution_count": 0,
      "outputs": []
    },
    {
      "cell_type": "code",
      "metadata": {
        "id": "gQ1hF9Pb56cW",
        "colab_type": "code",
        "outputId": "3cf6651b-2f57-49a8-970a-f71b0dced4cf",
        "colab": {
          "base_uri": "https://localhost:8080/",
          "height": 1000
        }
      },
      "source": [
        "from keras.layers import Dense, Dropout, Flatten\n",
        "from keras.layers import Conv2D, MaxPooling2D\n",
        "batch_size = 64\n",
        "\n",
        "import numpy as np\n",
        "import h5py\n",
        "\n",
        "f = h5py.File('/content/drive/My Drive/Colab Notebooks/masters_project/best_weights_fairclass2.hdf5','w')\n",
        "group = f.create_group('a_group')\n",
        "f.close()\n",
        "\n",
        "checkpointer = ModelCheckpoint(filepath=\"/content/drive/My Drive/Colab Notebooks/masters_project/best_weights_fairclass2.hdf5\", verbose=0, save_best_only=True) # save best model\n",
        "\n",
        "for i in range(2):\n",
        "    model = Sequential()\n",
        "    input_shape = (1, 1, 6)\n",
        "    model.add(Conv2D(1024, kernel_size=(3, 3), strides=(1, 1), padding='same',activation='relu',input_shape=input_shape)) \n",
        "    model.add(MaxPooling2D(pool_size=(2,2),padding='same'))\n",
        "    model.add(Conv2D(512, (3, 3), padding='same', activation='tanh'))\n",
        "    model.add(MaxPooling2D(pool_size=(2, 2), strides=None,padding='same'))\n",
        "    #model.add(Dropout(0.25))\n",
        "    model.add(Flatten())\n",
        "    model.add(Dense(256, activation='relu'))\n",
        "    model.add(Dropout(0.5))\n",
        "    model.add(Dense(2))\n",
        "    model.summary()\n",
        "    model.compile(loss=\"mean_squared_error\", optimizer=\"adam\")\n",
        "    monitor = EarlyStopping(monitor='val_loss', min_delta=1e-3, patience =5, verbose=2, mode='auto')\n",
        "    model.fit(x_train_cnn, y_train_cnn,batch_size=batch_size,epochs=3,verbose=1,validation_data=(x_test_cnn, y_test_cnn),callbacks=[monitor,checkpointer])\n",
        "\n",
        "model.load_weights('/content/drive/My Drive/Colab Notebooks/masters_project/best_weights_fairclass2.hdf5')\n",
        "pred = model.predict(x_test_cnn)"
      ],
      "execution_count": 81,
      "outputs": [
        {
          "output_type": "stream",
          "text": [
            "WARNING:tensorflow:From /usr/local/lib/python3.6/dist-packages/keras/backend/tensorflow_backend.py:4267: The name tf.nn.max_pool is deprecated. Please use tf.nn.max_pool2d instead.\n",
            "\n",
            "Model: \"sequential_11\"\n",
            "_________________________________________________________________\n",
            "Layer (type)                 Output Shape              Param #   \n",
            "=================================================================\n",
            "conv2d_1 (Conv2D)            (None, 1, 1, 1024)        56320     \n",
            "_________________________________________________________________\n",
            "max_pooling2d_1 (MaxPooling2 (None, 1, 1, 1024)        0         \n",
            "_________________________________________________________________\n",
            "conv2d_2 (Conv2D)            (None, 1, 1, 512)         4719104   \n",
            "_________________________________________________________________\n",
            "max_pooling2d_2 (MaxPooling2 (None, 1, 1, 512)         0         \n",
            "_________________________________________________________________\n",
            "flatten_1 (Flatten)          (None, 512)               0         \n",
            "_________________________________________________________________\n",
            "dense_36 (Dense)             (None, 256)               131328    \n",
            "_________________________________________________________________\n",
            "dropout_1 (Dropout)          (None, 256)               0         \n",
            "_________________________________________________________________\n",
            "dense_37 (Dense)             (None, 2)                 514       \n",
            "=================================================================\n",
            "Total params: 4,907,266\n",
            "Trainable params: 4,907,266\n",
            "Non-trainable params: 0\n",
            "_________________________________________________________________\n",
            "Train on 75 samples, validate on 28 samples\n",
            "Epoch 1/3\n",
            "75/75 [==============================] - 3s 46ms/step - loss: 0.6536 - val_loss: 1.8510\n",
            "Epoch 2/3\n",
            "75/75 [==============================] - 1s 13ms/step - loss: 0.3153 - val_loss: 1.9714\n",
            "Epoch 3/3\n",
            "75/75 [==============================] - 1s 13ms/step - loss: 0.1547 - val_loss: 1.8599\n",
            "Model: \"sequential_12\"\n",
            "_________________________________________________________________\n",
            "Layer (type)                 Output Shape              Param #   \n",
            "=================================================================\n",
            "conv2d_3 (Conv2D)            (None, 1, 1, 1024)        56320     \n",
            "_________________________________________________________________\n",
            "max_pooling2d_3 (MaxPooling2 (None, 1, 1, 1024)        0         \n",
            "_________________________________________________________________\n",
            "conv2d_4 (Conv2D)            (None, 1, 1, 512)         4719104   \n",
            "_________________________________________________________________\n",
            "max_pooling2d_4 (MaxPooling2 (None, 1, 1, 512)         0         \n",
            "_________________________________________________________________\n",
            "flatten_2 (Flatten)          (None, 512)               0         \n",
            "_________________________________________________________________\n",
            "dense_38 (Dense)             (None, 256)               131328    \n",
            "_________________________________________________________________\n",
            "dropout_2 (Dropout)          (None, 256)               0         \n",
            "_________________________________________________________________\n",
            "dense_39 (Dense)             (None, 2)                 514       \n",
            "=================================================================\n",
            "Total params: 4,907,266\n",
            "Trainable params: 4,907,266\n",
            "Non-trainable params: 0\n",
            "_________________________________________________________________\n",
            "Train on 75 samples, validate on 28 samples\n",
            "Epoch 1/3\n",
            "75/75 [==============================] - 3s 46ms/step - loss: 0.6590 - val_loss: 1.9215\n",
            "Epoch 2/3\n",
            "75/75 [==============================] - 1s 14ms/step - loss: 0.3382 - val_loss: 2.1477\n",
            "Epoch 3/3\n",
            "75/75 [==============================] - 1s 14ms/step - loss: 0.1484 - val_loss: 1.9912\n"
          ],
          "name": "stdout"
        }
      ]
    },
    {
      "cell_type": "code",
      "metadata": {
        "id": "3To0LwZo56cb",
        "colab_type": "code",
        "outputId": "a6988d40-c01a-48fb-b876-d3ee1d88d4d3",
        "colab": {
          "base_uri": "https://localhost:8080/",
          "height": 34
        }
      },
      "source": [
        "list_1 = []\n",
        "for p in range(len(pred)):\n",
        "  sum = pred[p][0]\n",
        "  list_1.append(sum)\n",
        "list_2 = []\n",
        "for l in range(len(pred)):\n",
        "  sum1 = pred[l][1]\n",
        "  list_2.append(sum1)\n",
        "pred_cnn_lat = pd.DataFrame(list_1, columns =['pred_latitude'])\n",
        "pred_cnn_long = pd.DataFrame(list_2, columns =['pred_longitude'])\n",
        "list_1 = []\n",
        "for p in range(len(y_test_cnn)):\n",
        "  sum = y_test_cnn[p][0]\n",
        "  list_1.append(sum)\n",
        "list_2 = []\n",
        "for l in range(len(y_test_cnn)):\n",
        "  sum1 = y_test_cnn[l][1]\n",
        "  list_2.append(sum1)\n",
        "y_test_cnn_lat = pd.DataFrame(list_1, columns =['pred_latitude'])\n",
        "y_test_cnn_long = pd.DataFrame(list_2, columns =['pred_longitude'])\n",
        "\n",
        "y_test_cnn = (((y_test_cnn_lat.pred_latitude.sub(pred_cnn_lat['pred_latitude']).pow(2).\n",
        "                              add(y_test_cnn_long.pred_longitude.sub(pred_cnn_long['pred_longitude']).pow(2))).pow(.5)))\n",
        "y_test_cnn_1 = y_test_cnn\n",
        "cnn_score_1 = y_test_cnn.mean()\n",
        "cnn_score_1"
      ],
      "execution_count": 82,
      "outputs": [
        {
          "output_type": "execute_result",
          "data": {
            "text/plain": [
              "1.8292749193713551"
            ]
          },
          "metadata": {
            "tags": []
          },
          "execution_count": 82
        }
      ]
    },
    {
      "cell_type": "code",
      "metadata": {
        "id": "KICqxzJW3oEv",
        "colab_type": "code",
        "colab": {}
      },
      "source": [
        "y_test_cnn_1 = y_test_cnn_1.to_frame()"
      ],
      "execution_count": 0,
      "outputs": []
    },
    {
      "cell_type": "code",
      "metadata": {
        "id": "e3hkEoYVN0ME",
        "colab_type": "code",
        "outputId": "a4ae9f27-b2dc-4172-9277-19c5dfcc4f55",
        "colab": {
          "base_uri": "https://localhost:8080/",
          "height": 917
        }
      },
      "source": [
        "y_test_cnn_1"
      ],
      "execution_count": 84,
      "outputs": [
        {
          "output_type": "execute_result",
          "data": {
            "text/html": [
              "<div>\n",
              "<style scoped>\n",
              "    .dataframe tbody tr th:only-of-type {\n",
              "        vertical-align: middle;\n",
              "    }\n",
              "\n",
              "    .dataframe tbody tr th {\n",
              "        vertical-align: top;\n",
              "    }\n",
              "\n",
              "    .dataframe thead th {\n",
              "        text-align: right;\n",
              "    }\n",
              "</style>\n",
              "<table border=\"1\" class=\"dataframe\">\n",
              "  <thead>\n",
              "    <tr style=\"text-align: right;\">\n",
              "      <th></th>\n",
              "      <th>0</th>\n",
              "    </tr>\n",
              "  </thead>\n",
              "  <tbody>\n",
              "    <tr>\n",
              "      <th>0</th>\n",
              "      <td>0.940091</td>\n",
              "    </tr>\n",
              "    <tr>\n",
              "      <th>1</th>\n",
              "      <td>0.940091</td>\n",
              "    </tr>\n",
              "    <tr>\n",
              "      <th>2</th>\n",
              "      <td>0.940091</td>\n",
              "    </tr>\n",
              "    <tr>\n",
              "      <th>3</th>\n",
              "      <td>0.940091</td>\n",
              "    </tr>\n",
              "    <tr>\n",
              "      <th>4</th>\n",
              "      <td>1.320425</td>\n",
              "    </tr>\n",
              "    <tr>\n",
              "      <th>5</th>\n",
              "      <td>1.298111</td>\n",
              "    </tr>\n",
              "    <tr>\n",
              "      <th>6</th>\n",
              "      <td>1.298214</td>\n",
              "    </tr>\n",
              "    <tr>\n",
              "      <th>7</th>\n",
              "      <td>1.297013</td>\n",
              "    </tr>\n",
              "    <tr>\n",
              "      <th>8</th>\n",
              "      <td>1.297013</td>\n",
              "    </tr>\n",
              "    <tr>\n",
              "      <th>9</th>\n",
              "      <td>1.577531</td>\n",
              "    </tr>\n",
              "    <tr>\n",
              "      <th>10</th>\n",
              "      <td>1.568057</td>\n",
              "    </tr>\n",
              "    <tr>\n",
              "      <th>11</th>\n",
              "      <td>1.568057</td>\n",
              "    </tr>\n",
              "    <tr>\n",
              "      <th>12</th>\n",
              "      <td>1.568057</td>\n",
              "    </tr>\n",
              "    <tr>\n",
              "      <th>13</th>\n",
              "      <td>1.568057</td>\n",
              "    </tr>\n",
              "    <tr>\n",
              "      <th>14</th>\n",
              "      <td>2.038501</td>\n",
              "    </tr>\n",
              "    <tr>\n",
              "      <th>15</th>\n",
              "      <td>2.047462</td>\n",
              "    </tr>\n",
              "    <tr>\n",
              "      <th>16</th>\n",
              "      <td>2.046640</td>\n",
              "    </tr>\n",
              "    <tr>\n",
              "      <th>17</th>\n",
              "      <td>2.046640</td>\n",
              "    </tr>\n",
              "    <tr>\n",
              "      <th>18</th>\n",
              "      <td>2.046640</td>\n",
              "    </tr>\n",
              "    <tr>\n",
              "      <th>19</th>\n",
              "      <td>2.378492</td>\n",
              "    </tr>\n",
              "    <tr>\n",
              "      <th>20</th>\n",
              "      <td>2.388512</td>\n",
              "    </tr>\n",
              "    <tr>\n",
              "      <th>21</th>\n",
              "      <td>2.388494</td>\n",
              "    </tr>\n",
              "    <tr>\n",
              "      <th>22</th>\n",
              "      <td>2.385828</td>\n",
              "    </tr>\n",
              "    <tr>\n",
              "      <th>23</th>\n",
              "      <td>2.385828</td>\n",
              "    </tr>\n",
              "    <tr>\n",
              "      <th>24</th>\n",
              "      <td>2.727070</td>\n",
              "    </tr>\n",
              "    <tr>\n",
              "      <th>25</th>\n",
              "      <td>2.739910</td>\n",
              "    </tr>\n",
              "    <tr>\n",
              "      <th>26</th>\n",
              "      <td>2.739795</td>\n",
              "    </tr>\n",
              "    <tr>\n",
              "      <th>27</th>\n",
              "      <td>2.738984</td>\n",
              "    </tr>\n",
              "  </tbody>\n",
              "</table>\n",
              "</div>"
            ],
            "text/plain": [
              "           0\n",
              "0   0.940091\n",
              "1   0.940091\n",
              "2   0.940091\n",
              "3   0.940091\n",
              "4   1.320425\n",
              "5   1.298111\n",
              "6   1.298214\n",
              "7   1.297013\n",
              "8   1.297013\n",
              "9   1.577531\n",
              "10  1.568057\n",
              "11  1.568057\n",
              "12  1.568057\n",
              "13  1.568057\n",
              "14  2.038501\n",
              "15  2.047462\n",
              "16  2.046640\n",
              "17  2.046640\n",
              "18  2.046640\n",
              "19  2.378492\n",
              "20  2.388512\n",
              "21  2.388494\n",
              "22  2.385828\n",
              "23  2.385828\n",
              "24  2.727070\n",
              "25  2.739910\n",
              "26  2.739795\n",
              "27  2.738984"
            ]
          },
          "metadata": {
            "tags": []
          },
          "execution_count": 84
        }
      ]
    },
    {
      "cell_type": "markdown",
      "metadata": {
        "colab_type": "text",
        "id": "Ah4HQsHAoICg"
      },
      "source": [
        "# Indoor Results (RVR 3rd Floor, CSUS)"
      ]
    },
    {
      "cell_type": "markdown",
      "metadata": {
        "id": "cRkj1fNxpJiv",
        "colab_type": "text"
      },
      "source": [
        "## Tabular Results"
      ]
    },
    {
      "cell_type": "markdown",
      "metadata": {
        "id": "FSqkdjGEjbKA",
        "colab_type": "text"
      },
      "source": [
        "**Indoor Localization using Deep Learning Techniques**"
      ]
    },
    {
      "cell_type": "code",
      "metadata": {
        "colab_type": "code",
        "id": "rT3SWWrOoICj",
        "colab": {}
      },
      "source": [
        "# initialise data of lists. \n",
        "data = {'Classifier':['ANN', 'LSTM','CNN'],'Error_Difference':[ann_mean_error, lstm_score, cnn_score_1], 'GPU_Run_Time':['65','79','82'], 'TPU_Run_Time':['63','76','83'], \n",
        "        'Neurons Count': ['60,30,15','512,256,128','1024,512,256'],'Activation_Function': [\"softmax\",\"sigmoid\",\"relu,tanh\"], 'Optimizer': [\"adam\",\"adam\",\"adam\"], 'Hidden_Layers': ['3','3','3'], 'Dropout_Layers': ['','0.1','0.5']} \n",
        "  \n",
        "# Creates pandas DataFrame. \n",
        "results_matrix_indoor = pd.DataFrame(data, index =['1', '2', '3'])\n",
        "  "
      ],
      "execution_count": 0,
      "outputs": []
    },
    {
      "cell_type": "code",
      "metadata": {
        "colab_type": "code",
        "id": "jz6-R1_CoICo",
        "outputId": "b168e1f2-1671-40e8-8625-253b11695075",
        "colab": {
          "base_uri": "https://localhost:8080/",
          "height": 142
        }
      },
      "source": [
        "results_matrix_indoor"
      ],
      "execution_count": 0,
      "outputs": [
        {
          "output_type": "execute_result",
          "data": {
            "text/html": [
              "<div>\n",
              "<style scoped>\n",
              "    .dataframe tbody tr th:only-of-type {\n",
              "        vertical-align: middle;\n",
              "    }\n",
              "\n",
              "    .dataframe tbody tr th {\n",
              "        vertical-align: top;\n",
              "    }\n",
              "\n",
              "    .dataframe thead th {\n",
              "        text-align: right;\n",
              "    }\n",
              "</style>\n",
              "<table border=\"1\" class=\"dataframe\">\n",
              "  <thead>\n",
              "    <tr style=\"text-align: right;\">\n",
              "      <th></th>\n",
              "      <th>Classifier</th>\n",
              "      <th>Error_Difference</th>\n",
              "      <th>GPU_Run_Time</th>\n",
              "      <th>TPU_Run_Time</th>\n",
              "      <th>Neurons Count</th>\n",
              "      <th>Activation_Function</th>\n",
              "      <th>Optimizer</th>\n",
              "      <th>Hidden_Layers</th>\n",
              "      <th>Dropout_Layers</th>\n",
              "    </tr>\n",
              "  </thead>\n",
              "  <tbody>\n",
              "    <tr>\n",
              "      <th>1</th>\n",
              "      <td>ANN</td>\n",
              "      <td>1.324271</td>\n",
              "      <td>65</td>\n",
              "      <td>63</td>\n",
              "      <td>60,30,15</td>\n",
              "      <td>softmax</td>\n",
              "      <td>adam</td>\n",
              "      <td>3</td>\n",
              "      <td></td>\n",
              "    </tr>\n",
              "    <tr>\n",
              "      <th>2</th>\n",
              "      <td>LSTM</td>\n",
              "      <td>1.409174</td>\n",
              "      <td>79</td>\n",
              "      <td>76</td>\n",
              "      <td>512,256,128</td>\n",
              "      <td>sigmoid</td>\n",
              "      <td>adam</td>\n",
              "      <td>3</td>\n",
              "      <td>0.1</td>\n",
              "    </tr>\n",
              "    <tr>\n",
              "      <th>3</th>\n",
              "      <td>CNN</td>\n",
              "      <td>1.804363</td>\n",
              "      <td>82</td>\n",
              "      <td>83</td>\n",
              "      <td>1024,512,256</td>\n",
              "      <td>relu,tanh</td>\n",
              "      <td>adam</td>\n",
              "      <td>3</td>\n",
              "      <td>0.5</td>\n",
              "    </tr>\n",
              "  </tbody>\n",
              "</table>\n",
              "</div>"
            ],
            "text/plain": [
              "  Classifier  Error_Difference  ... Hidden_Layers Dropout_Layers\n",
              "1        ANN          1.324271  ...             3               \n",
              "2       LSTM          1.409174  ...             3            0.1\n",
              "3        CNN          1.804363  ...             3            0.5\n",
              "\n",
              "[3 rows x 9 columns]"
            ]
          },
          "metadata": {
            "tags": []
          },
          "execution_count": 456
        }
      ]
    },
    {
      "cell_type": "markdown",
      "metadata": {
        "id": "uhnGNBKlqn7J",
        "colab_type": "text"
      },
      "source": [
        "## Comparison with hyperparameter-tuning Results (ANN)"
      ]
    },
    {
      "cell_type": "code",
      "metadata": {
        "id": "5N8gEfI9qk6G",
        "colab_type": "code",
        "colab": {}
      },
      "source": [
        "# initialise data of lists. \n",
        "data = {'Classifier':['ANN_Original','Hyperparameter_ANN_1','Hyperparameter_ANN_2'],'Error_Difference':[ann_mean_error, ann_hypertune_1,ann_hypertune_2], 'GPU_Run_Time':['65','71','72'], 'TPU_Run_Time':['63','68','71'], \n",
        "        'Neurons Count': ['60,30,15','15,10,5','45,30,15'],'Activation_Function': [\"softmax\",\"sigmoid\",\"sigmoid\"], 'Optimizer': [\"Adam\",\"Adam\",\"RMSprop\"], 'Hidden_Layers': ['3','3','3'], 'Batch_Size':['256','512','256'],'Dropout_Layer':['-','-','-'],'Recurrent_Dropout':['-','-','-'],'Kernel_Size':['-','-','-'],'Strides':['-','-','-'],'Pool_Size':['-','-','-']} \n",
        "  \n",
        "# Creates pandas DataFrame. \n",
        "results_matrix_ann = pd.DataFrame(data, index =['1', '2', '3'])\n",
        "  "
      ],
      "execution_count": 0,
      "outputs": []
    },
    {
      "cell_type": "code",
      "metadata": {
        "id": "ZOBMJEXTyJRH",
        "colab_type": "code",
        "outputId": "eb122a89-4f0e-40de-c011-44e70fd0bcc2",
        "colab": {
          "base_uri": "https://localhost:8080/",
          "height": 142
        }
      },
      "source": [
        "results_matrix_ann"
      ],
      "execution_count": 0,
      "outputs": [
        {
          "output_type": "execute_result",
          "data": {
            "text/html": [
              "<div>\n",
              "<style scoped>\n",
              "    .dataframe tbody tr th:only-of-type {\n",
              "        vertical-align: middle;\n",
              "    }\n",
              "\n",
              "    .dataframe tbody tr th {\n",
              "        vertical-align: top;\n",
              "    }\n",
              "\n",
              "    .dataframe thead th {\n",
              "        text-align: right;\n",
              "    }\n",
              "</style>\n",
              "<table border=\"1\" class=\"dataframe\">\n",
              "  <thead>\n",
              "    <tr style=\"text-align: right;\">\n",
              "      <th></th>\n",
              "      <th>Classifier</th>\n",
              "      <th>Error_Difference</th>\n",
              "      <th>GPU_Run_Time</th>\n",
              "      <th>TPU_Run_Time</th>\n",
              "      <th>Neurons Count</th>\n",
              "      <th>Activation_Function</th>\n",
              "      <th>Optimizer</th>\n",
              "      <th>Hidden_Layers</th>\n",
              "      <th>Batch_Size</th>\n",
              "      <th>Dropout_Layer</th>\n",
              "      <th>Recurrent_Dropout</th>\n",
              "      <th>Kernel_Size</th>\n",
              "      <th>Strides</th>\n",
              "      <th>Pool_Size</th>\n",
              "    </tr>\n",
              "  </thead>\n",
              "  <tbody>\n",
              "    <tr>\n",
              "      <th>1</th>\n",
              "      <td>ANN_Original</td>\n",
              "      <td>1.324271</td>\n",
              "      <td>65</td>\n",
              "      <td>63</td>\n",
              "      <td>60,30,15</td>\n",
              "      <td>softmax</td>\n",
              "      <td>Adam</td>\n",
              "      <td>3</td>\n",
              "      <td>-</td>\n",
              "      <td>-</td>\n",
              "      <td>-</td>\n",
              "      <td>-</td>\n",
              "      <td>-</td>\n",
              "      <td>-</td>\n",
              "    </tr>\n",
              "    <tr>\n",
              "      <th>2</th>\n",
              "      <td>Hyperparameter_ANN_1</td>\n",
              "      <td>1.270332</td>\n",
              "      <td>71</td>\n",
              "      <td>68</td>\n",
              "      <td>15,10,5</td>\n",
              "      <td>sigmoid</td>\n",
              "      <td>Adam</td>\n",
              "      <td>3</td>\n",
              "      <td>-</td>\n",
              "      <td>-</td>\n",
              "      <td>-</td>\n",
              "      <td>-</td>\n",
              "      <td>-</td>\n",
              "      <td>-</td>\n",
              "    </tr>\n",
              "    <tr>\n",
              "      <th>3</th>\n",
              "      <td>Hyperparameter_ANN_2</td>\n",
              "      <td>1.286759</td>\n",
              "      <td>72</td>\n",
              "      <td>71</td>\n",
              "      <td>45,30,15</td>\n",
              "      <td>sigmoid</td>\n",
              "      <td>RMSprop</td>\n",
              "      <td>3</td>\n",
              "      <td>-</td>\n",
              "      <td>-</td>\n",
              "      <td>-</td>\n",
              "      <td>-</td>\n",
              "      <td>-</td>\n",
              "      <td>-</td>\n",
              "    </tr>\n",
              "  </tbody>\n",
              "</table>\n",
              "</div>"
            ],
            "text/plain": [
              "             Classifier  Error_Difference  ... Strides Pool_Size\n",
              "1          ANN_Original          1.324271  ...       -         -\n",
              "2  Hyperparameter_ANN_1          1.270332  ...       -         -\n",
              "3  Hyperparameter_ANN_2          1.286759  ...       -         -\n",
              "\n",
              "[3 rows x 14 columns]"
            ]
          },
          "metadata": {
            "tags": []
          },
          "execution_count": 450
        }
      ]
    },
    {
      "cell_type": "markdown",
      "metadata": {
        "colab_type": "text",
        "id": "Q7tZmuNEyVoe"
      },
      "source": [
        "## Comparison with hyperparameter-tuning Results (LSTM)"
      ]
    },
    {
      "cell_type": "code",
      "metadata": {
        "colab_type": "code",
        "id": "iAXedQS6yVoh",
        "colab": {}
      },
      "source": [
        "# initialise data of lists. \n",
        "data = {'Classifier':['LSTM_Original','Hyperparameter_LSTM_1','Hyperparameter_LSTM_2'],'Error_Difference':[lstm_score,lstm_score_2,lstm_score_3], 'GPU_Run_Time':['66','67','71'], 'TPU_Run_Time':['71','70','66'], \n",
        "        'Neurons Count': ['512,256,128','1024,512,216','1024,512,216'],'Activation_Function': [\"Relu\",\"Sigmoid\",\"Sigmoid\"],'Optimizer': [\"Adam\",\"RMSProp\",\"SGD\"], 'Hidden_Layers': ['3','3','3'], 'Batch_Size':['512','81','256'],'Dropout_Layer':['0.1','0.5','0.3'],'Recurrent_Dropout':['0.1','0.1','0.1'],'Kernel_Size':['-','-','-'],'Strides':['-','-','-'],'Pool_Size':['-','-','-']} \n",
        "  \n",
        "# Creates pandas DataFrame. \n",
        "results_matrix_lstm = pd.DataFrame(data, index =['1', '2','3'])\n",
        "  "
      ],
      "execution_count": 0,
      "outputs": []
    },
    {
      "cell_type": "code",
      "metadata": {
        "colab_type": "code",
        "outputId": "d0848f81-622a-44bf-93f2-1b2f91d965bd",
        "id": "t-O5N0wCyVoj",
        "colab": {
          "base_uri": "https://localhost:8080/",
          "height": 142
        }
      },
      "source": [
        "results_matrix_lstm"
      ],
      "execution_count": 0,
      "outputs": [
        {
          "output_type": "execute_result",
          "data": {
            "text/html": [
              "<div>\n",
              "<style scoped>\n",
              "    .dataframe tbody tr th:only-of-type {\n",
              "        vertical-align: middle;\n",
              "    }\n",
              "\n",
              "    .dataframe tbody tr th {\n",
              "        vertical-align: top;\n",
              "    }\n",
              "\n",
              "    .dataframe thead th {\n",
              "        text-align: right;\n",
              "    }\n",
              "</style>\n",
              "<table border=\"1\" class=\"dataframe\">\n",
              "  <thead>\n",
              "    <tr style=\"text-align: right;\">\n",
              "      <th></th>\n",
              "      <th>Classifier</th>\n",
              "      <th>Error_Difference</th>\n",
              "      <th>GPU_Run_Time</th>\n",
              "      <th>TPU_Run_Time</th>\n",
              "      <th>Neurons Count</th>\n",
              "      <th>Activation_Function</th>\n",
              "      <th>Optimizer</th>\n",
              "      <th>Hidden_Layers</th>\n",
              "      <th>Batch_Size</th>\n",
              "      <th>Dropout_Layer</th>\n",
              "      <th>Recurrent_Dropout</th>\n",
              "      <th>Kernel_Size</th>\n",
              "      <th>Strides</th>\n",
              "      <th>Pool_Size</th>\n",
              "    </tr>\n",
              "  </thead>\n",
              "  <tbody>\n",
              "    <tr>\n",
              "      <th>1</th>\n",
              "      <td>LSTM_Original</td>\n",
              "      <td>1.409174</td>\n",
              "      <td>66</td>\n",
              "      <td>71</td>\n",
              "      <td>512,256,128</td>\n",
              "      <td>Relu</td>\n",
              "      <td>Adam</td>\n",
              "      <td>3</td>\n",
              "      <td>512</td>\n",
              "      <td>0.1</td>\n",
              "      <td>0.1</td>\n",
              "      <td>-</td>\n",
              "      <td>-</td>\n",
              "      <td>-</td>\n",
              "    </tr>\n",
              "    <tr>\n",
              "      <th>2</th>\n",
              "      <td>Hyperparameter_LSTM_1</td>\n",
              "      <td>1.348190</td>\n",
              "      <td>67</td>\n",
              "      <td>70</td>\n",
              "      <td>1024,512,216</td>\n",
              "      <td>Sigmoid</td>\n",
              "      <td>RMSProp</td>\n",
              "      <td>3</td>\n",
              "      <td>81</td>\n",
              "      <td>0.5</td>\n",
              "      <td>0.1</td>\n",
              "      <td>-</td>\n",
              "      <td>-</td>\n",
              "      <td>-</td>\n",
              "    </tr>\n",
              "    <tr>\n",
              "      <th>3</th>\n",
              "      <td>Hyperparameter_LSTM_2</td>\n",
              "      <td>1.799690</td>\n",
              "      <td>71</td>\n",
              "      <td>66</td>\n",
              "      <td>1024,512,216</td>\n",
              "      <td>Sigmoid</td>\n",
              "      <td>SGD</td>\n",
              "      <td>3</td>\n",
              "      <td>256</td>\n",
              "      <td>0.3</td>\n",
              "      <td>0.1</td>\n",
              "      <td>-</td>\n",
              "      <td>-</td>\n",
              "      <td>-</td>\n",
              "    </tr>\n",
              "  </tbody>\n",
              "</table>\n",
              "</div>"
            ],
            "text/plain": [
              "              Classifier  Error_Difference  ... Strides Pool_Size\n",
              "1          LSTM_Original          1.409174  ...       -         -\n",
              "2  Hyperparameter_LSTM_1          1.348190  ...       -         -\n",
              "3  Hyperparameter_LSTM_2          1.799690  ...       -         -\n",
              "\n",
              "[3 rows x 14 columns]"
            ]
          },
          "metadata": {
            "tags": []
          },
          "execution_count": 460
        }
      ]
    },
    {
      "cell_type": "markdown",
      "metadata": {
        "colab_type": "text",
        "id": "3yxSlCQ0yW51"
      },
      "source": [
        "## Comparison with hyperparameter-tuning Results (CNN)"
      ]
    },
    {
      "cell_type": "code",
      "metadata": {
        "colab_type": "code",
        "id": "G8392tffyW52",
        "colab": {}
      },
      "source": [
        "# initialise data of lists. \n",
        "data = {'Classifier':['CNN_Original','Hyperparameter_CNN_1','Hyperparameter_CNN_2'],'Error_Difference':[cnn_score_1,cnn_score_2,cnn_score_3], 'GPU_Run_Time':['68','71','63'], 'TPU_Run_Time':['62','64','66'], 'Neurons Count': ['1024,512,256','512,256,128','64,128,512'], 'Hidden_Layers': ['3','3','3'],\n",
        "        'Activation_Function': [\"Relu, Tanh\",\"Tanh, Sigmoid\",\"Tanh, Tanh\"], 'Optimizer': [\"Adam\",\"Adam\",\"SGD\"], 'Dropout_Layer': ['0.1','0.5','0.5'],'Recurrent_Dropout':['-','-','-'],'Batch_Size':['64','81','128'],'Kernel_Size':['(3,3)','(3,3)','(3,3)'],'Strides':['(1,1)','(1,1)','(1,1)'],'Pool_Size':['(2,2)','(2,2)','(2,2)']} \n",
        "  \n",
        "# Creates pandas DataFrame. \n",
        "results_matrix_cnn = pd.DataFrame(data, index =['1', '2', '3'])\n",
        "  "
      ],
      "execution_count": 0,
      "outputs": []
    },
    {
      "cell_type": "code",
      "metadata": {
        "colab_type": "code",
        "outputId": "1427e0aa-1c96-4f2c-b4ed-ffc2d343c9ed",
        "id": "WiGL4joPyW54",
        "colab": {
          "base_uri": "https://localhost:8080/",
          "height": 142
        }
      },
      "source": [
        "results_matrix_cnn"
      ],
      "execution_count": 0,
      "outputs": [
        {
          "output_type": "execute_result",
          "data": {
            "text/html": [
              "<div>\n",
              "<style scoped>\n",
              "    .dataframe tbody tr th:only-of-type {\n",
              "        vertical-align: middle;\n",
              "    }\n",
              "\n",
              "    .dataframe tbody tr th {\n",
              "        vertical-align: top;\n",
              "    }\n",
              "\n",
              "    .dataframe thead th {\n",
              "        text-align: right;\n",
              "    }\n",
              "</style>\n",
              "<table border=\"1\" class=\"dataframe\">\n",
              "  <thead>\n",
              "    <tr style=\"text-align: right;\">\n",
              "      <th></th>\n",
              "      <th>Classifier</th>\n",
              "      <th>Error_Difference</th>\n",
              "      <th>GPU_Run_Time</th>\n",
              "      <th>TPU_Run_Time</th>\n",
              "      <th>Neurons Count</th>\n",
              "      <th>Hidden_Layers</th>\n",
              "      <th>Activation_Function</th>\n",
              "      <th>Optimizer</th>\n",
              "      <th>Dropout_Layer</th>\n",
              "      <th>Recurrent_Dropout</th>\n",
              "      <th>Batch_Size</th>\n",
              "      <th>Kernel_Size</th>\n",
              "      <th>Strides</th>\n",
              "      <th>Pool_Size</th>\n",
              "    </tr>\n",
              "  </thead>\n",
              "  <tbody>\n",
              "    <tr>\n",
              "      <th>1</th>\n",
              "      <td>CNN_Original</td>\n",
              "      <td>1.804363</td>\n",
              "      <td>68</td>\n",
              "      <td>62</td>\n",
              "      <td>1024,512,256</td>\n",
              "      <td>3</td>\n",
              "      <td>Relu, Tanh</td>\n",
              "      <td>Adam</td>\n",
              "      <td>0.1</td>\n",
              "      <td>-</td>\n",
              "      <td>64</td>\n",
              "      <td>(3,3)</td>\n",
              "      <td>(1,1)</td>\n",
              "      <td>(2,2)</td>\n",
              "    </tr>\n",
              "    <tr>\n",
              "      <th>2</th>\n",
              "      <td>Hyperparameter_CNN_1</td>\n",
              "      <td>1.886141</td>\n",
              "      <td>71</td>\n",
              "      <td>64</td>\n",
              "      <td>512,256,128</td>\n",
              "      <td>3</td>\n",
              "      <td>Tanh, Sigmoid</td>\n",
              "      <td>Adam</td>\n",
              "      <td>0.5</td>\n",
              "      <td>-</td>\n",
              "      <td>81</td>\n",
              "      <td>(3,3)</td>\n",
              "      <td>(1,1)</td>\n",
              "      <td>(2,2)</td>\n",
              "    </tr>\n",
              "    <tr>\n",
              "      <th>3</th>\n",
              "      <td>Hyperparameter_CNN_2</td>\n",
              "      <td>1.786397</td>\n",
              "      <td>63</td>\n",
              "      <td>66</td>\n",
              "      <td>64,128,512</td>\n",
              "      <td>3</td>\n",
              "      <td>Tanh, Tanh</td>\n",
              "      <td>SGD</td>\n",
              "      <td>0.5</td>\n",
              "      <td>-</td>\n",
              "      <td>128</td>\n",
              "      <td>(3,3)</td>\n",
              "      <td>(1,1)</td>\n",
              "      <td>(2,2)</td>\n",
              "    </tr>\n",
              "  </tbody>\n",
              "</table>\n",
              "</div>"
            ],
            "text/plain": [
              "             Classifier  Error_Difference  ... Strides Pool_Size\n",
              "1          CNN_Original          1.804363  ...   (1,1)     (2,2)\n",
              "2  Hyperparameter_CNN_1          1.886141  ...   (1,1)     (2,2)\n",
              "3  Hyperparameter_CNN_2          1.786397  ...   (1,1)     (2,2)\n",
              "\n",
              "[3 rows x 14 columns]"
            ]
          },
          "metadata": {
            "tags": []
          },
          "execution_count": 478
        }
      ]
    },
    {
      "cell_type": "code",
      "metadata": {
        "id": "FbjMNxby5pHB",
        "colab_type": "code",
        "colab": {}
      },
      "source": [
        "df_final = pd.concat([results_matrix_ann, results_matrix_lstm, results_matrix_cnn],ignore_index=True, sort=False)"
      ],
      "execution_count": 0,
      "outputs": []
    },
    {
      "cell_type": "code",
      "metadata": {
        "id": "TDDXd4_l5v36",
        "colab_type": "code",
        "outputId": "6b817cf1-7852-4616-dcf2-90a7a4e26f04",
        "colab": {
          "base_uri": "https://localhost:8080/",
          "height": 328
        }
      },
      "source": [
        "df_final"
      ],
      "execution_count": 0,
      "outputs": [
        {
          "output_type": "execute_result",
          "data": {
            "text/html": [
              "<div>\n",
              "<style scoped>\n",
              "    .dataframe tbody tr th:only-of-type {\n",
              "        vertical-align: middle;\n",
              "    }\n",
              "\n",
              "    .dataframe tbody tr th {\n",
              "        vertical-align: top;\n",
              "    }\n",
              "\n",
              "    .dataframe thead th {\n",
              "        text-align: right;\n",
              "    }\n",
              "</style>\n",
              "<table border=\"1\" class=\"dataframe\">\n",
              "  <thead>\n",
              "    <tr style=\"text-align: right;\">\n",
              "      <th></th>\n",
              "      <th>Classifier</th>\n",
              "      <th>Error_Difference</th>\n",
              "      <th>GPU_Run_Time</th>\n",
              "      <th>TPU_Run_Time</th>\n",
              "      <th>Neurons Count</th>\n",
              "      <th>Activation_Function</th>\n",
              "      <th>Optimizer</th>\n",
              "      <th>Hidden_Layers</th>\n",
              "      <th>Batch_Size</th>\n",
              "      <th>Dropout_Layer</th>\n",
              "      <th>Recurrent_Dropout</th>\n",
              "      <th>Kernel_Size</th>\n",
              "      <th>Strides</th>\n",
              "      <th>Pool_Size</th>\n",
              "    </tr>\n",
              "  </thead>\n",
              "  <tbody>\n",
              "    <tr>\n",
              "      <th>0</th>\n",
              "      <td>ANN_Original</td>\n",
              "      <td>1.324271</td>\n",
              "      <td>65</td>\n",
              "      <td>63</td>\n",
              "      <td>60,30,15</td>\n",
              "      <td>softmax</td>\n",
              "      <td>Adam</td>\n",
              "      <td>3</td>\n",
              "      <td>-</td>\n",
              "      <td>-</td>\n",
              "      <td>-</td>\n",
              "      <td>-</td>\n",
              "      <td>-</td>\n",
              "      <td>-</td>\n",
              "    </tr>\n",
              "    <tr>\n",
              "      <th>1</th>\n",
              "      <td>Hyperparameter_ANN_1</td>\n",
              "      <td>1.270332</td>\n",
              "      <td>71</td>\n",
              "      <td>68</td>\n",
              "      <td>15,10,5</td>\n",
              "      <td>sigmoid</td>\n",
              "      <td>Adam</td>\n",
              "      <td>3</td>\n",
              "      <td>-</td>\n",
              "      <td>-</td>\n",
              "      <td>-</td>\n",
              "      <td>-</td>\n",
              "      <td>-</td>\n",
              "      <td>-</td>\n",
              "    </tr>\n",
              "    <tr>\n",
              "      <th>2</th>\n",
              "      <td>Hyperparameter_ANN_2</td>\n",
              "      <td>1.286759</td>\n",
              "      <td>72</td>\n",
              "      <td>71</td>\n",
              "      <td>45,30,15</td>\n",
              "      <td>sigmoid</td>\n",
              "      <td>RMSprop</td>\n",
              "      <td>3</td>\n",
              "      <td>-</td>\n",
              "      <td>-</td>\n",
              "      <td>-</td>\n",
              "      <td>-</td>\n",
              "      <td>-</td>\n",
              "      <td>-</td>\n",
              "    </tr>\n",
              "    <tr>\n",
              "      <th>3</th>\n",
              "      <td>LSTM_Original</td>\n",
              "      <td>1.409174</td>\n",
              "      <td>66</td>\n",
              "      <td>71</td>\n",
              "      <td>512,256,128</td>\n",
              "      <td>Relu</td>\n",
              "      <td>Adam</td>\n",
              "      <td>3</td>\n",
              "      <td>512</td>\n",
              "      <td>0.1</td>\n",
              "      <td>0.1</td>\n",
              "      <td>-</td>\n",
              "      <td>-</td>\n",
              "      <td>-</td>\n",
              "    </tr>\n",
              "    <tr>\n",
              "      <th>4</th>\n",
              "      <td>Hyperparameter_LSTM_1</td>\n",
              "      <td>1.348190</td>\n",
              "      <td>67</td>\n",
              "      <td>70</td>\n",
              "      <td>1024,512,216</td>\n",
              "      <td>Sigmoid</td>\n",
              "      <td>RMSProp</td>\n",
              "      <td>3</td>\n",
              "      <td>81</td>\n",
              "      <td>0.5</td>\n",
              "      <td>0.1</td>\n",
              "      <td>-</td>\n",
              "      <td>-</td>\n",
              "      <td>-</td>\n",
              "    </tr>\n",
              "    <tr>\n",
              "      <th>5</th>\n",
              "      <td>Hyperparameter_LSTM_2</td>\n",
              "      <td>1.799690</td>\n",
              "      <td>71</td>\n",
              "      <td>66</td>\n",
              "      <td>1024,512,216</td>\n",
              "      <td>Sigmoid</td>\n",
              "      <td>SGD</td>\n",
              "      <td>3</td>\n",
              "      <td>256</td>\n",
              "      <td>0.3</td>\n",
              "      <td>0.1</td>\n",
              "      <td>-</td>\n",
              "      <td>-</td>\n",
              "      <td>-</td>\n",
              "    </tr>\n",
              "    <tr>\n",
              "      <th>6</th>\n",
              "      <td>CNN_Original</td>\n",
              "      <td>1.804363</td>\n",
              "      <td>68</td>\n",
              "      <td>62</td>\n",
              "      <td>1024,512,256</td>\n",
              "      <td>Relu, Tanh</td>\n",
              "      <td>Adam</td>\n",
              "      <td>3</td>\n",
              "      <td>64</td>\n",
              "      <td>0.1</td>\n",
              "      <td>-</td>\n",
              "      <td>(3,3)</td>\n",
              "      <td>(1,1)</td>\n",
              "      <td>(2,2)</td>\n",
              "    </tr>\n",
              "    <tr>\n",
              "      <th>7</th>\n",
              "      <td>Hyperparameter_CNN_1</td>\n",
              "      <td>1.886141</td>\n",
              "      <td>71</td>\n",
              "      <td>64</td>\n",
              "      <td>512,256,128</td>\n",
              "      <td>Tanh, Sigmoid</td>\n",
              "      <td>Adam</td>\n",
              "      <td>3</td>\n",
              "      <td>81</td>\n",
              "      <td>0.5</td>\n",
              "      <td>-</td>\n",
              "      <td>(3,3)</td>\n",
              "      <td>(1,1)</td>\n",
              "      <td>(2,2)</td>\n",
              "    </tr>\n",
              "    <tr>\n",
              "      <th>8</th>\n",
              "      <td>Hyperparameter_CNN_2</td>\n",
              "      <td>1.786397</td>\n",
              "      <td>63</td>\n",
              "      <td>66</td>\n",
              "      <td>64,128,512</td>\n",
              "      <td>Tanh, Tanh</td>\n",
              "      <td>SGD</td>\n",
              "      <td>3</td>\n",
              "      <td>128</td>\n",
              "      <td>0.5</td>\n",
              "      <td>-</td>\n",
              "      <td>(3,3)</td>\n",
              "      <td>(1,1)</td>\n",
              "      <td>(2,2)</td>\n",
              "    </tr>\n",
              "  </tbody>\n",
              "</table>\n",
              "</div>"
            ],
            "text/plain": [
              "              Classifier  Error_Difference  ... Strides Pool_Size\n",
              "0           ANN_Original          1.324271  ...       -         -\n",
              "1   Hyperparameter_ANN_1          1.270332  ...       -         -\n",
              "2   Hyperparameter_ANN_2          1.286759  ...       -         -\n",
              "3          LSTM_Original          1.409174  ...       -         -\n",
              "4  Hyperparameter_LSTM_1          1.348190  ...       -         -\n",
              "5  Hyperparameter_LSTM_2          1.799690  ...       -         -\n",
              "6           CNN_Original          1.804363  ...   (1,1)     (2,2)\n",
              "7   Hyperparameter_CNN_1          1.886141  ...   (1,1)     (2,2)\n",
              "8   Hyperparameter_CNN_2          1.786397  ...   (1,1)     (2,2)\n",
              "\n",
              "[9 rows x 14 columns]"
            ]
          },
          "metadata": {
            "tags": []
          },
          "execution_count": 480
        }
      ]
    },
    {
      "cell_type": "code",
      "metadata": {
        "id": "2b2OCc-eqFyE",
        "colab_type": "code",
        "colab": {}
      },
      "source": [
        "df_final.to_csv(r'/content/drive/My Drive/Colab Notebooks/masters_project/indoor_results.csv')"
      ],
      "execution_count": 0,
      "outputs": []
    },
    {
      "cell_type": "markdown",
      "metadata": {
        "id": "9imlY6vxvPPh",
        "colab_type": "text"
      },
      "source": [
        "## Graphical Results"
      ]
    },
    {
      "cell_type": "code",
      "metadata": {
        "id": "1pvBQ12EvR1f",
        "colab_type": "code",
        "colab": {}
      },
      "source": [
        "df_final['GPU_Run_Time'] = df_final['GPU_Run_Time'].astype(int)\n",
        "df_final['TPU_Run_Time'] = df_final['TPU_Run_Time'].astype(int)\n",
        "df_final['Error_Difference'] = df_final['Error_Difference'].astype(float)\n",
        "results_matrix_indoor['GPU_Run_Time'] = results_matrix_indoor['GPU_Run_Time'].astype(int)\n",
        "results_matrix_indoor['TPU_Run_Time'] = results_matrix_indoor['TPU_Run_Time'].astype(int)\n",
        "results_matrix_indoor['Error_Difference'] = results_matrix_indoor['Error_Difference'].astype(float)"
      ],
      "execution_count": 0,
      "outputs": []
    },
    {
      "cell_type": "code",
      "metadata": {
        "id": "f34PkCbmBC_C",
        "colab_type": "code",
        "outputId": "7deb8747-790f-4f5f-f681-ef5bef9020fb",
        "colab": {
          "base_uri": "https://localhost:8080/",
          "height": 746
        }
      },
      "source": [
        "# Pairplot of all numerical value\n",
        "sns.pairplot(df_final,hue='Classifier')"
      ],
      "execution_count": 0,
      "outputs": [
        {
          "output_type": "execute_result",
          "data": {
            "text/plain": [
              "<seaborn.axisgrid.PairGrid at 0x7fb4aa7257b8>"
            ]
          },
          "metadata": {
            "tags": []
          },
          "execution_count": 473
        },
        {
          "output_type": "display_data",
          "data": {
            "image/png": "[encoded data removed]",
            "text/plain": [
              "<Figure size 881.125x720 with 20 Axes>"
            ]
          },
          "metadata": {
            "tags": []
          }
        }
      ]
    },
    {
      "cell_type": "code",
      "metadata": {
        "colab_type": "code",
        "outputId": "05a4dff7-bba7-4fc3-b8d3-e62036c26417",
        "id": "yUbgDCbnfts3",
        "colab": {
          "base_uri": "https://localhost:8080/",
          "height": 301
        }
      },
      "source": [
        "sns.distplot(df_final['Error_Difference'])"
      ],
      "execution_count": 0,
      "outputs": [
        {
          "output_type": "execute_result",
          "data": {
            "text/plain": [
              "<matplotlib.axes._subplots.AxesSubplot at 0x7fb4a9c24a20>"
            ]
          },
          "metadata": {
            "tags": []
          },
          "execution_count": 474
        },
        {
          "output_type": "display_data",
          "data": {
            "image/png": "[encoded data removed]",
            "text/plain": [
              "<Figure size 432x288 with 1 Axes>"
            ]
          },
          "metadata": {
            "tags": []
          }
        }
      ]
    },
    {
      "cell_type": "code",
      "metadata": {
        "id": "_I3ueyAkIURH",
        "colab_type": "code",
        "outputId": "4028434d-6d3d-409c-bd3a-cc31d5becb8c",
        "colab": {
          "base_uri": "https://localhost:8080/",
          "height": 458
        }
      },
      "source": [
        "# LSTM error vs batch size\n",
        "sns.jointplot(x='Error_Difference', y='Batch_Size', data = results_matrix_lstm, kind = 'kde')"
      ],
      "execution_count": 0,
      "outputs": [
        {
          "output_type": "execute_result",
          "data": {
            "text/plain": [
              "<seaborn.axisgrid.JointGrid at 0x7fb4a9dfe2e8>"
            ]
          },
          "metadata": {
            "tags": []
          },
          "execution_count": 475
        },
        {
          "output_type": "display_data",
          "data": {
            "image/png": "[encoded data removed]",
            "text/plain": [
              "<Figure size 432x432 with 3 Axes>"
            ]
          },
          "metadata": {
            "tags": []
          }
        }
      ]
    },
    {
      "cell_type": "code",
      "metadata": {
        "id": "zk8-1_2sJyzb",
        "colab_type": "code",
        "outputId": "d61d1f05-42e2-4390-fb51-f1a57b0bf574",
        "colab": {
          "base_uri": "https://localhost:8080/",
          "height": 458
        }
      },
      "source": [
        "# CNN error vs batch size\n",
        "sns.jointplot(x='Error_Difference', y='Batch_Size', data = results_matrix_cnn, kind = 'kde')"
      ],
      "execution_count": 0,
      "outputs": [
        {
          "output_type": "execute_result",
          "data": {
            "text/plain": [
              "<seaborn.axisgrid.JointGrid at 0x7fb4a9ca10b8>"
            ]
          },
          "metadata": {
            "tags": []
          },
          "execution_count": 476
        },
        {
          "output_type": "display_data",
          "data": {
            "image/png": "[encoded data removed]",
            "text/plain": [
              "<Figure size 432x432 with 3 Axes>"
            ]
          },
          "metadata": {
            "tags": []
          }
        }
      ]
    },
    {
      "cell_type": "code",
      "metadata": {
        "id": "PocSJNzGJ-ZC",
        "colab_type": "code",
        "colab": {}
      },
      "source": [
        ""
      ],
      "execution_count": 0,
      "outputs": []
    }
  ]
}